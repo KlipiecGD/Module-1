{
 "cells": [
  {
   "cell_type": "markdown",
   "id": "5a28b949",
   "metadata": {},
   "source": [
    "# 100 numpy exercises\n",
    "\n",
    "This is a collection of exercises that have been collected in the numpy mailing list, on stack overflow\n",
    "and in the numpy documentation. The goal of this collection is to offer a quick reference for both old\n",
    "and new users but also to provide a set of exercises for those who teach.\n",
    "\n",
    "\n",
    "If you find an error or think you've a better way to solve some of them, feel\n",
    "free to open an issue at <https://github.com/rougier/numpy-100>."
   ]
  },
  {
   "cell_type": "markdown",
   "id": "3f7a87ec",
   "metadata": {},
   "source": [
    "File automatically generated. See the documentation to update questions/answers/hints programmatically."
   ]
  },
  {
   "cell_type": "markdown",
   "id": "c00df986",
   "metadata": {},
   "source": [
    "#### 1. Import the numpy package under the name `np` (★☆☆)"
   ]
  },
  {
   "cell_type": "code",
   "execution_count": 2,
   "id": "35bde95c",
   "metadata": {},
   "outputs": [],
   "source": [
    "import numpy as np"
   ]
  },
  {
   "cell_type": "markdown",
   "id": "b555a89f",
   "metadata": {},
   "source": [
    "#### 2. Print the numpy version and the configuration (★☆☆)"
   ]
  },
  {
   "cell_type": "code",
   "execution_count": 3,
   "id": "2c9d363d",
   "metadata": {},
   "outputs": [
    {
     "name": "stdout",
     "output_type": "stream",
     "text": [
      "2.3.3\n",
      "Build Dependencies:\n",
      "  blas:\n",
      "    detection method: system\n",
      "    found: true\n",
      "    include directory: unknown\n",
      "    lib directory: unknown\n",
      "    name: accelerate\n",
      "    openblas configuration: unknown\n",
      "    pc file directory: unknown\n",
      "    version: unknown\n",
      "  lapack:\n",
      "    detection method: system\n",
      "    found: true\n",
      "    include directory: unknown\n",
      "    lib directory: unknown\n",
      "    name: accelerate\n",
      "    openblas configuration: unknown\n",
      "    pc file directory: unknown\n",
      "    version: unknown\n",
      "Compilers:\n",
      "  c:\n",
      "    commands: cc\n",
      "    linker: ld64\n",
      "    name: clang\n",
      "    version: 15.0.0\n",
      "  c++:\n",
      "    commands: c++\n",
      "    linker: ld64\n",
      "    name: clang\n",
      "    version: 15.0.0\n",
      "  cython:\n",
      "    commands: cython\n",
      "    linker: cython\n",
      "    name: cython\n",
      "    version: 3.1.3\n",
      "Machine Information:\n",
      "  build:\n",
      "    cpu: aarch64\n",
      "    endian: little\n",
      "    family: aarch64\n",
      "    system: darwin\n",
      "  host:\n",
      "    cpu: aarch64\n",
      "    endian: little\n",
      "    family: aarch64\n",
      "    system: darwin\n",
      "Python Information:\n",
      "  path: /private/var/folders/y6/nj790rtn62lfktb1sh__79hc0000gn/T/build-env-e43io0i0/bin/python\n",
      "  version: '3.13'\n",
      "SIMD Extensions:\n",
      "  baseline:\n",
      "  - NEON\n",
      "  - NEON_FP16\n",
      "  - NEON_VFPV4\n",
      "  - ASIMD\n",
      "  found:\n",
      "  - ASIMDHP\n",
      "  not found:\n",
      "  - ASIMDFHM\n",
      "\n"
     ]
    }
   ],
   "source": [
    "print(np.__version__)\n",
    "np.show_config()"
   ]
  },
  {
   "cell_type": "markdown",
   "id": "e2713407",
   "metadata": {},
   "source": [
    "#### 3. Create a null vector of size 10 (★☆☆)"
   ]
  },
  {
   "cell_type": "code",
   "execution_count": 4,
   "id": "6df2f6db",
   "metadata": {},
   "outputs": [
    {
     "data": {
      "text/plain": [
       "array([0., 0., 0., 0., 0., 0., 0., 0., 0., 0.])"
      ]
     },
     "execution_count": 4,
     "metadata": {},
     "output_type": "execute_result"
    }
   ],
   "source": [
    "null_vector = np.zeros(10)\n",
    "null_vector"
   ]
  },
  {
   "cell_type": "markdown",
   "id": "5a09554f",
   "metadata": {},
   "source": [
    "#### 4. How to find the memory size of any array (★☆☆)"
   ]
  },
  {
   "cell_type": "code",
   "execution_count": 5,
   "id": "c55a2a00",
   "metadata": {},
   "outputs": [
    {
     "name": "stdout",
     "output_type": "stream",
     "text": [
      "Memory size of array: 800 bytes\n"
     ]
    }
   ],
   "source": [
    "Z = np.zeros((10,10))\n",
    "print(f\"Memory size of array: {Z.size * Z.itemsize} bytes\")"
   ]
  },
  {
   "cell_type": "markdown",
   "id": "4720d438",
   "metadata": {},
   "source": [
    "#### 5. How to get the documentation of the numpy add function from the command line? (★☆☆)"
   ]
  },
  {
   "cell_type": "code",
   "execution_count": 6,
   "id": "d9e2277e",
   "metadata": {},
   "outputs": [],
   "source": [
    "# python3 -c \"import numpy; numpy.info(numpy.add)\"`"
   ]
  },
  {
   "cell_type": "markdown",
   "id": "b812d322",
   "metadata": {},
   "source": [
    "#### 6. Create a null vector of size 10 but the fifth value which is 1 (★☆☆)"
   ]
  },
  {
   "cell_type": "code",
   "execution_count": 7,
   "id": "9f95cedf",
   "metadata": {},
   "outputs": [
    {
     "data": {
      "text/plain": [
       "array([0., 0., 0., 0., 1., 0., 0., 0., 0., 0.])"
      ]
     },
     "execution_count": 7,
     "metadata": {},
     "output_type": "execute_result"
    }
   ],
   "source": [
    "X = np.zeros(10)\n",
    "X[4] = 1\n",
    "X"
   ]
  },
  {
   "cell_type": "markdown",
   "id": "a348f2a8",
   "metadata": {},
   "source": [
    "#### 7. Create a vector with values ranging from 10 to 49 (★☆☆)"
   ]
  },
  {
   "cell_type": "code",
   "execution_count": 8,
   "id": "5a68fd5b",
   "metadata": {},
   "outputs": [
    {
     "data": {
      "text/plain": [
       "array([10, 11, 12, 13, 14, 15, 16, 17, 18, 19, 20, 21, 22, 23, 24, 25, 26,\n",
       "       27, 28, 29, 30, 31, 32, 33, 34, 35, 36, 37, 38, 39, 40, 41, 42, 43,\n",
       "       44, 45, 46, 47, 48, 49])"
      ]
     },
     "execution_count": 8,
     "metadata": {},
     "output_type": "execute_result"
    }
   ],
   "source": [
    "X = np.arange(10,50)\n",
    "X"
   ]
  },
  {
   "cell_type": "markdown",
   "id": "2f4ca4c0",
   "metadata": {},
   "source": [
    "#### 8. Reverse a vector (first element becomes last) (★☆☆)"
   ]
  },
  {
   "cell_type": "code",
   "execution_count": 9,
   "id": "1892e775",
   "metadata": {},
   "outputs": [
    {
     "data": {
      "text/plain": [
       "array([49, 48, 47, 46, 45, 44, 43, 42, 41, 40, 39, 38, 37, 36, 35, 34, 33,\n",
       "       32, 31, 30, 29, 28, 27, 26, 25, 24, 23, 22, 21, 20, 19, 18, 17, 16,\n",
       "       15, 14, 13, 12, 11, 10])"
      ]
     },
     "execution_count": 9,
     "metadata": {},
     "output_type": "execute_result"
    }
   ],
   "source": [
    "X = X[::-1]\n",
    "X"
   ]
  },
  {
   "cell_type": "markdown",
   "id": "31381832",
   "metadata": {},
   "source": [
    "#### 9. Create a 3x3 matrix with values ranging from 0 to 8 (★☆☆)"
   ]
  },
  {
   "cell_type": "code",
   "execution_count": 10,
   "id": "0154f251",
   "metadata": {},
   "outputs": [
    {
     "data": {
      "text/plain": [
       "array([[0, 1, 2],\n",
       "       [3, 4, 5],\n",
       "       [6, 7, 8]])"
      ]
     },
     "execution_count": 10,
     "metadata": {},
     "output_type": "execute_result"
    }
   ],
   "source": [
    "X = np.arange(0,9).reshape(3,3)\n",
    "X"
   ]
  },
  {
   "cell_type": "markdown",
   "id": "8c353e84",
   "metadata": {},
   "source": [
    "#### 10. Find indices of non-zero elements from [1,2,0,0,4,0] (★☆☆)"
   ]
  },
  {
   "cell_type": "code",
   "execution_count": 11,
   "id": "da3495c3",
   "metadata": {},
   "outputs": [
    {
     "data": {
      "text/plain": [
       "(array([0, 1, 4]),)"
      ]
     },
     "execution_count": 11,
     "metadata": {},
     "output_type": "execute_result"
    }
   ],
   "source": [
    "X = [1,2,0,0,4,0]\n",
    "ind = np.nonzero(X)\n",
    "ind"
   ]
  },
  {
   "cell_type": "markdown",
   "id": "a26ac749",
   "metadata": {},
   "source": [
    "#### 11. Create a 3x3 identity matrix (★☆☆)"
   ]
  },
  {
   "cell_type": "code",
   "execution_count": 12,
   "id": "3e33feda",
   "metadata": {},
   "outputs": [
    {
     "data": {
      "text/plain": [
       "array([[1., 0., 0.],\n",
       "       [0., 1., 0.],\n",
       "       [0., 0., 1.]])"
      ]
     },
     "execution_count": 12,
     "metadata": {},
     "output_type": "execute_result"
    }
   ],
   "source": [
    "X = np.eye(3)\n",
    "X"
   ]
  },
  {
   "cell_type": "markdown",
   "id": "3a293379",
   "metadata": {},
   "source": [
    "#### 12. Create a 3x3x3 array with random values (★☆☆)"
   ]
  },
  {
   "cell_type": "code",
   "execution_count": 13,
   "id": "2da08152",
   "metadata": {},
   "outputs": [
    {
     "data": {
      "text/plain": [
       "array([[[0.97985212, 0.71931918, 0.35196328],\n",
       "        [0.53635962, 0.10779727, 0.29233496],\n",
       "        [0.86650335, 0.30418305, 0.96416977]],\n",
       "\n",
       "       [[0.23358752, 0.78736195, 0.63576516],\n",
       "        [0.83416973, 0.67909262, 0.95654365],\n",
       "        [0.81246516, 0.25787881, 0.51288998]],\n",
       "\n",
       "       [[0.47837441, 0.80592829, 0.98831248],\n",
       "        [0.86114373, 0.79687542, 0.72450643],\n",
       "        [0.50804476, 0.30776614, 0.16066727]]])"
      ]
     },
     "execution_count": 13,
     "metadata": {},
     "output_type": "execute_result"
    }
   ],
   "source": [
    "X = np.random.random((3,3,3))\n",
    "X"
   ]
  },
  {
   "cell_type": "markdown",
   "id": "e3faa924",
   "metadata": {},
   "source": [
    "#### 13. Create a 10x10 array with random values and find the minimum and maximum values (★☆☆)"
   ]
  },
  {
   "cell_type": "code",
   "execution_count": 14,
   "id": "e9fb3793",
   "metadata": {},
   "outputs": [],
   "source": [
    "X = np.random.random((10,10))\n",
    "Xmax, Xmin = X.max(), X.min()"
   ]
  },
  {
   "cell_type": "markdown",
   "id": "317cb8d1",
   "metadata": {},
   "source": [
    "#### 14. Create a random vector of size 30 and find the mean value (★☆☆)"
   ]
  },
  {
   "cell_type": "code",
   "execution_count": 15,
   "id": "4ea995d6",
   "metadata": {},
   "outputs": [
    {
     "data": {
      "text/plain": [
       "np.float64(0.5103062142159659)"
      ]
     },
     "execution_count": 15,
     "metadata": {},
     "output_type": "execute_result"
    }
   ],
   "source": [
    "X = np.random.random(30)\n",
    "np.mean(X)"
   ]
  },
  {
   "cell_type": "markdown",
   "id": "b8dee0f2",
   "metadata": {},
   "source": [
    "#### 15. Create a 2d array with 1 on the border and 0 inside (★☆☆)"
   ]
  },
  {
   "cell_type": "code",
   "execution_count": 16,
   "id": "7054464b",
   "metadata": {},
   "outputs": [
    {
     "data": {
      "text/plain": [
       "array([[1., 1., 1., 1., 1., 1., 1., 1., 1., 1.],\n",
       "       [1., 0., 0., 0., 0., 0., 0., 0., 0., 1.],\n",
       "       [1., 0., 0., 0., 0., 0., 0., 0., 0., 1.],\n",
       "       [1., 0., 0., 0., 0., 0., 0., 0., 0., 1.],\n",
       "       [1., 0., 0., 0., 0., 0., 0., 0., 0., 1.],\n",
       "       [1., 0., 0., 0., 0., 0., 0., 0., 0., 1.],\n",
       "       [1., 0., 0., 0., 0., 0., 0., 0., 0., 1.],\n",
       "       [1., 0., 0., 0., 0., 0., 0., 0., 0., 1.],\n",
       "       [1., 0., 0., 0., 0., 0., 0., 0., 0., 1.],\n",
       "       [1., 1., 1., 1., 1., 1., 1., 1., 1., 1.]])"
      ]
     },
     "execution_count": 16,
     "metadata": {},
     "output_type": "execute_result"
    }
   ],
   "source": [
    "X = np.ones((10,10))\n",
    "X[1:-1, 1:-1] = 0\n",
    "X"
   ]
  },
  {
   "cell_type": "markdown",
   "id": "1476f45f",
   "metadata": {},
   "source": [
    "#### 16. How to add a border (filled with 0's) around an existing array? (★☆☆)"
   ]
  },
  {
   "cell_type": "code",
   "execution_count": 17,
   "id": "4f0212af",
   "metadata": {},
   "outputs": [
    {
     "data": {
      "text/plain": [
       "array([[0.  , 0.  , 0.  , 0.  , 0.  , 0.  , 0.  ],\n",
       "       [0.  , 0.95, 0.84, 0.31, 0.15, 0.6 , 0.  ],\n",
       "       [0.  , 0.53, 0.56, 0.7 , 0.51, 0.53, 0.  ],\n",
       "       [0.  , 0.94, 0.61, 0.01, 0.54, 0.54, 0.  ],\n",
       "       [0.  , 0.18, 0.94, 0.74, 0.04, 0.14, 0.  ],\n",
       "       [0.  , 0.71, 0.01, 0.7 , 0.29, 0.66, 0.  ],\n",
       "       [0.  , 0.  , 0.  , 0.  , 0.  , 0.  , 0.  ]])"
      ]
     },
     "execution_count": 17,
     "metadata": {},
     "output_type": "execute_result"
    }
   ],
   "source": [
    "X = np.random.random((5,5)).round(2)\n",
    "X = np.pad(X, pad_width=1, mode='constant', constant_values=0)\n",
    "X"
   ]
  },
  {
   "cell_type": "markdown",
   "id": "52844dc7",
   "metadata": {},
   "source": [
    "#### 17. What is the result of the following expression? (★☆☆)\n",
    "```python\n",
    "0 * np.nan\n",
    "np.nan == np.nan\n",
    "np.inf > np.nan\n",
    "np.nan - np.nan\n",
    "np.nan in set([np.nan])\n",
    "0.3 == 3 * 0.1\n",
    "```"
   ]
  },
  {
   "cell_type": "code",
   "execution_count": 18,
   "id": "cfdb7352",
   "metadata": {},
   "outputs": [
    {
     "data": {
      "text/plain": [
       "False"
      ]
     },
     "execution_count": 18,
     "metadata": {},
     "output_type": "execute_result"
    }
   ],
   "source": [
    "0 * np.nan # nan\n",
    "np.nan == np.nan # False\n",
    "np.inf > np.nan # False\n",
    "np.nan - np.nan # nan\n",
    "np.nan in set([np.nan]) # True\n",
    "0.3 == 3 * 0.1 # False"
   ]
  },
  {
   "cell_type": "markdown",
   "id": "9801c961",
   "metadata": {},
   "source": [
    "#### 18. Create a 5x5 matrix with values 1,2,3,4 just below the diagonal (★☆☆)"
   ]
  },
  {
   "cell_type": "code",
   "execution_count": 19,
   "id": "2083af5f",
   "metadata": {},
   "outputs": [
    {
     "data": {
      "text/plain": [
       "array([[1, 0, 0, 0],\n",
       "       [0, 2, 0, 0],\n",
       "       [0, 0, 3, 0],\n",
       "       [0, 0, 0, 4]])"
      ]
     },
     "execution_count": 19,
     "metadata": {},
     "output_type": "execute_result"
    }
   ],
   "source": [
    "np.diag(np.arange(4)+1)"
   ]
  },
  {
   "cell_type": "code",
   "execution_count": 20,
   "id": "4e97651a",
   "metadata": {},
   "outputs": [
    {
     "data": {
      "text/plain": [
       "array([[0, 0, 0, 0, 0],\n",
       "       [1, 0, 0, 0, 0],\n",
       "       [0, 2, 0, 0, 0],\n",
       "       [0, 0, 3, 0, 0],\n",
       "       [0, 0, 0, 4, 0]])"
      ]
     },
     "execution_count": 20,
     "metadata": {},
     "output_type": "execute_result"
    }
   ],
   "source": [
    "np.diag(np.arange(4)+1, k=-1)"
   ]
  },
  {
   "cell_type": "markdown",
   "id": "3dc05e9f",
   "metadata": {},
   "source": [
    "#### 19. Create a 8x8 matrix and fill it with a checkerboard pattern (★☆☆)"
   ]
  },
  {
   "cell_type": "code",
   "execution_count": 21,
   "id": "0b100b85",
   "metadata": {},
   "outputs": [
    {
     "data": {
      "text/plain": [
       "array([[0., 1., 0., 1., 0., 1., 0., 1.],\n",
       "       [1., 0., 1., 0., 1., 0., 1., 0.],\n",
       "       [0., 1., 0., 1., 0., 1., 0., 1.],\n",
       "       [1., 0., 1., 0., 1., 0., 1., 0.],\n",
       "       [0., 1., 0., 1., 0., 1., 0., 1.],\n",
       "       [1., 0., 1., 0., 1., 0., 1., 0.],\n",
       "       [0., 1., 0., 1., 0., 1., 0., 1.],\n",
       "       [1., 0., 1., 0., 1., 0., 1., 0.]])"
      ]
     },
     "execution_count": 21,
     "metadata": {},
     "output_type": "execute_result"
    }
   ],
   "source": [
    "X = np.zeros((8,8))\n",
    "X[1::2,::2] = 1\n",
    "X[::2, 1::2] = 1\n",
    "X"
   ]
  },
  {
   "cell_type": "markdown",
   "id": "d8e941b6",
   "metadata": {},
   "source": [
    "#### 20. Consider a (6,7,8) shape array, what is the index (x,y,z) of the 100th element? (★☆☆)"
   ]
  },
  {
   "cell_type": "code",
   "execution_count": 22,
   "id": "b3bc1fcb",
   "metadata": {},
   "outputs": [
    {
     "name": "stdout",
     "output_type": "stream",
     "text": [
      "(np.int64(1), np.int64(5), np.int64(3))\n"
     ]
    }
   ],
   "source": [
    "print(np.unravel_index(99,(6,7,8)))"
   ]
  },
  {
   "cell_type": "markdown",
   "id": "bf3b8ab3",
   "metadata": {},
   "source": [
    "#### 21. Create a checkerboard 8x8 matrix using the tile function (★☆☆)"
   ]
  },
  {
   "cell_type": "markdown",
   "id": "5b3a1b76",
   "metadata": {},
   "source": [
    "np.tile is a NumPy function that constructs a new array by repeating an input array in a tiled (repeated) manner."
   ]
  },
  {
   "cell_type": "code",
   "execution_count": 23,
   "id": "eb15c681",
   "metadata": {},
   "outputs": [
    {
     "data": {
      "text/plain": [
       "array([[0, 1, 0, 1, 0, 1, 0, 1],\n",
       "       [1, 0, 1, 0, 1, 0, 1, 0],\n",
       "       [0, 1, 0, 1, 0, 1, 0, 1],\n",
       "       [1, 0, 1, 0, 1, 0, 1, 0],\n",
       "       [0, 1, 0, 1, 0, 1, 0, 1],\n",
       "       [1, 0, 1, 0, 1, 0, 1, 0],\n",
       "       [0, 1, 0, 1, 0, 1, 0, 1],\n",
       "       [1, 0, 1, 0, 1, 0, 1, 0]])"
      ]
     },
     "execution_count": 23,
     "metadata": {},
     "output_type": "execute_result"
    }
   ],
   "source": [
    "np.tile(([0,1],[1,0]), (4,4))"
   ]
  },
  {
   "cell_type": "markdown",
   "id": "71af9d19",
   "metadata": {},
   "source": [
    "#### 22. Normalize a 5x5 random matrix (★☆☆)"
   ]
  },
  {
   "cell_type": "code",
   "execution_count": 24,
   "id": "df20b788",
   "metadata": {},
   "outputs": [
    {
     "data": {
      "text/plain": [
       "array([[ 1.18276106, -0.94755133,  0.72301132, -0.59192941, -1.00751659],\n",
       "       [-1.42531834,  1.41282618, -0.8429196 , -0.0945275 , -1.28977824],\n",
       "       [ 0.44229916, -0.24321209, -0.57726202,  1.59211135,  1.15517162],\n",
       "       [-0.57189729,  0.28132004, -0.26801807, -0.57865308,  1.04164861],\n",
       "       [-1.34107757,  1.58781789, -0.3962474 , -0.90334621,  1.66028753]])"
      ]
     },
     "execution_count": 24,
     "metadata": {},
     "output_type": "execute_result"
    }
   ],
   "source": [
    "X = np.random.uniform(15, 45, (5,5))\n",
    "(X - np.mean(X)) / np.std(X)"
   ]
  },
  {
   "cell_type": "markdown",
   "id": "01cd9893",
   "metadata": {},
   "source": [
    "#### 23. Create a custom dtype that describes a color as four unsigned bytes (RGBA) (★☆☆)"
   ]
  },
  {
   "cell_type": "code",
   "execution_count": 25,
   "id": "4acddc2f",
   "metadata": {},
   "outputs": [
    {
     "data": {
      "text/plain": [
       "dtype([('r', 'u1'), ('g', 'u1'), ('b', 'u1'), ('a', 'u1')])"
      ]
     },
     "execution_count": 25,
     "metadata": {},
     "output_type": "execute_result"
    }
   ],
   "source": [
    "color = np.dtype([(\"r\", np.ubyte),\n",
    "                  (\"g\", np.ubyte),\n",
    "                  (\"b\", np.ubyte),\n",
    "                  (\"a\", np.ubyte)])\n",
    "\n",
    "color"
   ]
  },
  {
   "cell_type": "markdown",
   "id": "0ef5f38b",
   "metadata": {},
   "source": [
    "#### 24. Multiply a 5x3 matrix by a 3x2 matrix (real matrix product) (★☆☆)"
   ]
  },
  {
   "cell_type": "code",
   "execution_count": 26,
   "id": "3d36d4a0",
   "metadata": {},
   "outputs": [
    {
     "data": {
      "text/plain": [
       "array([[3., 3.],\n",
       "       [3., 3.],\n",
       "       [3., 3.],\n",
       "       [3., 3.],\n",
       "       [3., 3.]])"
      ]
     },
     "execution_count": 26,
     "metadata": {},
     "output_type": "execute_result"
    }
   ],
   "source": [
    "np.ones(shape=(5,3)) @ np.ones(shape=(3,2))"
   ]
  },
  {
   "cell_type": "markdown",
   "id": "a46db425",
   "metadata": {},
   "source": [
    "#### 25. Given a 1D array, negate all elements which are between 3 and 8, in place. (★☆☆)"
   ]
  },
  {
   "cell_type": "code",
   "execution_count": 27,
   "id": "86e3d6a8",
   "metadata": {},
   "outputs": [
    {
     "data": {
      "text/plain": [
       "array([ 0,  1,  2,  3, -4, -5, -6, -7,  8,  9, 10])"
      ]
     },
     "execution_count": 27,
     "metadata": {},
     "output_type": "execute_result"
    }
   ],
   "source": [
    "Z = np.arange(11)\n",
    "Z[(3 < Z) & (8 > Z)] *= -1\n",
    "Z"
   ]
  },
  {
   "cell_type": "markdown",
   "id": "89fa6007",
   "metadata": {},
   "source": [
    "#### 26. What is the output of the following script? (★☆☆)\n",
    "```python\n",
    "# Author: Jake VanderPlas\n",
    "\n",
    "print(sum(range(5),-1))\n",
    "from numpy import *\n",
    "print(sum(range(5),-1))\n",
    "```"
   ]
  },
  {
   "cell_type": "code",
   "execution_count": 28,
   "id": "59f2c6dc",
   "metadata": {},
   "outputs": [
    {
     "name": "stdout",
     "output_type": "stream",
     "text": [
      "9\n",
      "10\n"
     ]
    }
   ],
   "source": [
    "print(sum(range(5),-1))\n",
    "from numpy import *\n",
    "print(sum(range(5),-1)) # overriden sum from numpy"
   ]
  },
  {
   "cell_type": "markdown",
   "id": "38de4589",
   "metadata": {},
   "source": [
    "#### 27. Consider an integer vector Z, which of these expressions are legal? (★☆☆)\n",
    "```python\n",
    "Z**Z\n",
    "2 << Z >> 2\n",
    "Z <- Z\n",
    "1j*Z\n",
    "Z/1/1\n",
    "Z<Z>Z\n",
    "```"
   ]
  },
  {
   "cell_type": "code",
   "execution_count": 29,
   "id": "8e4d44fe",
   "metadata": {},
   "outputs": [],
   "source": [
    "Z = np.array([4, 2])"
   ]
  },
  {
   "cell_type": "code",
   "execution_count": 30,
   "id": "a9dc9520",
   "metadata": {},
   "outputs": [
    {
     "data": {
      "text/plain": [
       "array([256,   4])"
      ]
     },
     "execution_count": 30,
     "metadata": {},
     "output_type": "execute_result"
    }
   ],
   "source": [
    "Z ** Z"
   ]
  },
  {
   "cell_type": "code",
   "execution_count": 31,
   "id": "0392b52d",
   "metadata": {},
   "outputs": [
    {
     "data": {
      "text/plain": [
       "array([8, 2])"
      ]
     },
     "execution_count": 31,
     "metadata": {},
     "output_type": "execute_result"
    }
   ],
   "source": [
    "2 << Z >> 2"
   ]
  },
  {
   "cell_type": "code",
   "execution_count": 32,
   "id": "991442b8",
   "metadata": {},
   "outputs": [
    {
     "data": {
      "text/plain": [
       "array([False, False])"
      ]
     },
     "execution_count": 32,
     "metadata": {},
     "output_type": "execute_result"
    }
   ],
   "source": [
    "Z <- Z"
   ]
  },
  {
   "cell_type": "code",
   "execution_count": 33,
   "id": "538eaeba",
   "metadata": {},
   "outputs": [
    {
     "data": {
      "text/plain": [
       "array([0.+4.j, 0.+2.j])"
      ]
     },
     "execution_count": 33,
     "metadata": {},
     "output_type": "execute_result"
    }
   ],
   "source": [
    "1j * Z"
   ]
  },
  {
   "cell_type": "code",
   "execution_count": 34,
   "id": "80e7bd53",
   "metadata": {},
   "outputs": [
    {
     "data": {
      "text/plain": [
       "array([4., 2.])"
      ]
     },
     "execution_count": 34,
     "metadata": {},
     "output_type": "execute_result"
    }
   ],
   "source": [
    "Z/1/1"
   ]
  },
  {
   "cell_type": "code",
   "execution_count": 35,
   "id": "9fd6cfbd",
   "metadata": {},
   "outputs": [],
   "source": [
    "# Z<Z>Z"
   ]
  },
  {
   "cell_type": "markdown",
   "id": "77c8b8c7",
   "metadata": {},
   "source": [
    "#### 28. What are the result of the following expressions? (★☆☆)\n",
    "```python\n",
    "np.array(0) / np.array(0)\n",
    "np.array(0) // np.array(0)\n",
    "np.array([np.nan]).astype(int).astype(float)\n",
    "```"
   ]
  },
  {
   "cell_type": "code",
   "execution_count": 36,
   "id": "3b66fe44",
   "metadata": {},
   "outputs": [
    {
     "name": "stderr",
     "output_type": "stream",
     "text": [
      "/var/folders/t5/ct5bhs3j6k18hj1qyrkwmvj00000gp/T/ipykernel_92501/703293450.py:2: RuntimeWarning: divide by zero encountered in floor_divide\n",
      "  np.array(0) // np.array(0)\n",
      "/var/folders/t5/ct5bhs3j6k18hj1qyrkwmvj00000gp/T/ipykernel_92501/703293450.py:3: RuntimeWarning: invalid value encountered in cast\n",
      "  np.array([np.nan]).astype(int).astype(float)\n"
     ]
    },
    {
     "data": {
      "text/plain": [
       "array([0.])"
      ]
     },
     "execution_count": 36,
     "metadata": {},
     "output_type": "execute_result"
    }
   ],
   "source": [
    "#np.array(0) / np.array(0)\n",
    "np.array(0) // np.array(0)\n",
    "np.array([np.nan]).astype(int).astype(float)"
   ]
  },
  {
   "cell_type": "markdown",
   "id": "1f3f0892",
   "metadata": {},
   "source": [
    "#### 29. How to round away from zero a float array ? (★☆☆)"
   ]
  },
  {
   "cell_type": "code",
   "execution_count": 37,
   "id": "8fce1bd7",
   "metadata": {},
   "outputs": [
    {
     "name": "stdout",
     "output_type": "stream",
     "text": [
      "[ 6.30094049  5.15626244 -7.10116992  3.72336333  7.34636128  8.32172124\n",
      " -7.82216497  3.43148989 -3.94533617  7.14682408]\n",
      "[ 7.  6. -8.  4.  8.  9. -8.  4. -4.  8.]\n",
      "[ 6.  5. -7.  4.  7.  8. -8.  3. -4.  7.]\n"
     ]
    }
   ],
   "source": [
    "Z = np.random.uniform(-10,+10,10)\n",
    "print(Z)\n",
    "print(np.where(Z>0, np.ceil(Z), np.floor(Z)))\n",
    "print(Z.round(0))"
   ]
  },
  {
   "cell_type": "markdown",
   "id": "53f47438",
   "metadata": {},
   "source": [
    "#### 30. How to find common values between two arrays? (★☆☆)"
   ]
  },
  {
   "cell_type": "code",
   "execution_count": 38,
   "id": "981db6ec",
   "metadata": {},
   "outputs": [
    {
     "name": "stdout",
     "output_type": "stream",
     "text": [
      "[1 6 7 8 9]\n"
     ]
    }
   ],
   "source": [
    "Z1 = np.random.randint(0,10,10)\n",
    "Z2 = np.random.randint(0,10,10)\n",
    "print(np.intersect1d(Z1,Z2))"
   ]
  },
  {
   "cell_type": "markdown",
   "id": "51cf9109",
   "metadata": {},
   "source": [
    "#### 31. How to ignore all numpy warnings (not recommended)? (★☆☆)"
   ]
  },
  {
   "cell_type": "code",
   "execution_count": 39,
   "id": "09ba7521",
   "metadata": {},
   "outputs": [],
   "source": [
    "# Suicide mode on\n",
    "defaults = np.seterr(all=\"ignore\")\n",
    "Z = np.ones(1) / 0\n",
    "\n",
    "# Back to sanity\n",
    "_ = np.seterr(**defaults)"
   ]
  },
  {
   "cell_type": "markdown",
   "id": "948a691b",
   "metadata": {},
   "source": [
    "#### 32. Is the following expressions true? (★☆☆)\n",
    "```python\n",
    "np.sqrt(-1) == np.emath.sqrt(-1)\n",
    "```"
   ]
  },
  {
   "cell_type": "code",
   "execution_count": 40,
   "id": "45dadc0a",
   "metadata": {},
   "outputs": [
    {
     "name": "stderr",
     "output_type": "stream",
     "text": [
      "/var/folders/t5/ct5bhs3j6k18hj1qyrkwmvj00000gp/T/ipykernel_92501/3347172139.py:1: RuntimeWarning: invalid value encountered in sqrt\n",
      "  np.sqrt(-1)\n"
     ]
    },
    {
     "data": {
      "text/plain": [
       "np.float64(nan)"
      ]
     },
     "execution_count": 40,
     "metadata": {},
     "output_type": "execute_result"
    }
   ],
   "source": [
    "np.sqrt(-1) "
   ]
  },
  {
   "cell_type": "code",
   "execution_count": 41,
   "id": "8ae2b3cd",
   "metadata": {},
   "outputs": [
    {
     "data": {
      "text/plain": [
       "np.complex128(1j)"
      ]
     },
     "execution_count": 41,
     "metadata": {},
     "output_type": "execute_result"
    }
   ],
   "source": [
    "np.emath.sqrt(-1)"
   ]
  },
  {
   "cell_type": "code",
   "execution_count": 42,
   "id": "6d8f745b",
   "metadata": {},
   "outputs": [
    {
     "name": "stderr",
     "output_type": "stream",
     "text": [
      "/var/folders/t5/ct5bhs3j6k18hj1qyrkwmvj00000gp/T/ipykernel_92501/244602691.py:1: RuntimeWarning: invalid value encountered in sqrt\n",
      "  np.sqrt(-1) == np.emath.sqrt(-1)\n"
     ]
    },
    {
     "data": {
      "text/plain": [
       "np.False_"
      ]
     },
     "execution_count": 42,
     "metadata": {},
     "output_type": "execute_result"
    }
   ],
   "source": [
    "np.sqrt(-1) == np.emath.sqrt(-1)"
   ]
  },
  {
   "cell_type": "markdown",
   "id": "d1a8992e",
   "metadata": {},
   "source": [
    "#### 33. How to get the dates of yesterday, today and tomorrow? (★☆☆)"
   ]
  },
  {
   "cell_type": "code",
   "execution_count": 43,
   "id": "31a1ade2",
   "metadata": {},
   "outputs": [],
   "source": [
    "yesterday = np.datetime64('today') - np.timedelta64(1)\n",
    "today     = np.datetime64('today')\n",
    "tomorrow  = np.datetime64('today') + np.timedelta64(1)"
   ]
  },
  {
   "cell_type": "markdown",
   "id": "01378794",
   "metadata": {},
   "source": [
    "#### 34. How to get all the dates corresponding to the month of July 2016? (★★☆)"
   ]
  },
  {
   "cell_type": "code",
   "execution_count": 44,
   "id": "928c55c6",
   "metadata": {},
   "outputs": [
    {
     "data": {
      "text/plain": [
       "array(['2016-07-01', '2016-07-02', '2016-07-03', '2016-07-04',\n",
       "       '2016-07-05', '2016-07-06', '2016-07-07', '2016-07-08',\n",
       "       '2016-07-09', '2016-07-10', '2016-07-11', '2016-07-12',\n",
       "       '2016-07-13', '2016-07-14', '2016-07-15', '2016-07-16',\n",
       "       '2016-07-17', '2016-07-18', '2016-07-19', '2016-07-20',\n",
       "       '2016-07-21', '2016-07-22', '2016-07-23', '2016-07-24',\n",
       "       '2016-07-25', '2016-07-26', '2016-07-27', '2016-07-28',\n",
       "       '2016-07-29', '2016-07-30', '2016-07-31'], dtype='datetime64[D]')"
      ]
     },
     "execution_count": 44,
     "metadata": {},
     "output_type": "execute_result"
    }
   ],
   "source": [
    "np.arange('2016-07-01', '2016-08-01', dtype=np.datetime64)"
   ]
  },
  {
   "cell_type": "markdown",
   "id": "e3f8fe94",
   "metadata": {},
   "source": [
    "#### 35. How to compute ((A+B)*(-A/2)) in place (without copy)? (★★☆)"
   ]
  },
  {
   "cell_type": "code",
   "execution_count": 45,
   "id": "14e478d5",
   "metadata": {},
   "outputs": [
    {
     "data": {
      "text/plain": [
       "array([-1.5, -1.5, -1.5])"
      ]
     },
     "execution_count": 45,
     "metadata": {},
     "output_type": "execute_result"
    }
   ],
   "source": [
    "A = np.ones(3)*1\n",
    "B = np.ones(3)*2\n",
    "np.add(A,B,out=B)\n",
    "np.divide(A,2,out=A)\n",
    "np.negative(A,out=A)\n",
    "np.multiply(A,B,out=A)"
   ]
  },
  {
   "cell_type": "markdown",
   "id": "5c4d58c9",
   "metadata": {},
   "source": [
    "#### 36. Extract the integer part of a random array of positive numbers using 4 different methods (★★☆)"
   ]
  },
  {
   "cell_type": "code",
   "execution_count": 46,
   "id": "586beded",
   "metadata": {},
   "outputs": [
    {
     "data": {
      "text/plain": [
       "array([0.87195573, 7.93550661, 6.23777779, 9.59468463, 2.63047787,\n",
       "       1.49070647, 4.14924142, 8.06332069, 1.95780145, 7.41257224])"
      ]
     },
     "execution_count": 46,
     "metadata": {},
     "output_type": "execute_result"
    }
   ],
   "source": [
    "Z = np.random.uniform(0,10,10)\n",
    "Z"
   ]
  },
  {
   "cell_type": "code",
   "execution_count": 47,
   "id": "d242070e",
   "metadata": {},
   "outputs": [
    {
     "data": {
      "text/plain": [
       "array([0., 7., 6., 9., 2., 1., 4., 8., 1., 7.])"
      ]
     },
     "execution_count": 47,
     "metadata": {},
     "output_type": "execute_result"
    }
   ],
   "source": [
    "Z // 1"
   ]
  },
  {
   "cell_type": "code",
   "execution_count": 48,
   "id": "0c4fd6f7",
   "metadata": {},
   "outputs": [
    {
     "data": {
      "text/plain": [
       "array([0., 7., 6., 9., 2., 1., 4., 8., 1., 7.])"
      ]
     },
     "execution_count": 48,
     "metadata": {},
     "output_type": "execute_result"
    }
   ],
   "source": [
    "Z - Z % 1"
   ]
  },
  {
   "cell_type": "code",
   "execution_count": 49,
   "id": "ad14449a",
   "metadata": {},
   "outputs": [
    {
     "data": {
      "text/plain": [
       "array([0, 7, 6, 9, 2, 1, 4, 8, 1, 7])"
      ]
     },
     "execution_count": 49,
     "metadata": {},
     "output_type": "execute_result"
    }
   ],
   "source": [
    "Z.astype(int)"
   ]
  },
  {
   "cell_type": "code",
   "execution_count": 50,
   "id": "b3880d54",
   "metadata": {},
   "outputs": [
    {
     "data": {
      "text/plain": [
       "array([0., 7., 6., 9., 2., 1., 4., 8., 1., 7.])"
      ]
     },
     "execution_count": 50,
     "metadata": {},
     "output_type": "execute_result"
    }
   ],
   "source": [
    "np.trunc(Z)"
   ]
  },
  {
   "cell_type": "markdown",
   "id": "62628653",
   "metadata": {},
   "source": [
    "#### 37. Create a 5x5 matrix with row values ranging from 0 to 4 (★★☆)"
   ]
  },
  {
   "cell_type": "code",
   "execution_count": 51,
   "id": "e57763b3",
   "metadata": {},
   "outputs": [
    {
     "data": {
      "text/plain": [
       "array([[0., 1., 2., 3., 4.],\n",
       "       [0., 1., 2., 3., 4.],\n",
       "       [0., 1., 2., 3., 4.],\n",
       "       [0., 1., 2., 3., 4.],\n",
       "       [0., 1., 2., 3., 4.]])"
      ]
     },
     "execution_count": 51,
     "metadata": {},
     "output_type": "execute_result"
    }
   ],
   "source": [
    "Z = np.zeros((5,5))\n",
    "Z += np.arange(0,5)\n",
    "Z"
   ]
  },
  {
   "cell_type": "markdown",
   "id": "d3d46d64",
   "metadata": {},
   "source": [
    "#### 38. Consider a generator function that generates 10 integers and use it to build an array (★☆☆)"
   ]
  },
  {
   "cell_type": "code",
   "execution_count": 52,
   "id": "24590d8c",
   "metadata": {},
   "outputs": [
    {
     "data": {
      "text/plain": [
       "array([0., 1., 2., 3., 4., 5., 6., 7., 8., 9.])"
      ]
     },
     "execution_count": 52,
     "metadata": {},
     "output_type": "execute_result"
    }
   ],
   "source": [
    "def generate():\n",
    "    for x in range(10):\n",
    "        yield x\n",
    "np.fromiter(generate(), dtype=float, count=-1)"
   ]
  },
  {
   "cell_type": "markdown",
   "id": "5e1e51e4",
   "metadata": {},
   "source": [
    "#### 39. Create a vector of size 10 with values ranging from 0 to 1, both excluded (★★☆)"
   ]
  },
  {
   "cell_type": "code",
   "execution_count": 53,
   "id": "def73884",
   "metadata": {},
   "outputs": [
    {
     "data": {
      "text/plain": [
       "array([0.09090909, 0.18181818, 0.27272727, 0.36363636, 0.45454545,\n",
       "       0.54545455, 0.63636364, 0.72727273, 0.81818182, 0.90909091])"
      ]
     },
     "execution_count": 53,
     "metadata": {},
     "output_type": "execute_result"
    }
   ],
   "source": [
    "np.linspace(0,1,11, endpoint=False)[1:]"
   ]
  },
  {
   "cell_type": "markdown",
   "id": "9e19964c",
   "metadata": {},
   "source": [
    "#### 40. Create a random vector of size 10 and sort it (★★☆)"
   ]
  },
  {
   "cell_type": "code",
   "execution_count": 54,
   "id": "ec302eb1",
   "metadata": {},
   "outputs": [
    {
     "data": {
      "text/plain": [
       "array([0.00964796, 0.03302779, 0.13422979, 0.15688752, 0.30653007,\n",
       "       0.3144794 , 0.37219273, 0.6469902 , 0.9207574 , 0.93846931])"
      ]
     },
     "execution_count": 54,
     "metadata": {},
     "output_type": "execute_result"
    }
   ],
   "source": [
    "X = np.random.random(10)\n",
    "X.sort()\n",
    "X"
   ]
  },
  {
   "cell_type": "markdown",
   "id": "13a034e2",
   "metadata": {},
   "source": [
    "#### 41. How to sum a small array faster than np.sum? (★★☆)"
   ]
  },
  {
   "cell_type": "code",
   "execution_count": 55,
   "id": "b09a3551",
   "metadata": {},
   "outputs": [
    {
     "data": {
      "text/plain": [
       "np.float64(3.8332121449106493)"
      ]
     },
     "execution_count": 55,
     "metadata": {},
     "output_type": "execute_result"
    }
   ],
   "source": [
    "np.add.reduce(X)"
   ]
  },
  {
   "cell_type": "markdown",
   "id": "32d10473",
   "metadata": {},
   "source": [
    "#### 42. Consider two random arrays A and B, check if they are equal (★★☆)"
   ]
  },
  {
   "cell_type": "code",
   "execution_count": 56,
   "id": "5ebb1103",
   "metadata": {},
   "outputs": [
    {
     "data": {
      "text/plain": [
       "False"
      ]
     },
     "execution_count": 56,
     "metadata": {},
     "output_type": "execute_result"
    }
   ],
   "source": [
    "A = np.random.randint(0,2,5)\n",
    "B = np.random.randint(0,2,5)\n",
    "\n",
    "np.allclose(A,B)"
   ]
  },
  {
   "cell_type": "markdown",
   "id": "a50474b0",
   "metadata": {},
   "source": [
    "#### 43. Make an array immutable (read-only) (★★☆)"
   ]
  },
  {
   "cell_type": "code",
   "execution_count": 57,
   "id": "db6fe176",
   "metadata": {},
   "outputs": [
    {
     "name": "stdout",
     "output_type": "stream",
     "text": [
      "You can't\n"
     ]
    }
   ],
   "source": [
    "A.flags.writeable = False\n",
    "try:\n",
    "    A[0]=0\n",
    "except Exception:\n",
    "    print(\"You can't\")"
   ]
  },
  {
   "cell_type": "markdown",
   "id": "b7a6093e",
   "metadata": {},
   "source": [
    "#### 44. Consider a random 10x2 matrix representing cartesian coordinates, convert them to polar coordinates (★★☆)"
   ]
  },
  {
   "cell_type": "code",
   "execution_count": 58,
   "id": "4479c48d",
   "metadata": {},
   "outputs": [
    {
     "data": {
      "text/plain": [
       "(array([0.54028325, 0.74856972, 0.99808711, 0.58213681, 1.14261369,\n",
       "        1.30830023, 0.26708813, 0.77323502, 0.71271423, 0.89514773]),\n",
       " array([0.8759778 , 0.7055186 , 0.00155555, 1.16766965, 0.52244385,\n",
       "        0.72286633, 0.57044687, 1.38726625, 1.14740109, 0.75668851]))"
      ]
     },
     "execution_count": 58,
     "metadata": {},
     "output_type": "execute_result"
    }
   ],
   "source": [
    "Z = np.random.random((10,2))\n",
    "X, Y = Z[:,0], Z[:,1]\n",
    "R = np.sqrt(X**2 + Y**2)\n",
    "T = np.arctan2(Y,X)\n",
    "R, T"
   ]
  },
  {
   "cell_type": "markdown",
   "id": "934f889c",
   "metadata": {},
   "source": [
    "#### 45. Create random vector of size 10 and replace the maximum value by 0 (★★☆)"
   ]
  },
  {
   "cell_type": "code",
   "execution_count": 59,
   "id": "4b576814",
   "metadata": {},
   "outputs": [
    {
     "data": {
      "text/plain": [
       "array([0.02613081, 0.74288726, 0.21052871, 0.        , 0.34294816,\n",
       "       0.42708411, 0.07302967, 0.14924096, 0.57523053, 0.45941139])"
      ]
     },
     "execution_count": 59,
     "metadata": {},
     "output_type": "execute_result"
    }
   ],
   "source": [
    "X = np.random.random(10)\n",
    "X[X.argmax()] = 0\n",
    "X"
   ]
  },
  {
   "cell_type": "markdown",
   "id": "d4f6e2e1",
   "metadata": {},
   "source": [
    "#### 46. Create a structured array with `x` and `y` coordinates covering the [0,1]x[0,1] area (★★☆)"
   ]
  },
  {
   "cell_type": "code",
   "execution_count": 60,
   "id": "7ce78506",
   "metadata": {},
   "outputs": [
    {
     "data": {
      "text/plain": [
       "(array([[0.  , 0.25, 0.5 , 0.75, 1.  ],\n",
       "        [0.  , 0.25, 0.5 , 0.75, 1.  ],\n",
       "        [0.  , 0.25, 0.5 , 0.75, 1.  ],\n",
       "        [0.  , 0.25, 0.5 , 0.75, 1.  ],\n",
       "        [0.  , 0.25, 0.5 , 0.75, 1.  ]]),\n",
       " array([[0.  , 0.  , 0.  , 0.  , 0.  ],\n",
       "        [0.25, 0.25, 0.25, 0.25, 0.25],\n",
       "        [0.5 , 0.5 , 0.5 , 0.5 , 0.5 ],\n",
       "        [0.75, 0.75, 0.75, 0.75, 0.75],\n",
       "        [1.  , 1.  , 1.  , 1.  , 1.  ]]))"
      ]
     },
     "execution_count": 60,
     "metadata": {},
     "output_type": "execute_result"
    }
   ],
   "source": [
    "np.meshgrid(np.linspace(0,1,5),\n",
    "            np.linspace(0,1,5))"
   ]
  },
  {
   "cell_type": "code",
   "execution_count": 61,
   "id": "f90f969b",
   "metadata": {},
   "outputs": [
    {
     "name": "stdout",
     "output_type": "stream",
     "text": [
      "[[(0.  , 0.  ) (0.25, 0.  ) (0.5 , 0.  ) (0.75, 0.  ) (1.  , 0.  )]\n",
      " [(0.  , 0.25) (0.25, 0.25) (0.5 , 0.25) (0.75, 0.25) (1.  , 0.25)]\n",
      " [(0.  , 0.5 ) (0.25, 0.5 ) (0.5 , 0.5 ) (0.75, 0.5 ) (1.  , 0.5 )]\n",
      " [(0.  , 0.75) (0.25, 0.75) (0.5 , 0.75) (0.75, 0.75) (1.  , 0.75)]\n",
      " [(0.  , 1.  ) (0.25, 1.  ) (0.5 , 1.  ) (0.75, 1.  ) (1.  , 1.  )]]\n"
     ]
    }
   ],
   "source": [
    "Z = np.zeros((5,5), dtype=[('x',float),('y',float)])\n",
    "Z['x'], Z['y'] = np.meshgrid(np.linspace(0,1,5),\n",
    "                             np.linspace(0,1,5))\n",
    "print(Z)"
   ]
  },
  {
   "cell_type": "markdown",
   "id": "bc9c88d3",
   "metadata": {},
   "source": [
    "#### 47. Given two arrays, X and Y, construct the Cauchy matrix C (Cij =1/(xi - yj)) (★★☆)"
   ]
  },
  {
   "cell_type": "code",
   "execution_count": 62,
   "id": "e90ad595",
   "metadata": {},
   "outputs": [
    {
     "name": "stdout",
     "output_type": "stream",
     "text": [
      "3638.1636371179666\n"
     ]
    }
   ],
   "source": [
    "X = np.arange(8)\n",
    "Y = X + 0.5\n",
    "C = 1.0 / np.subtract.outer(X, Y)\n",
    "print(np.linalg.det(C))"
   ]
  },
  {
   "cell_type": "markdown",
   "id": "a840a52f",
   "metadata": {},
   "source": [
    "#### 48. Print the minimum and maximum representable values for each numpy scalar type (★★☆)"
   ]
  },
  {
   "cell_type": "code",
   "execution_count": 63,
   "id": "d2eb3b4a",
   "metadata": {},
   "outputs": [
    {
     "name": "stdout",
     "output_type": "stream",
     "text": [
      "-128\n",
      "127\n",
      "-2147483648\n",
      "2147483647\n",
      "-9223372036854775808\n",
      "9223372036854775807\n",
      "-3.4028235e+38\n",
      "3.4028235e+38\n",
      "1.1920929e-07\n",
      "-1.7976931348623157e+308\n",
      "1.7976931348623157e+308\n",
      "2.220446049250313e-16\n"
     ]
    }
   ],
   "source": [
    "for dtype in [np.int8, np.int32, np.int64]:\n",
    "   print(np.iinfo(dtype).min)\n",
    "   print(np.iinfo(dtype).max)\n",
    "for dtype in [np.float32, np.float64]:\n",
    "   print(np.finfo(dtype).min)\n",
    "   print(np.finfo(dtype).max)\n",
    "   print(np.finfo(dtype).eps)"
   ]
  },
  {
   "cell_type": "markdown",
   "id": "0a0819d5",
   "metadata": {},
   "source": [
    "#### 49. How to print all the values of an array? (★★☆)"
   ]
  },
  {
   "cell_type": "code",
   "execution_count": 64,
   "id": "d76dbf55",
   "metadata": {},
   "outputs": [
    {
     "name": "stdout",
     "output_type": "stream",
     "text": [
      "[[0. 0. 0. 0. 0. 0. 0. 0. 0. 0. 0. 0. 0. 0. 0. 0. 0. 0. 0. 0. 0. 0. 0. 0.\n",
      "  0. 0. 0. 0. 0. 0. 0. 0. 0. 0. 0. 0. 0. 0. 0. 0.]\n",
      " [0. 0. 0. 0. 0. 0. 0. 0. 0. 0. 0. 0. 0. 0. 0. 0. 0. 0. 0. 0. 0. 0. 0. 0.\n",
      "  0. 0. 0. 0. 0. 0. 0. 0. 0. 0. 0. 0. 0. 0. 0. 0.]\n",
      " [0. 0. 0. 0. 0. 0. 0. 0. 0. 0. 0. 0. 0. 0. 0. 0. 0. 0. 0. 0. 0. 0. 0. 0.\n",
      "  0. 0. 0. 0. 0. 0. 0. 0. 0. 0. 0. 0. 0. 0. 0. 0.]\n",
      " [0. 0. 0. 0. 0. 0. 0. 0. 0. 0. 0. 0. 0. 0. 0. 0. 0. 0. 0. 0. 0. 0. 0. 0.\n",
      "  0. 0. 0. 0. 0. 0. 0. 0. 0. 0. 0. 0. 0. 0. 0. 0.]\n",
      " [0. 0. 0. 0. 0. 0. 0. 0. 0. 0. 0. 0. 0. 0. 0. 0. 0. 0. 0. 0. 0. 0. 0. 0.\n",
      "  0. 0. 0. 0. 0. 0. 0. 0. 0. 0. 0. 0. 0. 0. 0. 0.]\n",
      " [0. 0. 0. 0. 0. 0. 0. 0. 0. 0. 0. 0. 0. 0. 0. 0. 0. 0. 0. 0. 0. 0. 0. 0.\n",
      "  0. 0. 0. 0. 0. 0. 0. 0. 0. 0. 0. 0. 0. 0. 0. 0.]\n",
      " [0. 0. 0. 0. 0. 0. 0. 0. 0. 0. 0. 0. 0. 0. 0. 0. 0. 0. 0. 0. 0. 0. 0. 0.\n",
      "  0. 0. 0. 0. 0. 0. 0. 0. 0. 0. 0. 0. 0. 0. 0. 0.]\n",
      " [0. 0. 0. 0. 0. 0. 0. 0. 0. 0. 0. 0. 0. 0. 0. 0. 0. 0. 0. 0. 0. 0. 0. 0.\n",
      "  0. 0. 0. 0. 0. 0. 0. 0. 0. 0. 0. 0. 0. 0. 0. 0.]\n",
      " [0. 0. 0. 0. 0. 0. 0. 0. 0. 0. 0. 0. 0. 0. 0. 0. 0. 0. 0. 0. 0. 0. 0. 0.\n",
      "  0. 0. 0. 0. 0. 0. 0. 0. 0. 0. 0. 0. 0. 0. 0. 0.]\n",
      " [0. 0. 0. 0. 0. 0. 0. 0. 0. 0. 0. 0. 0. 0. 0. 0. 0. 0. 0. 0. 0. 0. 0. 0.\n",
      "  0. 0. 0. 0. 0. 0. 0. 0. 0. 0. 0. 0. 0. 0. 0. 0.]\n",
      " [0. 0. 0. 0. 0. 0. 0. 0. 0. 0. 0. 0. 0. 0. 0. 0. 0. 0. 0. 0. 0. 0. 0. 0.\n",
      "  0. 0. 0. 0. 0. 0. 0. 0. 0. 0. 0. 0. 0. 0. 0. 0.]\n",
      " [0. 0. 0. 0. 0. 0. 0. 0. 0. 0. 0. 0. 0. 0. 0. 0. 0. 0. 0. 0. 0. 0. 0. 0.\n",
      "  0. 0. 0. 0. 0. 0. 0. 0. 0. 0. 0. 0. 0. 0. 0. 0.]\n",
      " [0. 0. 0. 0. 0. 0. 0. 0. 0. 0. 0. 0. 0. 0. 0. 0. 0. 0. 0. 0. 0. 0. 0. 0.\n",
      "  0. 0. 0. 0. 0. 0. 0. 0. 0. 0. 0. 0. 0. 0. 0. 0.]\n",
      " [0. 0. 0. 0. 0. 0. 0. 0. 0. 0. 0. 0. 0. 0. 0. 0. 0. 0. 0. 0. 0. 0. 0. 0.\n",
      "  0. 0. 0. 0. 0. 0. 0. 0. 0. 0. 0. 0. 0. 0. 0. 0.]\n",
      " [0. 0. 0. 0. 0. 0. 0. 0. 0. 0. 0. 0. 0. 0. 0. 0. 0. 0. 0. 0. 0. 0. 0. 0.\n",
      "  0. 0. 0. 0. 0. 0. 0. 0. 0. 0. 0. 0. 0. 0. 0. 0.]\n",
      " [0. 0. 0. 0. 0. 0. 0. 0. 0. 0. 0. 0. 0. 0. 0. 0. 0. 0. 0. 0. 0. 0. 0. 0.\n",
      "  0. 0. 0. 0. 0. 0. 0. 0. 0. 0. 0. 0. 0. 0. 0. 0.]\n",
      " [0. 0. 0. 0. 0. 0. 0. 0. 0. 0. 0. 0. 0. 0. 0. 0. 0. 0. 0. 0. 0. 0. 0. 0.\n",
      "  0. 0. 0. 0. 0. 0. 0. 0. 0. 0. 0. 0. 0. 0. 0. 0.]\n",
      " [0. 0. 0. 0. 0. 0. 0. 0. 0. 0. 0. 0. 0. 0. 0. 0. 0. 0. 0. 0. 0. 0. 0. 0.\n",
      "  0. 0. 0. 0. 0. 0. 0. 0. 0. 0. 0. 0. 0. 0. 0. 0.]\n",
      " [0. 0. 0. 0. 0. 0. 0. 0. 0. 0. 0. 0. 0. 0. 0. 0. 0. 0. 0. 0. 0. 0. 0. 0.\n",
      "  0. 0. 0. 0. 0. 0. 0. 0. 0. 0. 0. 0. 0. 0. 0. 0.]\n",
      " [0. 0. 0. 0. 0. 0. 0. 0. 0. 0. 0. 0. 0. 0. 0. 0. 0. 0. 0. 0. 0. 0. 0. 0.\n",
      "  0. 0. 0. 0. 0. 0. 0. 0. 0. 0. 0. 0. 0. 0. 0. 0.]\n",
      " [0. 0. 0. 0. 0. 0. 0. 0. 0. 0. 0. 0. 0. 0. 0. 0. 0. 0. 0. 0. 0. 0. 0. 0.\n",
      "  0. 0. 0. 0. 0. 0. 0. 0. 0. 0. 0. 0. 0. 0. 0. 0.]\n",
      " [0. 0. 0. 0. 0. 0. 0. 0. 0. 0. 0. 0. 0. 0. 0. 0. 0. 0. 0. 0. 0. 0. 0. 0.\n",
      "  0. 0. 0. 0. 0. 0. 0. 0. 0. 0. 0. 0. 0. 0. 0. 0.]\n",
      " [0. 0. 0. 0. 0. 0. 0. 0. 0. 0. 0. 0. 0. 0. 0. 0. 0. 0. 0. 0. 0. 0. 0. 0.\n",
      "  0. 0. 0. 0. 0. 0. 0. 0. 0. 0. 0. 0. 0. 0. 0. 0.]\n",
      " [0. 0. 0. 0. 0. 0. 0. 0. 0. 0. 0. 0. 0. 0. 0. 0. 0. 0. 0. 0. 0. 0. 0. 0.\n",
      "  0. 0. 0. 0. 0. 0. 0. 0. 0. 0. 0. 0. 0. 0. 0. 0.]\n",
      " [0. 0. 0. 0. 0. 0. 0. 0. 0. 0. 0. 0. 0. 0. 0. 0. 0. 0. 0. 0. 0. 0. 0. 0.\n",
      "  0. 0. 0. 0. 0. 0. 0. 0. 0. 0. 0. 0. 0. 0. 0. 0.]\n",
      " [0. 0. 0. 0. 0. 0. 0. 0. 0. 0. 0. 0. 0. 0. 0. 0. 0. 0. 0. 0. 0. 0. 0. 0.\n",
      "  0. 0. 0. 0. 0. 0. 0. 0. 0. 0. 0. 0. 0. 0. 0. 0.]\n",
      " [0. 0. 0. 0. 0. 0. 0. 0. 0. 0. 0. 0. 0. 0. 0. 0. 0. 0. 0. 0. 0. 0. 0. 0.\n",
      "  0. 0. 0. 0. 0. 0. 0. 0. 0. 0. 0. 0. 0. 0. 0. 0.]\n",
      " [0. 0. 0. 0. 0. 0. 0. 0. 0. 0. 0. 0. 0. 0. 0. 0. 0. 0. 0. 0. 0. 0. 0. 0.\n",
      "  0. 0. 0. 0. 0. 0. 0. 0. 0. 0. 0. 0. 0. 0. 0. 0.]\n",
      " [0. 0. 0. 0. 0. 0. 0. 0. 0. 0. 0. 0. 0. 0. 0. 0. 0. 0. 0. 0. 0. 0. 0. 0.\n",
      "  0. 0. 0. 0. 0. 0. 0. 0. 0. 0. 0. 0. 0. 0. 0. 0.]\n",
      " [0. 0. 0. 0. 0. 0. 0. 0. 0. 0. 0. 0. 0. 0. 0. 0. 0. 0. 0. 0. 0. 0. 0. 0.\n",
      "  0. 0. 0. 0. 0. 0. 0. 0. 0. 0. 0. 0. 0. 0. 0. 0.]\n",
      " [0. 0. 0. 0. 0. 0. 0. 0. 0. 0. 0. 0. 0. 0. 0. 0. 0. 0. 0. 0. 0. 0. 0. 0.\n",
      "  0. 0. 0. 0. 0. 0. 0. 0. 0. 0. 0. 0. 0. 0. 0. 0.]\n",
      " [0. 0. 0. 0. 0. 0. 0. 0. 0. 0. 0. 0. 0. 0. 0. 0. 0. 0. 0. 0. 0. 0. 0. 0.\n",
      "  0. 0. 0. 0. 0. 0. 0. 0. 0. 0. 0. 0. 0. 0. 0. 0.]\n",
      " [0. 0. 0. 0. 0. 0. 0. 0. 0. 0. 0. 0. 0. 0. 0. 0. 0. 0. 0. 0. 0. 0. 0. 0.\n",
      "  0. 0. 0. 0. 0. 0. 0. 0. 0. 0. 0. 0. 0. 0. 0. 0.]\n",
      " [0. 0. 0. 0. 0. 0. 0. 0. 0. 0. 0. 0. 0. 0. 0. 0. 0. 0. 0. 0. 0. 0. 0. 0.\n",
      "  0. 0. 0. 0. 0. 0. 0. 0. 0. 0. 0. 0. 0. 0. 0. 0.]\n",
      " [0. 0. 0. 0. 0. 0. 0. 0. 0. 0. 0. 0. 0. 0. 0. 0. 0. 0. 0. 0. 0. 0. 0. 0.\n",
      "  0. 0. 0. 0. 0. 0. 0. 0. 0. 0. 0. 0. 0. 0. 0. 0.]\n",
      " [0. 0. 0. 0. 0. 0. 0. 0. 0. 0. 0. 0. 0. 0. 0. 0. 0. 0. 0. 0. 0. 0. 0. 0.\n",
      "  0. 0. 0. 0. 0. 0. 0. 0. 0. 0. 0. 0. 0. 0. 0. 0.]\n",
      " [0. 0. 0. 0. 0. 0. 0. 0. 0. 0. 0. 0. 0. 0. 0. 0. 0. 0. 0. 0. 0. 0. 0. 0.\n",
      "  0. 0. 0. 0. 0. 0. 0. 0. 0. 0. 0. 0. 0. 0. 0. 0.]\n",
      " [0. 0. 0. 0. 0. 0. 0. 0. 0. 0. 0. 0. 0. 0. 0. 0. 0. 0. 0. 0. 0. 0. 0. 0.\n",
      "  0. 0. 0. 0. 0. 0. 0. 0. 0. 0. 0. 0. 0. 0. 0. 0.]\n",
      " [0. 0. 0. 0. 0. 0. 0. 0. 0. 0. 0. 0. 0. 0. 0. 0. 0. 0. 0. 0. 0. 0. 0. 0.\n",
      "  0. 0. 0. 0. 0. 0. 0. 0. 0. 0. 0. 0. 0. 0. 0. 0.]\n",
      " [0. 0. 0. 0. 0. 0. 0. 0. 0. 0. 0. 0. 0. 0. 0. 0. 0. 0. 0. 0. 0. 0. 0. 0.\n",
      "  0. 0. 0. 0. 0. 0. 0. 0. 0. 0. 0. 0. 0. 0. 0. 0.]]\n"
     ]
    }
   ],
   "source": [
    "np.set_printoptions(threshold=float(\"inf\"))\n",
    "Z = np.zeros((40,40))\n",
    "print(Z)"
   ]
  },
  {
   "cell_type": "markdown",
   "id": "50c62214",
   "metadata": {},
   "source": [
    "#### 50. How to find the closest value (to a given scalar) in a vector? (★★☆)"
   ]
  },
  {
   "cell_type": "code",
   "execution_count": 65,
   "id": "24b45bb5",
   "metadata": {},
   "outputs": [
    {
     "data": {
      "text/plain": [
       "np.int64(68)"
      ]
     },
     "execution_count": 65,
     "metadata": {},
     "output_type": "execute_result"
    }
   ],
   "source": [
    "Z = np.arange(100)\n",
    "v = np.random.uniform(0,100)\n",
    "index = (np.abs(v-Z)).argmin()\n",
    "Z[index]"
   ]
  },
  {
   "cell_type": "markdown",
   "id": "4c5a5116",
   "metadata": {},
   "source": [
    "#### 51. Create a structured array representing a position (x,y) and a color (r,g,b) (★★☆)"
   ]
  },
  {
   "cell_type": "code",
   "execution_count": 66,
   "id": "275806b2",
   "metadata": {},
   "outputs": [
    {
     "data": {
      "text/plain": [
       "array([(([0.], [0.]), ([0.], [0.], [0.])),\n",
       "       (([0.], [0.]), ([0.], [0.], [0.])),\n",
       "       (([0.], [0.]), ([0.], [0.], [0.])),\n",
       "       (([0.], [0.]), ([0.], [0.], [0.])),\n",
       "       (([0.], [0.]), ([0.], [0.], [0.])),\n",
       "       (([0.], [0.]), ([0.], [0.], [0.])),\n",
       "       (([0.], [0.]), ([0.], [0.], [0.])),\n",
       "       (([0.], [0.]), ([0.], [0.], [0.])),\n",
       "       (([0.], [0.]), ([0.], [0.], [0.])),\n",
       "       (([0.], [0.]), ([0.], [0.], [0.]))],\n",
       "      dtype=[('position', [('x', '<f8', (1,)), ('y', '<f8', (1,))]), ('color', [('r', '<f8', (1,)), ('g', '<f8', (1,)), ('b', '<f8', (1,))])])"
      ]
     },
     "execution_count": 66,
     "metadata": {},
     "output_type": "execute_result"
    }
   ],
   "source": [
    "Z = np.zeros(10, [ ('position', [ ('x', float, 1),\n",
    "                                  ('y', float, 1)]),\n",
    "                   ('color',    [ ('r', float, 1),\n",
    "                                  ('g', float, 1),\n",
    "                                  ('b', float, 1)])])\n",
    "Z"
   ]
  },
  {
   "cell_type": "markdown",
   "id": "1d3399ca",
   "metadata": {},
   "source": [
    "#### 52. Consider a random vector with shape (100,2) representing coordinates, find point by point distances (★★☆)"
   ]
  },
  {
   "cell_type": "code",
   "execution_count": 67,
   "id": "67eae5bf",
   "metadata": {},
   "outputs": [
    {
     "name": "stdout",
     "output_type": "stream",
     "text": [
      "[[0.         0.0843733  0.46220124 0.84361025 0.21045952 0.63200093\n",
      "  1.20335357 0.86868723 0.65808856 0.86679618 0.35232798 1.10048311\n",
      "  0.4749255  0.47621077 0.18716673 0.52200363 0.71111346 0.48706798\n",
      "  0.62760756 0.47991694 0.16116812 0.68470803 0.9212444  0.12424654\n",
      "  0.33116465 0.70196224 0.67736379 0.84571251 0.41158699 0.39384488\n",
      "  0.05954288 0.50929561 0.31191755 0.85056394 0.15963343 0.02111138\n",
      "  0.9707571  0.55387936 0.41238021 0.79449832 0.81469496 0.19756549\n",
      "  0.20950382 0.92683253 1.029627   0.82266973 0.72304393 0.28268128\n",
      "  0.33995992 0.79784191 0.30609666 0.06152396 0.65887455 0.53086165\n",
      "  0.38742448 0.81241098 0.65828732 0.21266235 0.26400451 0.90757215\n",
      "  0.80934793 0.42908071 0.64522842 0.12574728 0.915172   0.50833757\n",
      "  0.59729633 0.23097452 0.79434033 0.23665106 0.22810026 0.39937948\n",
      "  0.77234808 0.83563732 0.8882933  0.79401123 0.10215843 0.31033688\n",
      "  0.54912019 0.46736807 0.4242239  0.76210644 0.37700207 0.76119508\n",
      "  0.32300609 0.39264788 0.8629661  0.62840876 0.47839524 0.60062145\n",
      "  1.15030731 0.624645   0.80271974 0.76073964 0.8875741  0.2959681\n",
      "  0.50641613 0.72208927 0.81272229 0.0076516 ]\n",
      " [0.0843733  0.         0.54603579 0.90525483 0.2315882  0.7074577\n",
      "  1.24373513 0.95177044 0.63864888 0.90242337 0.43659453 1.14586464\n",
      "  0.55283478 0.53929004 0.1271951  0.53283305 0.78501446 0.47586214\n",
      "  0.6271499  0.55237189 0.22932969 0.66335554 0.9306616  0.14369217\n",
      "  0.41089657 0.69394316 0.70036182 0.82974537 0.48295132 0.47278517\n",
      "  0.02581843 0.47303624 0.39614934 0.90002536 0.21024543 0.1054397\n",
      "  1.02919648 0.54269056 0.49399711 0.82570762 0.84656436 0.18130828\n",
      "  0.22632842 0.97722741 1.06364019 0.8044812  0.80062214 0.23604146\n",
      "  0.41222125 0.82312032 0.30183936 0.1413839  0.65219064 0.54845891\n",
      "  0.46072508 0.87586016 0.74014888 0.15720801 0.34597194 0.94212056\n",
      "  0.8787446  0.39372624 0.62501171 0.09014123 0.93214162 0.56234814\n",
      "  0.65001042 0.20018567 0.8450538  0.20023401 0.21316134 0.48243384\n",
      "  0.85278477 0.81593936 0.9342009  0.76802948 0.09037124 0.33727721\n",
      "  0.6125396  0.51028636 0.50078078 0.75558977 0.39578426 0.80369629\n",
      "  0.31899956 0.47687126 0.87909534 0.59996707 0.49949707 0.58153634\n",
      "  1.18687324 0.70764586 0.82448774 0.78726681 0.90275185 0.32178251\n",
      "  0.49298076 0.73388179 0.77854968 0.09006801]\n",
      " [0.46220124 0.54603579 0.         0.55703601 0.47120869 0.26146324\n",
      "  1.02051162 0.40828472 0.86665712 0.75510599 0.1314259  0.89549128\n",
      "  0.14238451 0.30456089 0.61464495 0.63530589 0.34066346 0.7030979\n",
      "  0.76051978 0.21479735 0.34765387 0.89659176 0.949742   0.50345761\n",
      "  0.16329982 0.85283405 0.68110419 1.00989031 0.21849609 0.13509962\n",
      "  0.52173005 0.80949105 0.16636684 0.65173253 0.39963447 0.44151294\n",
      "  0.69108051 0.75126517 0.08508309 0.72349756 0.73563112 0.55164273\n",
      "  0.48229743 0.70936835 0.90381999 1.00004261 0.31398535 0.66302244\n",
      "  0.22479258 0.76064371 0.57098095 0.40576568 0.81250751 0.60929567\n",
      "  0.20184932 0.51669386 0.2100721  0.62744478 0.20515256 0.79564222\n",
      "  0.46489394 0.74328716 0.85937411 0.54747243 0.90387227 0.3871272\n",
      "  0.44334608 0.59627315 0.59761418 0.61067086 0.56217488 0.06999145\n",
      "  0.33226046 1.01813058 0.70707406 1.0096157  0.51516496 0.46829492\n",
      "  0.3316966  0.44171948 0.15921513 0.89514168 0.52259514 0.62741306\n",
      "  0.57846229 0.0737008  0.8645688  0.87851026 0.56173195 0.81892611\n",
      "  0.99579544 0.16667075 0.7843037  0.72431883 0.89032654 0.46926522\n",
      "  0.72530572 0.77383774 1.06119774 0.45738861]\n",
      " [0.84361025 0.90525483 0.55703601 0.         0.69981282 0.29996488\n",
      "  0.48027794 0.5080199  0.78896039 0.33506995 0.66297484 0.35156777\n",
      "  0.43223097 0.36740117 0.89629865 0.57608048 0.23653501 0.71315852\n",
      "  0.64295992 0.38601514 0.68246087 0.8112835  0.62531951 0.94243742\n",
      "  0.55628873 0.7118734  0.45579314 0.82859813 0.44344416 0.50173065\n",
      "  0.89050874 0.86388126 0.67955923 0.16836288 0.69518444 0.82996004\n",
      "  0.13539938 0.71366977 0.52200215 0.37306786 0.36770558 0.79276241\n",
      "  0.71005953 0.18066418 0.42090492 0.83775669 0.30359825 0.87101899\n",
      "  0.51293463 0.43333651 0.71794226 0.78466628 0.69305254 0.53097972\n",
      "  0.47245447 0.04083811 0.42915003 0.88906899 0.62666933 0.35842258\n",
      "  0.12932923 0.84182843 0.79128247 0.85132824 0.54758459 0.34993025\n",
      "  0.27263903 0.82127143 0.15722914 0.83662788 0.77875423 0.55802245\n",
      "  0.376703   0.85669375 0.22018872 0.89135775 0.82844227 0.60997882\n",
      "  0.29468093 0.42851622 0.45854721 0.71539165 0.59573455 0.25704318\n",
      "  0.71093694 0.6062448  0.53804284 0.84613848 0.5314306  0.77289164\n",
      "  0.47493879 0.47721801 0.46861665 0.41868158 0.55547618 0.62401693\n",
      "  0.72604872 0.55109203 0.96988382 0.84345751]\n",
      " [0.21045952 0.2315882  0.47120869 0.69981282 0.         0.55084349\n",
      "  1.01341257 0.84254754 0.46682959 0.671137   0.40921083 0.91818815\n",
      "  0.41937784 0.34787541 0.19655472 0.31157717 0.61841877 0.29090193\n",
      "  0.42003122 0.39156479 0.14151327 0.49529406 0.71078691 0.33467415\n",
      "  0.30852934 0.49855328 0.47050525 0.64782601 0.32412733 0.35480317\n",
      "  0.22779706 0.35315657 0.37675128 0.67661181 0.08627369 0.21173448\n",
      "  0.81658157 0.35563921 0.39479812 0.59412942 0.61497626 0.09626753\n",
      "  0.01190726 0.75432261 0.83209382 0.62730524 0.65124316 0.19874408\n",
      "  0.2673023  0.59259159 0.11490886 0.18480708 0.45490097 0.32126385\n",
      "  0.31307472 0.67472126 0.62440283 0.19188364 0.27787843 0.71065615\n",
      "  0.69336167 0.27920438 0.45526158 0.15676023 0.70594287 0.35007053\n",
      "  0.43337254 0.13466629 0.62335326 0.15056247 0.09446348 0.40126059\n",
      "  0.72015335 0.6417833  0.70751391 0.60867493 0.14212776 0.1057385\n",
      "  0.41825145 0.28486686 0.36467796 0.55714293 0.16723393 0.57524475\n",
      "  0.12886671 0.42109435 0.65344093 0.45100906 0.27002264 0.41038123\n",
      "  0.95558686 0.60676727 0.59536664 0.55634089 0.67782341 0.09020093\n",
      "  0.31217488 0.51168914 0.63971293 0.2154603 ]\n",
      " [0.63200093 0.7074577  0.26146324 0.29996488 0.55084349 0.\n",
      "  0.77472495 0.32895151 0.81808166 0.5502031  0.37900314 0.64716224\n",
      "  0.16119724 0.22244376 0.73629914 0.57590023 0.08322505 0.68594174\n",
      "  0.68533876 0.15970577 0.47909544 0.84611314 0.79385864 0.70814036\n",
      "  0.30581892 0.77343987 0.54814404 0.92020712 0.22906021 0.24292041\n",
      "  0.68738138 0.82252139 0.40286427 0.41814196 0.51203587 0.61428514\n",
      "  0.4318542  0.71418951 0.24471328 0.54258102 0.54895005 0.64628774\n",
      "  0.56267201 0.46473617 0.68137988 0.91866628 0.10152543 0.7472649\n",
      "  0.29649764 0.59219374 0.61429225 0.57048206 0.74047174 0.53681099\n",
      "  0.24750911 0.25915313 0.15238106 0.73878727 0.37859445 0.5867309\n",
      "  0.20402028 0.77474183 0.81497396 0.67754039 0.73244513 0.27924406\n",
      "  0.28053016 0.68528805 0.37073262 0.70125163 0.64377644 0.27637436\n",
      "  0.18383794 0.93793652 0.47598402 0.94914246 0.64851063 0.49558837\n",
      "  0.18236352 0.37035886 0.20800972 0.80040357 0.51844842 0.42806033\n",
      "  0.61448332 0.31920802 0.70350855 0.85252746 0.50694753 0.78264516\n",
      "  0.75905674 0.18827151 0.6224925  0.56154484 0.72717443 0.50451032\n",
      "  0.70530176 0.65122264 1.01550751 0.62965994]\n",
      " [1.20335357 1.24373513 1.02051162 0.48027794 1.01341257 0.77472495\n",
      "  0.         0.96657855 0.85872268 0.34545389 1.1100586  0.12880674\n",
      "  0.88407988 0.76584837 1.19233366 0.75712946 0.71667299 0.88310338\n",
      "  0.7398464  0.82249238 1.0522299  0.86637619 0.5063784  1.31965193\n",
      "  0.98163104 0.7546692  0.57282028 0.78568193 0.86143869 0.93887004\n",
      "  1.23642226 1.0167962  1.11838119 0.37249243 1.04377005 1.19537808\n",
      "  0.36889828 0.84629538 0.97050731 0.43066971 0.40899038 1.08787509\n",
      "  1.02015038 0.31132617 0.20097145 0.81095847 0.78306913 1.12769859\n",
      "  0.9193147  0.4564823  0.97912773 1.15299518 0.76429382 0.72354428\n",
      "  0.89155462 0.52027859 0.90938737 1.17466136 1.04297911 0.30995224\n",
      "  0.60404826 1.03318738 0.86859488 1.16867472 0.43439903 0.70672089\n",
      "  0.61963264 1.10003978 0.42959989 1.11230388 1.06335032 1.00783556\n",
      "  0.84998778 0.82445876 0.32267813 0.89020198 1.15541212 0.90804209\n",
      "  0.7074612  0.73603149 0.89557202 0.71853317 0.85935754 0.44231091\n",
      "  0.96553394 1.05879702 0.47318371 0.93545415 0.75966656 0.87565248\n",
      "  0.08194157 0.95679157 0.4737835  0.48243016 0.46682616 0.92372242\n",
      "  0.88390964 0.59954472 0.9719819  1.20558322]\n",
      " [0.86868723 0.95177044 0.40828472 0.5080199  0.84254754 0.32895151\n",
      "  0.96657855 0.         1.14695424 0.82836947 0.53299165 0.84024901\n",
      "  0.4235271  0.54639272 1.00936837 0.90463481 0.31452854 1.01121796\n",
      "  1.01394981 0.46512831 0.74001143 1.17504428 1.09892374 0.91025945\n",
      "  0.54699988 1.10138627 0.86901449 1.2459831  0.52401557 0.49093694\n",
      "  0.92803585 1.14309393 0.57154104 0.67024743 0.7855045  0.84828268\n",
      "  0.59800381 1.04212459 0.46003708 0.84138127 0.84328557 0.93309156\n",
      "  0.85438721 0.68752247 0.92891306 1.24568689 0.24112529 1.0411273\n",
      "  0.57524672 0.8965545  0.92268002 0.81055442 1.06907684 0.86575995\n",
      "  0.53030711 0.47566907 0.21816797 1.01811272 0.60626213 0.85816426\n",
      "  0.37937917 1.08975431 1.14370462 0.94433871 1.02983242 0.60811191\n",
      "  0.60326937 0.97573657 0.63935277 0.99121121 0.93697623 0.46935589\n",
      "  0.14932032 1.26501693 0.72583617 1.27786128 0.91266099 0.80622179\n",
      "  0.51125943 0.6982329  0.47795438 1.12619068 0.83860578 0.72041522\n",
      "  0.92539755 0.48096698 1.00817971 1.18004549 0.83500883 1.11080855\n",
      "  0.97536981 0.24413234 0.9294028  0.8702258  1.02992807 0.81275116\n",
      "  1.03118669 0.97278771 1.34445208 0.86422475]\n",
      " [0.65808856 0.63864888 0.86665712 0.78896039 0.46682959 0.81808166\n",
      "  0.85872268 1.14695424 0.         0.5502841  0.84665818 0.81731823\n",
      "  0.75942548 0.60497779 0.52443681 0.24255412 0.84844019 0.17630908\n",
      "  0.14602702 0.69652863 0.60153887 0.02999378 0.38439081 0.7745856\n",
      "  0.71351056 0.1048087  0.33866158 0.19217761 0.65738779 0.73188125\n",
      "  0.64915295 0.19760676 0.82173736 0.66716017 0.55090403 0.66598213\n",
      "  0.84690577 0.11653512 0.78159953 0.46532575 0.48340009 0.4623606\n",
      "  0.46223438 0.7302714  0.65850049 0.16584063 0.91186983 0.41637665\n",
      "  0.64263047 0.4173308  0.35520909 0.64807783 0.10002492 0.28161252\n",
      "  0.66711504 0.78765045 0.94728315 0.49466606 0.71411374 0.56953026\n",
      "  0.85686171 0.25903638 0.01460151 0.54941022 0.43306174 0.53884903\n",
      "  0.55786484 0.43849433 0.64254534 0.43971604 0.43081405 0.80335431\n",
      "  1.00088765 0.17771427 0.65899334 0.14469177 0.5606375  0.4120024\n",
      "  0.63609557 0.45017606 0.7168597  0.15514981 0.34714578 0.54541371\n",
      "  0.33936486 0.83958489 0.38747184 0.07811964 0.31424805 0.05747849\n",
      "  0.78034274 0.9527871  0.39146402 0.40628882 0.39856466 0.41703013\n",
      "  0.15467829 0.26678604 0.19814179 0.66476122]\n",
      " [0.86679618 0.90242337 0.75510599 0.33506995 0.671137   0.5502031\n",
      "  0.34545389 0.82836947 0.5502841  0.         0.8209423  0.27251201\n",
      "  0.61274662 0.46496106 0.84719968 0.41437255 0.52292951 0.54534589\n",
      "  0.41558501 0.54187603 0.72163045 0.56444895 0.29492601 0.98614206\n",
      "  0.68077433 0.45279974 0.23227104 0.53246552 0.56344297 0.64949663\n",
      "  0.89646571 0.68609576 0.82156165 0.16754445 0.70743743 0.86040387\n",
      "  0.32903676 0.51602443 0.68962906 0.08884082 0.06822337 0.74311031\n",
      "  0.67733534 0.19879721 0.16340711 0.54896901 0.59898997 0.78268228\n",
      "  0.61021133 0.13383775 0.63367384 0.81960183 0.4507483  0.37897005\n",
      "  0.59201721 0.35833223 0.70163224 0.82926216 0.73342661 0.04223215\n",
      "  0.45409593 0.69455405 0.55755051 0.82522308 0.21409619 0.39217645\n",
      "  0.31553926 0.75462602 0.1890168  0.76685277 0.71817587 0.72619004\n",
      "  0.68558369 0.56632338 0.12782049 0.61686456 0.81325722 0.56542968\n",
      "  0.42360401 0.401585   0.60910887 0.43453734 0.51437885 0.12769713\n",
      "  0.6201109  0.77753598 0.21369793 0.62231788 0.4142207  0.55557841\n",
      "  0.28445585 0.73749639 0.16440244 0.14655279 0.22657922 0.58104125\n",
      "  0.548665   0.28369463 0.69975886 0.8695848 ]\n",
      " [0.35232798 0.43659453 0.1314259  0.66297484 0.40921083 0.37900314\n",
      "  1.1100586  0.53299165 0.84665818 0.8209423  0.         0.98852139\n",
      "  0.23082899 0.35605624 0.52120097 0.63185635 0.46123307 0.6743811\n",
      "  0.75815017 0.28756655 0.27064593 0.87654013 0.98288049 0.37768924\n",
      "  0.14684158 0.8488775  0.71177816 1.00647348 0.25774118 0.1723551\n",
      "  0.41125304 0.76100659 0.04052741 0.73770586 0.32700316 0.33121984\n",
      "  0.79832452 0.73015381 0.14128011 0.77709045 0.79190025 0.47505388\n",
      "  0.41880669 0.80178603 0.97716479 0.99261658 0.44224761 0.58566535\n",
      "  0.22446168 0.80621919 0.51976951 0.30201864 0.80634338 0.61416394\n",
      "  0.2301147  0.62380873 0.34137098 0.5384323  0.13372567 0.8627382\n",
      "  0.58253756 0.68837954 0.83753891 0.45302315 0.94673549 0.43277353\n",
      "  0.50557872 0.51988045 0.6811517  0.53270903 0.49166679 0.10496314\n",
      "  0.46367135 1.00964096 0.79004946 0.99133503 0.42082439 0.435183\n",
      "  0.40405664 0.46243672 0.2148697  0.89758264 0.50020065 0.69466473\n",
      "  0.53048159 0.06060344 0.90280785 0.84683547 0.56146877 0.79453144\n",
      "  1.07806571 0.29608035 0.82550527 0.76829139 0.92898133 0.43175966\n",
      "  0.696882   0.79500295 1.03426489 0.34653678]\n",
      " [1.10048311 1.14586464 0.89549128 0.35156777 0.91818815 0.64716224\n",
      "  0.12880674 0.84024901 0.81731823 0.27251201 0.98852139 0.\n",
      "  0.76072697 0.65015217 1.10341112 0.68426754 0.58803961 0.81730895\n",
      "  0.68676196 0.70131299 0.94580906 0.82910071 0.50149495 1.21382042\n",
      "  0.86366479 0.71648656 0.50436379 0.77277227 0.74376556 0.81843737\n",
      "  1.13684863 0.95859544 0.99852989 0.25471516 0.94161622 1.09121929\n",
      "  0.24230478 0.78842103 0.84815928 0.36132886 0.34063872 0.99779238\n",
      "  0.92578197 0.18679684 0.18251254 0.79434072 0.65426306 1.04687501\n",
      "  0.80433671 0.40101094 0.89468989 1.0478535  0.71894588 0.64657147\n",
      "  0.77399116 0.39168223 0.78071334 1.08788516 0.92717516 0.24797003\n",
      "  0.4753507  0.96599992 0.82553713 1.07471774 0.42048561 0.59653228\n",
      "  0.50787279 1.01377887 0.31250612 1.02692128 0.97522493 0.88539681\n",
      "  0.72166652 0.80986311 0.21218982 0.86896087 1.05919038 0.81414908\n",
      "  0.58847351 0.63560205 0.77487223 0.68964393 0.77157953 0.3430336\n",
      "  0.88228135 0.93600963 0.44722155 0.89127776 0.67628994 0.82625264\n",
      "  0.14432622 0.82836363 0.42589535 0.4187211  0.44806806 0.82981528\n",
      "  0.82105211 0.55109917 0.95207465 1.10221749]\n",
      " [0.4749255  0.55283478 0.14238451 0.43223097 0.41937784 0.16119724\n",
      "  0.88407988 0.4235271  0.75942548 0.61274662 0.23082899 0.76072697\n",
      "  0.         0.1686793  0.59311529 0.5205607  0.24388777 0.60633792\n",
      "  0.64245277 0.07393532 0.32778682 0.78895596 0.81236323 0.54719384\n",
      "  0.14535419 0.7344728  0.54625055 0.88955656 0.10455436 0.08210347\n",
      "  0.53165824 0.72813843 0.24844352 0.51315452 0.367348   0.45650853\n",
      "  0.5676136  0.64702086 0.08979256 0.58191962 0.59368913 0.51124304\n",
      "  0.43124982 0.57397923 0.76226133 0.88233287 0.24811852 0.61810478\n",
      "  0.15245293 0.62048562 0.50077635 0.41361827 0.69616068 0.48952651\n",
      "  0.10680838 0.39327143 0.20574711 0.59916137 0.21767359 0.65334768\n",
      "  0.35817756 0.67014582 0.75367045 0.53086013 0.7639119  0.25083518\n",
      "  0.30143532 0.55317854 0.45800086 0.56880377 0.5138413  0.12598405\n",
      "  0.30401765 0.90094778 0.56753784 0.89927473 0.50040639 0.3864156\n",
      "  0.18932159 0.31718242 0.05493645 0.77232904 0.42727019 0.48505046\n",
      "  0.50454281 0.17555434 0.72594466 0.78046204 0.44689185 0.715943\n",
      "  0.85645788 0.1965816  0.64516422 0.5847003  0.75149159 0.39163364\n",
      "  0.62770238 0.64227326 0.95684321 0.47212066]\n",
      " [0.47621077 0.53929004 0.30456089 0.36740117 0.34787541 0.22244376\n",
      "  0.76584837 0.54639272 0.60497779 0.46496106 0.35605624 0.65015217\n",
      "  0.1686793  0.         0.54230132 0.36281861 0.27668321 0.46491549\n",
      "  0.4803544  0.09642738 0.31506006 0.63386159 0.64529228 0.57706547\n",
      "  0.21740803 0.57153647 0.37781756 0.72478168 0.09850987 0.18559544\n",
      "  0.52372952 0.6000861  0.35735371 0.39547108 0.33020642 0.4626537\n",
      "  0.49586725 0.49692646 0.22931282 0.42320072 0.43705101 0.44397632\n",
      "  0.35918089 0.46675186 0.62243837 0.71914336 0.32299593 0.53719606\n",
      "  0.15423865 0.45710409 0.39652598 0.4173949  0.53490678 0.32782148\n",
      "  0.12756492 0.33671999 0.3423064  0.53971321 0.27724091 0.50683731\n",
      "  0.34576902 0.55313537 0.60062992 0.49118075 0.59996815 0.08265862\n",
      "  0.15012944 0.47895043 0.33768943 0.49490966 0.43633671 0.26440435\n",
      "  0.40541067 0.73802207 0.44319619 0.74116385 0.46601834 0.27803839\n",
      "  0.07325108 0.15517276 0.14796228 0.606549   0.29609149 0.3392096\n",
      "  0.39526651 0.31499075 0.56004461 0.63415311 0.29086066 0.56590153\n",
      "  0.7275568  0.35062595 0.47995958 0.42031564 0.58584018 0.28859158\n",
      "  0.48479667 0.47364742 0.80311834 0.47607132]\n",
      " [0.18716673 0.1271951  0.61464495 0.89629865 0.19655472 0.73629914\n",
      "  1.19233366 1.00936837 0.52443681 0.84719968 0.52120097 1.10341112\n",
      "  0.59311529 0.54230132 0.         0.4520085  0.80786702 0.37194068\n",
      "  0.53061804 0.57676172 0.26951925 0.54747949 0.84068291 0.27081897\n",
      "  0.46255679 0.58876965 0.63067542 0.71657309 0.50724781 0.51915471\n",
      "  0.14698262 0.34976189 0.48214953 0.8675117  0.22580641 0.20563613\n",
      "  1.01198366 0.43707111 0.55016238 0.76511974 0.78659747 0.10602089\n",
      "  0.18624619 0.94531162 1.00408872 0.68981653 0.83471688 0.11134181\n",
      "  0.44234836 0.75422477 0.21674749 0.22146701 0.5488791  0.47584089\n",
      "  0.4909555  0.87125417 0.79259529 0.03080943 0.40950293 0.88473752\n",
      "  0.88806116 0.2719233  0.51035772 0.06817789 0.85102414 0.54644757\n",
      "  0.62869602 0.09618633 0.81567223 0.0885665  0.12903435 0.54651779\n",
      "  0.89712755 0.70012402 0.89501211 0.64839585 0.10045631 0.2921877\n",
      "  0.61366078 0.47718437 0.53846933 0.65107597 0.33300454 0.76093186\n",
      "  0.23233378 0.55164751 0.79756374 0.47992971 0.43368736 0.46830136\n",
      "  1.13002716 0.76714098 0.7508688  0.7206941  0.81978105 0.27691241\n",
      "  0.38639604 0.64922249 0.65469983 0.19472922]\n",
      " [0.52200363 0.53283305 0.63530589 0.57608048 0.31157717 0.57590023\n",
      "  0.75712946 0.90463481 0.24255412 0.41437255 0.63185635 0.68426754\n",
      "  0.5205607  0.36281861 0.4520085  0.         0.60917917 0.13945029\n",
      "  0.12645037 0.455506   0.41881563 0.27115814 0.39942631 0.6461605\n",
      "  0.49060168 0.21816799 0.18455508 0.37587309 0.42076588 0.50030902\n",
      "  0.534083   0.28989327 0.61247206 0.48305085 0.37977988 0.52293873\n",
      "  0.65591542 0.14188496 0.55049881 0.32682873 0.34844421 0.35576148\n",
      "  0.31282067 0.55608037 0.56149934 0.36478793 0.67069724 0.37348279\n",
      "  0.41545813 0.30591102 0.2358374  0.49242281 0.1772076  0.04511484\n",
      "  0.43363158 0.56813859 0.7050634  0.42960187 0.50452238 0.44730896\n",
      "  0.62792977 0.2829865  0.23907809 0.44592179 0.40027011 0.29669676\n",
      "  0.32390239 0.35602314 0.4452749  0.36585338 0.32620602 0.57567213\n",
      "  0.75907313 0.38282516 0.49195398 0.37901628 0.44319145 0.220053\n",
      "  0.39431264 0.20776877 0.48094976 0.26593922 0.14807178 0.36075993\n",
      "  0.21977085 0.61626794 0.34695315 0.28028232 0.07385156 0.20823032\n",
      "  0.68887439 0.71194249 0.29953472 0.27553128 0.37016193 0.23162867\n",
      "  0.15025403 0.20115197 0.44056893 0.52703632]\n",
      " [0.71111346 0.78501446 0.34066346 0.23653501 0.61841877 0.08322505\n",
      "  0.71667299 0.31452854 0.84844019 0.52292951 0.46123307 0.58803961\n",
      "  0.24388777 0.27668321 0.80786702 0.60917917 0.         0.72829319\n",
      "  0.71014223 0.23303396 0.55588379 0.87537548 0.78539327 0.7900434\n",
      "  0.38766834 0.79474237 0.5560563  0.93533929 0.30293297 0.32514811\n",
      "  0.76560109 0.8701162  0.48582816 0.37581093 0.58568861 0.69384655\n",
      "  0.36218498 0.75019686 0.32791627 0.52866919 0.53182339 0.71454347\n",
      "  0.63009414 0.41162866 0.64064153 0.93668415 0.07621006 0.81202557\n",
      "  0.37283731 0.58280468 0.67320905 0.64961284 0.76495888 0.56742229\n",
      "  0.3243108  0.19640078 0.19275559 0.80860591 0.4606665  0.55611397\n",
      "  0.12530958 0.82767898 0.84666885 0.75109437 0.71813508 0.31643607\n",
      "  0.29371349 0.75188691 0.33580233 0.76788931 0.70972253 0.35926115\n",
      "  0.16608921 0.95606762 0.43370462 0.97361822 0.72289327 0.55467276\n",
      "  0.21970663 0.41080785 0.28862464 0.81583826 0.56937459 0.40878563\n",
      "  0.67180569 0.40112478 0.69458686 0.88901585 0.54441861 0.81740087\n",
      "  0.70788161 0.240965   0.61530371 0.55584932 0.71678724 0.56495253\n",
      "  0.74640285 0.65983451 1.04375355 0.70905062]\n",
      " [0.48706798 0.47586214 0.7030979  0.71315852 0.29090193 0.68594174\n",
      "  0.88310338 1.01121796 0.17630908 0.54534589 0.6743811  0.81730895\n",
      "  0.60633792 0.46491549 0.37194068 0.13945029 0.72829319 0.\n",
      "  0.16229956 0.54961749 0.42534139 0.20531089 0.4743286  0.60655249\n",
      "  0.54565402 0.2181715  0.31307816 0.3588734  0.50214167 0.56982298\n",
      "  0.48357786 0.15090046 0.64803004 0.62229957 0.37461944 0.4935727\n",
      "  0.79532184 0.0670424  0.61857439 0.45664298 0.47785542 0.29542281\n",
      "  0.28673745 0.69482148 0.68416675 0.33697373 0.78448745 0.27387924\n",
      "  0.47833443 0.4268708  0.18135678 0.47343709 0.17716125 0.18366729\n",
      "  0.50784476 0.70334474 0.80306923 0.34450877 0.54109313 0.57532618\n",
      "  0.75818015 0.15010743 0.16539512 0.38572482 0.49593097 0.41185746\n",
      "  0.45370678 0.27891983 0.58466632 0.28365373 0.26340368 0.63751052\n",
      "  0.86967124 0.35105508 0.62966903 0.3197801  0.39294245 0.23934151\n",
      "  0.50914556 0.31758651 0.55969409 0.28009758 0.18075466 0.49967262\n",
      "  0.16486238 0.67086457 0.44322348 0.17544294 0.18626767 0.12104684\n",
      "  0.8114088  0.80251008 0.41336462 0.40143024 0.46260667 0.2428624\n",
      "  0.02250572 0.29515914 0.36021592 0.49344456]\n",
      " [0.62760756 0.6271499  0.76051978 0.64295992 0.42003122 0.68533876\n",
      "  0.7398464  1.01394981 0.14602702 0.41558501 0.75815017 0.68676196\n",
      "  0.64245277 0.4803544  0.53061804 0.12645037 0.71014223 0.16229956\n",
      "  0.         0.57514295 0.53827682 0.16901397 0.31208774 0.75046349\n",
      "  0.61703656 0.09233978 0.1944535  0.24964888 0.54457592 0.62571562\n",
      "  0.63203229 0.27752207 0.73826853 0.52304234 0.49525914 0.6310185\n",
      "  0.70242678 0.10899111 0.67591863 0.3280812  0.3475495  0.44596035\n",
      "  0.41907733 0.5881792  0.5390061  0.2400203  0.77607769 0.43578394\n",
      "  0.5417227  0.28638561 0.32552553 0.60441116 0.05513315 0.15297228\n",
      "  0.55868164 0.64204984 0.82075225 0.50427909 0.63015946 0.43938591\n",
      "  0.71283977 0.30538887 0.14916195 0.53752634 0.33616789 0.40794057\n",
      "  0.41727112 0.43566657 0.49689652 0.44205444 0.41434853 0.70167798\n",
      "  0.86632305 0.25852092 0.51787922 0.26397252 0.54036283 0.33897055\n",
      "  0.50305019 0.32594449 0.60489686 0.14074161 0.26692615 0.40055053\n",
      "  0.3083173  0.74263701 0.28436095 0.20946559 0.19901893 0.14016506\n",
      "  0.66472327 0.83094733 0.26608068 0.26923616 0.30227028 0.34866957\n",
      "  0.15447235 0.1408277  0.33430215 0.63329481]\n",
      " [0.47991694 0.55237189 0.21479735 0.38601514 0.39156479 0.15970577\n",
      "  0.82249238 0.46512831 0.69652863 0.54187603 0.28756655 0.70131299\n",
      "  0.07393532 0.09642738 0.57676172 0.455506   0.23303396 0.54961749\n",
      "  0.57514295 0.         0.32308373 0.7257459  0.73848581 0.56573689\n",
      "  0.17038383 0.66671101 0.47288825 0.82063576 0.06995796 0.11758831\n",
      "  0.53340028 0.67816326 0.2978021  0.45016271 0.35313902 0.46334588\n",
      "  0.52065201 0.58618737 0.14927765 0.50871574 0.52086589 0.4867567\n",
      "  0.40342405 0.51472324 0.69377812 0.8144716  0.25967837 0.58876058\n",
      "  0.14023885 0.54667307 0.46006726 0.41859838 0.62939801 0.42225781\n",
      "  0.09263121 0.34933609 0.25346692 0.57908161 0.24175675 0.58287333\n",
      "  0.33105732 0.62502206 0.69151248 0.51867214 0.69007545 0.17760972\n",
      "  0.2286172  0.52615531 0.39376307 0.54209061 0.48493128 0.18652075\n",
      "  0.33194169 0.83326244 0.50289914 0.83448229 0.49011464 0.34226648\n",
      "  0.11867543 0.24920847 0.07385122 0.70266367 0.37402617 0.41427039\n",
      "  0.46167892 0.23798764 0.65200942 0.72180522 0.38248356 0.65527836\n",
      "  0.79139611 0.25643818 0.57123727 0.51080387 0.67755798 0.34983309\n",
      "  0.57034758 0.56972278 0.89453063 0.47824435]\n",
      " [0.16116812 0.22932969 0.34765387 0.68246087 0.14151327 0.47909544\n",
      "  1.0522299  0.74001143 0.60153887 0.72163045 0.27064593 0.94580906\n",
      "  0.32778682 0.31506006 0.26951925 0.41881563 0.55588379 0.42534139\n",
      "  0.53827682 0.32308373 0.         0.63065197 0.80868535 0.26801161\n",
      "  0.19306205 0.62286452 0.54999807 0.77651568 0.25362269 0.25087193\n",
      "  0.21105843 0.49456339 0.23645791 0.69385951 0.05652919 0.14799039\n",
      "  0.80999895 0.48739261 0.28065752 0.65483063 0.6740502  0.20607987\n",
      "  0.14998823 0.7693647  0.88503695 0.75812681 0.57396421 0.3175582\n",
      "  0.1830527  0.66530916 0.25574396 0.10309142 0.57905117 0.41627899\n",
      "  0.23178354 0.65127586 0.52374479 0.28025612 0.14442352 0.76321001\n",
      "  0.65007235 0.41973072 0.59072401 0.20450353 0.79197732 0.35043328\n",
      "  0.43962362 0.25104121 0.63704599 0.2647082  0.22110206 0.27849661\n",
      "  0.63101438 0.77353951 0.73388593 0.74499862 0.17324791 0.19943081\n",
      "  0.38795247 0.32011641 0.27423465 0.67847112 0.27172419 0.61023752\n",
      "  0.26861129 0.28950174 0.74165841 0.59062248 0.36102909 0.54618343\n",
      "  1.00269237 0.49762667 0.67466564 0.62717505 0.76723167 0.18979331\n",
      "  0.4473352  0.60984666 0.77940381 0.1610574 ]\n",
      " [0.68470803 0.66335554 0.89659176 0.8112835  0.49529406 0.84611314\n",
      "  0.86637619 1.17504428 0.02999378 0.56444895 0.87654013 0.82910071\n",
      "  0.78895596 0.63386159 0.54747949 0.27115814 0.87537548 0.20531089\n",
      "  0.16901397 0.7257459  0.63065197 0.         0.38350315 0.80031249\n",
      "  0.74350337 0.11265353 0.35850542 0.17115988 0.68707153 0.76179268\n",
      "  0.67445143 0.21284213 0.85150092 0.68610705 0.57968825 0.69298958\n",
      "  0.8660105  0.14647606 0.81152962 0.48091683 0.49832351 0.48835859\n",
      "  0.49047531 0.74764691 0.66696259 0.14264693 0.93939301 0.43840233\n",
      "  0.67260242 0.43085435 0.38303794 0.67584595 0.11865535 0.3093504\n",
      "  0.69695397 0.81096702 0.97615693 0.51743436 0.74393129 0.58188871\n",
      "  0.88161337 0.27924281 0.0400328  0.57450277 0.43704355 0.56695385\n",
      "  0.58400561 0.46318888 0.66327487 0.46379232 0.45700545 0.83333667\n",
      "  1.02867355 0.15273182 0.67588879 0.11490005 0.5865695  0.44178091\n",
      "  0.6639736  0.47891179 0.74660169 0.15322473 0.37711801 0.56523364\n",
      "  0.36740476 0.86957474 0.39357299 0.08243837 0.34332393 0.08494381\n",
      "  0.78719967 0.98207291 0.40345515 0.42213673 0.40286385 0.44666625\n",
      "  0.18342077 0.28088643 0.16947496 0.69145562]\n",
      " [0.9212444  0.9306616  0.949742   0.62531951 0.71078691 0.79385864\n",
      "  0.5063784  1.09892374 0.38439081 0.29492601 0.98288049 0.50149495\n",
      "  0.81236323 0.64529228 0.84068291 0.39942631 0.78539327 0.4743286\n",
      "  0.31208774 0.73848581 0.80868535 0.38350315 0.         1.04545749\n",
      "  0.83603893 0.28236197 0.27115286 0.27950235 0.73503411 0.8243\n",
      "  0.93294976 0.57160358 0.9722771  0.46086278 0.77517898 0.9216247\n",
      "  0.62182356 0.4164277  0.87176977 0.25811085 0.25903651 0.75112668\n",
      "  0.71223474 0.4908686  0.32081607 0.3058207  0.86089189 0.74782716\n",
      "  0.75851501 0.20264339 0.62985242 0.88946904 0.30895112 0.39314234\n",
      "  0.75809403 0.64386255 0.94522969 0.81514463 0.86927736 0.2857331\n",
      "  0.73655101 0.61313704 0.39709491 0.84239787 0.08384354 0.5626536\n",
      "  0.51940018 0.74495675 0.47095288 0.75229757 0.72029239 0.90452077\n",
      "  0.95144491 0.31852115 0.42213664 0.38684122 0.841675   0.61497023\n",
      "  0.6321038  0.52060942 0.79155214 0.23035079 0.54504172 0.37977254\n",
      "  0.61293433 0.952647   0.09081153 0.46209876 0.44797034 0.4185253\n",
      "  0.42455001 0.97176426 0.17136724 0.23244125 0.06998256 0.62796637\n",
      "  0.46512855 0.19958961 0.46721971 0.9261615 ]\n",
      " [0.12424654 0.14369217 0.50345761 0.94243742 0.33467415 0.70814036\n",
      "  1.31965193 0.91025945 0.7745856  0.98614206 0.37768924 1.21382042\n",
      "  0.54719384 0.57706547 0.27081897 0.6461605  0.7900434  0.60655249\n",
      "  0.75046349 0.56573689 0.26801161 0.80031249 1.04545749 0.\n",
      "  0.40239584 0.82301481 0.80078481 0.96406823 0.5012256  0.46523538\n",
      "  0.12717551 0.61516906 0.33872509 0.96167832 0.27951209 0.12640472\n",
      "  1.07277642 0.67357468 0.47197958 0.91568924 0.93561963 0.3123044\n",
      "  0.33346793 1.03688451 1.14934326 0.94001666 0.79191547 0.37936884\n",
      "  0.43021331 0.92066162 0.4268824  0.16675723 0.78025495 0.6550203\n",
      "  0.47394807 0.90905118 0.71063337 0.30089951 0.32955465 1.02728621\n",
      "  0.89659421 0.53539141 0.76132275 0.22705884 1.03917755 0.61814403\n",
      "  0.70730893 0.33876429 0.90471145 0.3408775  0.344053   0.45048097\n",
      "  0.83015038 0.9522897  1.00187743 0.90725316 0.21405029 0.43407226\n",
      "  0.64841487 0.58506311 0.5018483  0.88368452 0.50121857 0.87740456\n",
      "  0.4439921  0.42994519 0.98705776 0.73989943 0.60234896 0.71716054\n",
      "  1.26869579 0.67010464 0.92620081 0.88332624 1.01171923 0.41988707\n",
      "  0.62512607 0.84633191 0.92058415 0.11964529]\n",
      " [0.33116465 0.41089657 0.16329982 0.55628873 0.30852934 0.30581892\n",
      "  0.98163104 0.54699988 0.71351056 0.68077433 0.14684158 0.86366479\n",
      "  0.14535419 0.21740803 0.46255679 0.49060168 0.38766834 0.54565402\n",
      "  0.61703656 0.17038383 0.19306205 0.74350337 0.83603893 0.40239584\n",
      "  0.         0.70860371 0.56493961 0.86637132 0.12019826 0.06328921\n",
      "  0.38883645 0.64709125 0.14095546 0.60977025 0.24083146 0.31224797\n",
      "  0.69067296 0.59721248 0.08798077 0.63310193 0.6485766  0.39184229\n",
      "  0.31977878 0.67822404 0.839499   0.85401517 0.39276149 0.50260835\n",
      "  0.07776634 0.66048243 0.40785893 0.27030188 0.6667704  0.47030559\n",
      "  0.09016815 0.51971805 0.33134445 0.47241115 0.07313421 0.72284926\n",
      "  0.49685783 0.58011874 0.70534925 0.39734555 0.80042092 0.28953513\n",
      "  0.36733926 0.43600838 0.5522462  0.45081454 0.40052678 0.09395526\n",
      "  0.44190476 0.87150639 0.65934215 0.85765711 0.36573731 0.30798521\n",
      "  0.27526964 0.31563824 0.10049414 0.75530432 0.36669578 0.55607091\n",
      "  0.41566388 0.12623727 0.75614332 0.72054922 0.41878794 0.66364399\n",
      "  0.94482058 0.30469172 0.6791626  0.62239836 0.78232566 0.30780788\n",
      "  0.5680613  0.64869156 0.90543465 0.32799992]\n",
      " [0.70196224 0.69394316 0.85283405 0.7118734  0.49855328 0.77343987\n",
      "  0.7546692  1.10138627 0.1048087  0.45279974 0.8488775  0.71648656\n",
      "  0.7344728  0.57153647 0.58876965 0.21816799 0.79474237 0.2181715\n",
      "  0.09233978 0.66671101 0.62286452 0.11265353 0.28236197 0.82301481\n",
      "  0.70860371 0.         0.25610762 0.1577692  0.63688724 0.7179978\n",
      "  0.70119159 0.29031955 0.82814627 0.57964001 0.57734225 0.70703768\n",
      "  0.75943228 0.15182508 0.76820127 0.37057195 0.38732839 0.51317172\n",
      "  0.49631828 0.63873693 0.5548353  0.14786024 0.86231852 0.48640697\n",
      "  0.63362566 0.31901213 0.39617606 0.68331944 0.0438393  0.24496107\n",
      "  0.65100288 0.71454331 0.91089367 0.56054302 0.71990602 0.46942744\n",
      "  0.7901077  0.33896551 0.11616839 0.60380227 0.32831403 0.49768251\n",
      "  0.50104679 0.49684244 0.56040184 0.50096516 0.48115784 0.7937773\n",
      "  0.95313157 0.16655551 0.56651366 0.18078639 0.61013921 0.42467288\n",
      "  0.59154283 0.4176369  0.69721222 0.06236864 0.35358249 0.46085012\n",
      "  0.3791217  0.83438529 0.28276949 0.18276827 0.29122005 0.13694702\n",
      "  0.67595451 0.92215205 0.29099532 0.31227422 0.29379011 0.43318078\n",
      "  0.20239481 0.17009826 0.25801812 0.70804846]\n",
      " [0.67736379 0.70036182 0.68110419 0.45579314 0.47050525 0.54814404\n",
      "  0.57282028 0.86901449 0.33866158 0.23227104 0.71177816 0.50436379\n",
      "  0.54625055 0.37781756 0.63067542 0.18455508 0.5560563  0.31307816\n",
      "  0.1944535  0.47288825 0.54999807 0.35850542 0.27115286 0.80078481\n",
      "  0.56493961 0.25610762 0.         0.38148273 0.46483877 0.55384025\n",
      "  0.69819043 0.45534042 0.70172284 0.32869297 0.52313711 0.67466597\n",
      "  0.50829366 0.28666374 0.60180851 0.14364786 0.16500767 0.53009346\n",
      "  0.4745119  0.39410015 0.37703508 0.3863433  0.62789419 0.55732052\n",
      "  0.48748407 0.12360627 0.41411865 0.6383879  0.23988177 0.15485021\n",
      "  0.48728915 0.45938017 0.69518649 0.61005908 0.59981665 0.26332668\n",
      "  0.53818886 0.46237223 0.34308342 0.61725238 0.24231164 0.29541548\n",
      "  0.26762439 0.53566271 0.30500832 0.54659005 0.50250519 0.63401098\n",
      "  0.71969427 0.40562486 0.32455479 0.43576285 0.60999677 0.3671206\n",
      "  0.37417134 0.24977827 0.52223596 0.26365608 0.3045875  0.20680837\n",
      "  0.39915595 0.68176566 0.19359944 0.40378042 0.20086562 0.33309622\n",
      "  0.50435966 0.71587954 0.12543717 0.09105803 0.21968033 0.3817935\n",
      "  0.31679676 0.10379877 0.51412527 0.68135913]\n",
      " [0.84571251 0.82974537 1.00989031 0.82859813 0.64782601 0.92020712\n",
      "  0.78568193 1.2459831  0.19217761 0.53246552 1.00647348 0.77277227\n",
      "  0.88955656 0.72478168 0.71657309 0.37587309 0.93533929 0.3588734\n",
      "  0.24964888 0.82063576 0.77651568 0.17115988 0.27950235 0.96406823\n",
      "  0.86637132 0.1577692  0.38148273 0.         0.79326029 0.87521098\n",
      "  0.83948974 0.38330742 0.98534792 0.68113245 0.72910307 0.85244223\n",
      "  0.85710912 0.29258718 0.92540815 0.46349339 0.47529408 0.6518534\n",
      "  0.64451674 0.72953678 0.59606603 0.03282409 1.00542673 0.60848186\n",
      "  0.79131408 0.40437894 0.5402289  0.83169038 0.20017754 0.40091506\n",
      "  0.80804346 0.83668093 1.06124631 0.68683847 0.87707614 0.53765618\n",
      "  0.91881251 0.4501858  0.20638868 0.74014334 0.35400339 0.64853582\n",
      "  0.64280523 0.62979875 0.67237204 0.63148683 0.62002816 0.95132627\n",
      "  1.09694102 0.03947972 0.65689468 0.11423532 0.75003406 0.579837\n",
      "  0.73979497 0.57237423 0.85359013 0.11982882 0.509612   0.57178928\n",
      "  0.5236737  0.99213079 0.32665827 0.24943429 0.44865843 0.24850105\n",
      "  0.70393257 1.07486041 0.37024992 0.41138117 0.32479128 0.58752188\n",
      "  0.33930277 0.27952565 0.18933517 0.85216445]\n",
      " [0.41158699 0.48295132 0.21849609 0.44344416 0.32412733 0.22906021\n",
      "  0.86143869 0.52401557 0.65738779 0.56344297 0.25774118 0.74376556\n",
      "  0.10455436 0.09850987 0.50724781 0.42076588 0.30293297 0.50214167\n",
      "  0.54457592 0.06995796 0.25362269 0.68707153 0.73503411 0.5012256\n",
      "  0.12019826 0.63688724 0.46483877 0.79326029 0.         0.08949439\n",
      "  0.46432402 0.62379535 0.25908939 0.48967618 0.2832384  0.3955084\n",
      "  0.57633859 0.54406544 0.13702227 0.52006339 0.53447536 0.4186151\n",
      "  0.33602589 0.55868165 0.72082021 0.78455551 0.32799363 0.52224233\n",
      "  0.07176204 0.55155951 0.39867053 0.35050064 0.59747566 0.39234548\n",
      "  0.03023441 0.4086856  0.30781652 0.51012454 0.18508867 0.60533795\n",
      "  0.39790941 0.56677191 0.65121912 0.44878023 0.69355605 0.17609957\n",
      "  0.24855346 0.45878515 0.43210707 0.4746543  0.41808481 0.16965099\n",
      "  0.39641652 0.80291619 0.53915186 0.79836717 0.42016079 0.28289169\n",
      "  0.15584269 0.22325511 0.06033367 0.67755836 0.32276596 0.43768582\n",
      "  0.40166273 0.21895723 0.651792   0.67659182 0.34691442 0.61282305\n",
      "  0.82492897 0.30113592 0.57277491 0.51414738 0.67780836 0.28885359\n",
      "  0.52362001 0.55578082 0.85427752 0.41017761]\n",
      " [0.39384488 0.47278517 0.13509962 0.50173065 0.35480317 0.24292041\n",
      "  0.93887004 0.49093694 0.73188125 0.64949663 0.1723551  0.81843737\n",
      "  0.08210347 0.18559544 0.51915471 0.50030902 0.32514811 0.56982298\n",
      "  0.62571562 0.11758831 0.25087193 0.76179268 0.8243     0.46523538\n",
      "  0.06328921 0.7179978  0.55384025 0.87521098 0.08949439 0.\n",
      "  0.45111646 0.68112646 0.18025736 0.56637988 0.29458902 0.37514367\n",
      "  0.63682318 0.61674336 0.05020348 0.60863129 0.62263744 0.44286222\n",
      "  0.36645815 0.63199472 0.80495966 0.86508257 0.32957574 0.55216254\n",
      "  0.09270943 0.64091752 0.44615109 0.33274716 0.67751663 0.47495966\n",
      "  0.06771525 0.46411712 0.27350513 0.52722108 0.13568091 0.69114535\n",
      "  0.4364442  0.61802629 0.72476531 0.45523156 0.78302282 0.26527279\n",
      "  0.33395856 0.48612916 0.50951513 0.5013828  0.44862799 0.08022492\n",
      "  0.38070584 0.88312832 0.61812861 0.87463929 0.42411851 0.33810927\n",
      "  0.23193223 0.30965092 0.04373771 0.76099874 0.38908306 0.52281194\n",
      "  0.45208109 0.12965632 0.74126512 0.7452526  0.42681494 0.68466093\n",
      "  0.90585905 0.25204432 0.66226596 0.60357422 0.76728905 0.34059094\n",
      "  0.59189515 0.64352868 0.92691563 0.39083881]\n",
      " [0.05954288 0.02581843 0.52173005 0.89050874 0.22779706 0.68738138\n",
      "  1.23642226 0.92803585 0.64915295 0.89646571 0.41125304 1.13684863\n",
      "  0.53165824 0.52372952 0.14698262 0.534083   0.76560109 0.48357786\n",
      "  0.63203229 0.53340028 0.21105843 0.67445143 0.93294976 0.12717551\n",
      "  0.38883645 0.70119159 0.69819043 0.83948974 0.46432402 0.45111646\n",
      "  0.         0.48801882 0.37077964 0.88950201 0.19719232 0.08042169\n",
      "  1.01564739 0.55058626 0.47107014 0.8210986  0.84176514 0.18816136\n",
      "  0.22377268 0.96643608 1.05831658 0.81484231 0.77967346 0.25297908\n",
      "  0.39316168 0.82038844 0.30658288 0.11859021 0.65897629 0.54767086\n",
      "  0.44133895 0.86044946 0.71713384 0.17601159 0.32280557 0.93654255\n",
      "  0.86112867 0.40821663 0.63571788 0.10015226 0.93210929 0.54993379\n",
      "  0.63815841 0.21192146 0.83406775 0.21371319 0.220176   0.45868898\n",
      "  0.83052207 0.82674733 0.9248931  0.780583   0.09168642 0.3327433\n",
      "  0.59694787 0.50141807 0.48014243 0.76247942 0.39409895 0.79541121\n",
      "  0.32379995 0.45216064 0.87927482 0.61299206 0.49749079 0.59183369\n",
      "  1.18078651 0.68395533 0.82285856 0.78410151 0.90324751 0.31748917\n",
      "  0.50140834 0.73522654 0.79341246 0.0647896 ]\n",
      " [0.50929561 0.47303624 0.80949105 0.86388126 0.35315657 0.82252139\n",
      "  1.0167962  1.14309393 0.19760676 0.68609576 0.76100659 0.95859544\n",
      "  0.72813843 0.6000861  0.34976189 0.28989327 0.8701162  0.15090046\n",
      "  0.27752207 0.67816326 0.49456339 0.21284213 0.57160358 0.61516906\n",
      "  0.64709125 0.29031955 0.45534042 0.38330742 0.62379535 0.68112646\n",
      "  0.48801882 0.         0.72960095 0.77165216 0.43860236 0.5213957\n",
      "  0.94571343 0.17070686 0.72734753 0.59732858 0.61796068 0.31370379\n",
      "  0.34464052 0.84318247 0.81615516 0.35332696 0.92267136 0.23842008\n",
      "  0.58842911 0.56138459 0.24136333 0.51393388 0.26369888 0.33443597\n",
      "  0.62454529 0.85350205 0.93038249 0.31897504 0.62809438 0.7132\n",
      "  0.90608358 0.08022907 0.18312784 0.38877734 0.60902744 0.5546871\n",
      "  0.60232722 0.27851348 0.73511282 0.27459683 0.28618461 0.74097802\n",
      "  1.00520264 0.36052562 0.77672123 0.30156379 0.40733349 0.34326305\n",
      "  0.65041343 0.46028427 0.67783103 0.34865705 0.30464478 0.64854995\n",
      "  0.23179114 0.7676118  0.55893124 0.13507652 0.33469189 0.15338013\n",
      "  0.94216502 0.92444248 0.54311711 0.54004855 0.57451345 0.34065336\n",
      "  0.1405867  0.41834948 0.30551842 0.51663418]\n",
      " [0.31191755 0.39614934 0.16636684 0.67955923 0.37675128 0.40286427\n",
      "  1.11838119 0.57154104 0.82173736 0.82156165 0.04052741 0.99852989\n",
      "  0.24844352 0.35735371 0.48214953 0.61247206 0.48582816 0.64803004\n",
      "  0.73826853 0.2978021  0.23645791 0.85150092 0.9722771  0.33872509\n",
      "  0.14095546 0.82814627 0.70172284 0.98534792 0.25908939 0.18025736\n",
      "  0.37077964 0.72960095 0.         0.74593796 0.2929871  0.29080685\n",
      "  0.81492229 0.70544372 0.15928298 0.77384582 0.7894533  0.43895791\n",
      "  0.38590462 0.81218357 0.97978896 0.97046815 0.47166444 0.54899073\n",
      "  0.21556581 0.80023565 0.48891038 0.26224738 0.78519957 0.59725919\n",
      "  0.22980963 0.64110894 0.37611986 0.49996737 0.10827743 0.86360045\n",
      "  0.6049414  0.65582034 0.81218779 0.41399246 0.93927493 0.43048801\n",
      "  0.507481   0.48361735 0.68880884 0.4961038  0.45670169 0.12660012\n",
      "  0.49781445 0.98716548 0.79690572 0.96639721 0.38190229 0.40973672\n",
      "  0.41092936 0.45195666 0.22396801 0.87840287 0.47684426 0.69648278\n",
      "  0.50031292 0.09282356 0.89407368 0.81903221 0.54358866 0.76870285\n",
      "  1.08366546 0.33265855 0.81804348 0.76200634 0.92027168 0.40519088\n",
      "  0.67048602 0.78161244 1.0070939  0.30608438]\n",
      " [0.85056394 0.90002536 0.65173253 0.16836288 0.67661181 0.41814196\n",
      "  0.37249243 0.67024743 0.66716017 0.16754445 0.73770586 0.25471516\n",
      "  0.51315452 0.39547108 0.8675117  0.48305085 0.37581093 0.62229957\n",
      "  0.52304234 0.45016271 0.69385951 0.68610705 0.46086278 0.96167832\n",
      "  0.60977025 0.57964001 0.32869297 0.68113245 0.48967618 0.56637988\n",
      "  0.88950201 0.77165216 0.74593796 0.         0.69289226 0.84038974\n",
      "  0.17992003 0.6090166  0.59858789 0.21781558 0.20814889 0.76150514\n",
      "  0.68511382 0.07780323 0.26493338 0.69373746 0.45007569 0.82221672\n",
      "  0.54963097 0.27774645 0.66741681 0.79646604 0.56783237 0.44002014\n",
      "  0.51986876 0.1951525  0.56402821 0.85478656 0.67258715 0.19021347\n",
      "  0.29182555 0.76373934 0.67177173 0.83324998 0.38130228 0.34354461\n",
      "  0.25442906 0.78217843 0.05779135 0.79631492 0.74167724 0.63593711\n",
      "  0.53204312 0.71208793 0.05807609 0.75437462 0.81542746 0.57544337\n",
      "  0.33507444 0.3917468  0.52310813 0.57366482 0.54210011 0.12356333\n",
      "  0.65696629 0.68708525 0.37597113 0.73204851 0.45689598 0.66055314\n",
      "  0.34422659 0.60579975 0.31276154 0.27095762 0.39154039 0.59086193\n",
      "  0.63107213 0.41152472 0.83555912 0.85192509]\n",
      " [0.15963343 0.21024543 0.39963447 0.69518444 0.08627369 0.51203587\n",
      "  1.04377005 0.7855045  0.55090403 0.70743743 0.32700316 0.94161622\n",
      "  0.367348   0.33020642 0.22580641 0.37977988 0.58568861 0.37461944\n",
      "  0.49525914 0.35313902 0.05652919 0.57968825 0.77517898 0.27951209\n",
      "  0.24083146 0.57734225 0.52313711 0.72910307 0.2832384  0.29458902\n",
      "  0.19719232 0.43860236 0.2929871  0.69289226 0.         0.1532223\n",
      "  0.81900778 0.43810963 0.32878812 0.6361882  0.65616271 0.15204654\n",
      "  0.09399521 0.76962284 0.87042386 0.70963421 0.60957713 0.26354994\n",
      "  0.2167425  0.64182892 0.20114776 0.11526554 0.53351519 0.38211069\n",
      "  0.26553736 0.66624626 0.56801405 0.23263642 0.19901144 0.74835263\n",
      "  0.67284206 0.36336181 0.53967428 0.1655427  0.76344458 0.35274836\n",
      "  0.44099994 0.19680986 0.63718374 0.21105225 0.16513922 0.32990475\n",
      "  0.67134348 0.72458056 0.72945965 0.69355049 0.13740896 0.16034926\n",
      "  0.4033526  0.30775302 0.31266715 0.63441674 0.23172006 0.60168833\n",
      "  0.21476578 0.34402452 0.71206563 0.53705549 0.32776845 0.49491181\n",
      "  0.99075617 0.54493011 0.64852864 0.60427678 0.7372156  0.14815226\n",
      "  0.39628709 0.575632   0.7258069  0.16217399]\n",
      " [0.02111138 0.1054397  0.44151294 0.82996004 0.21173448 0.61428514\n",
      "  1.19537808 0.84828268 0.66598213 0.86040387 0.33121984 1.09121929\n",
      "  0.45650853 0.4626537  0.20563613 0.52293873 0.69384655 0.4935727\n",
      "  0.6310185  0.46334588 0.14799039 0.69298958 0.9216247  0.12640472\n",
      "  0.31224797 0.70703768 0.67466597 0.85244223 0.3955084  0.37514367\n",
      "  0.08042169 0.5213957  0.29080685 0.84038974 0.1532223  0.\n",
      "  0.95793767 0.56012041 0.39264671 0.7893959  0.80938467 0.20820529\n",
      "  0.2119654  0.91632117 1.02349094 0.82996167 0.70458382 0.29803514\n",
      "  0.32376725 0.79430888 0.31223236 0.04533592 0.66372649 0.530016\n",
      "  0.37074127 0.79825669 0.63837071 0.23018213 0.24426253 0.90141997\n",
      "  0.79341589 0.44128904 0.65333374 0.14223296 0.91363148 0.49745447\n",
      "  0.58657763 0.24390631 0.78387897 0.25058255 0.23780934 0.37906162\n",
      "  0.75291248 0.84326739 0.87906789 0.80317416 0.11614086 0.30840595\n",
      "  0.53530101 0.45986462 0.40634035 0.76669603 0.37667461 0.75307454\n",
      "  0.32890098 0.37175074 0.86171378 0.6384471  0.47685125 0.60857788\n",
      "  1.14339123 0.60429795 0.80009958 0.75694043 0.88653124 0.29451126\n",
      "  0.51336536 0.72219566 0.82373942 0.01595919]\n",
      " [0.9707571  1.02919648 0.69108051 0.13539938 0.81658157 0.4318542\n",
      "  0.36889828 0.59800381 0.84690577 0.32903676 0.79832452 0.24230478\n",
      "  0.5676136  0.49586725 1.01198366 0.65591542 0.36218498 0.79532184\n",
      "  0.70242678 0.52065201 0.80999895 0.8660105  0.62182356 1.07277642\n",
      "  0.69067296 0.75943228 0.50829366 0.85710912 0.57633859 0.63682318\n",
      "  1.01564739 0.94571343 0.81492229 0.17992003 0.81900778 0.95793767\n",
      "  0.         0.7859308  0.65739114 0.39417928 0.38183018 0.90696018\n",
      "  0.82623633 0.13095562 0.359387   0.87103967 0.4216352  0.97790671\n",
      "  0.6447915  0.45273732 0.82315692 0.91280091 0.747689   0.61178605\n",
      "  0.60572361 0.17475462 0.55178791 1.00249756 0.76045685 0.33687771\n",
      "  0.24117138 0.93277517 0.85134102 0.97081973 0.53893592 0.46790569\n",
      "  0.38330362 0.93233151 0.21066285 0.94723211 0.89045176 0.69336533\n",
      "  0.48268436 0.88912626 0.20146626 0.93336274 0.94957388 0.72150228\n",
      "  0.42446595 0.53657175 0.5935201  0.75202777 0.6984331  0.3019501\n",
      "  0.81442496 0.74142203 0.54273365 0.91106525 0.62231058 0.83917305\n",
      "  0.38047933 0.60237019 0.48697863 0.44945307 0.55483784 0.73624637\n",
      "  0.80544525 0.59086598 1.01487526 0.97099337]\n",
      " [0.55387936 0.54269056 0.75126517 0.71366977 0.35563921 0.71418951\n",
      "  0.84629538 1.04212459 0.11653512 0.51602443 0.73015381 0.78842103\n",
      "  0.64702086 0.49692646 0.43707111 0.14188496 0.75019686 0.0670424\n",
      "  0.10899111 0.58618737 0.48739261 0.14647606 0.4164277  0.67357468\n",
      "  0.59721248 0.15182508 0.28666374 0.29258718 0.54406544 0.61674336\n",
      "  0.55058626 0.17070686 0.70544372 0.6090166  0.43810963 0.56012041\n",
      "  0.7859308  0.         0.66627255 0.4273946  0.44782286 0.36242562\n",
      "  0.35204827 0.67834231 0.64580456 0.27169438 0.81040041 0.33608892\n",
      "  0.52688785 0.3906792  0.24791817 0.53914345 0.11222652 0.18592251\n",
      "  0.55262304 0.70763929 0.83853963 0.40905208 0.59771426 0.54258443\n",
      "  0.7694641  0.19729003 0.10819973 0.45256867 0.44481488 0.43581803\n",
      "  0.46572797 0.34504956 0.57646126 0.34916091 0.33041049 0.68742925\n",
      "  0.8978575  0.28647092 0.61029064 0.26118301 0.45998471 0.29573658\n",
      "  0.53375801 0.34393175 0.60306213 0.21404444 0.23067485 0.48545423\n",
      "  0.2312265  0.72321935 0.3932585  0.13882595 0.20724224 0.06909194\n",
      "  0.77211456 0.84168933 0.37283164 0.36971683 0.41074142 0.30120002\n",
      "  0.05073654 0.24909175 0.31039821 0.56020833]\n",
      " [0.41238021 0.49399711 0.08508309 0.52200215 0.39479812 0.24471328\n",
      "  0.97050731 0.46003708 0.78159953 0.68962906 0.14128011 0.84815928\n",
      "  0.08979256 0.22931282 0.55016238 0.55049881 0.32791627 0.61857439\n",
      "  0.67591863 0.14927765 0.28065752 0.81152962 0.87176977 0.47197958\n",
      "  0.08798077 0.76820127 0.60180851 0.92540815 0.13702227 0.05020348\n",
      "  0.47107014 0.72734753 0.15928298 0.59858789 0.32878812 0.39264671\n",
      "  0.65739114 0.66627255 0.         0.65215796 0.6654878  0.47956337\n",
      "  0.40622004 0.66136612 0.84281026 0.91527696 0.32062557 0.59009345\n",
      "  0.14031677 0.68626451 0.49046095 0.35265905 0.72770606 0.52510159\n",
      "  0.11764205 0.48306279 0.24615976 0.56033747 0.14839057 0.73092914\n",
      "  0.44579798 0.66271006 0.77435888 0.48454691 0.82887737 0.31071281\n",
      "  0.37462967 0.52358234 0.54256859 0.53848554 0.48755212 0.03735032\n",
      "  0.36073526 0.93331359 0.6518766  0.92453263 0.45274318 0.38504856\n",
      "  0.26769364 0.35911125 0.08139672 0.81111538 0.43794038 0.56229305\n",
      "  0.49716784 0.0887181  0.78795974 0.79401479 0.47701668 0.73402113\n",
      "  0.94053239 0.21698468 0.70846281 0.64925534 0.81390435 0.38672155\n",
      "  0.64072826 0.69255658 0.97629503 0.40857518]\n",
      " [0.79449832 0.82570762 0.72349756 0.37306786 0.59412942 0.54258102\n",
      "  0.43066971 0.84138127 0.46532575 0.08884082 0.77709045 0.36132886\n",
      "  0.58191962 0.42320072 0.76511974 0.32682873 0.52866919 0.45664298\n",
      "  0.3280812  0.50871574 0.65483063 0.48091683 0.25811085 0.91568924\n",
      "  0.63310193 0.37057195 0.14364786 0.46349339 0.52006339 0.60863129\n",
      "  0.8210986  0.59732858 0.77384582 0.21781558 0.6361882  0.7893959\n",
      "  0.39417928 0.4273946  0.65215796 0.         0.02168331 0.66208869\n",
      "  0.59961361 0.26921176 0.23905509 0.47686908 0.60453472 0.69721643\n",
      "  0.55914936 0.06044276 0.55009382 0.75002169 0.36539363 0.29297166\n",
      "  0.54699357 0.38819698 0.69488574 0.74616778 0.68001472 0.12073012\n",
      "  0.47932698 0.60602009 0.4719646  0.74619706 0.19010106 0.34432107\n",
      "  0.28060673 0.67150527 0.21620941 0.68327867 0.63615739 0.687581\n",
      "  0.69449243 0.49500545 0.19653058 0.5402453  0.73587629 0.48853831\n",
      "  0.39409674 0.33622368 0.57077596 0.35828399 0.43348002 0.12168732\n",
      "  0.53601415 0.73816675 0.16792984 0.53597971 0.33143497 0.46823423\n",
      "  0.36505497 0.72537683 0.0957528  0.05910083 0.1886529  0.50396234\n",
      "  0.45982979 0.20047545 0.62240934 0.7977264 ]\n",
      " [0.81469496 0.84656436 0.73563112 0.36770558 0.61497626 0.54895005\n",
      "  0.40899038 0.84328557 0.48340009 0.06822337 0.79190025 0.34063872\n",
      "  0.59368913 0.43705101 0.78659747 0.34844421 0.53182339 0.47785542\n",
      "  0.3475495  0.52086589 0.6740502  0.49832351 0.25903651 0.93561963\n",
      "  0.6485766  0.38732839 0.16500767 0.47529408 0.53447536 0.62263744\n",
      "  0.84176514 0.61796068 0.7894533  0.20814889 0.65616271 0.80938467\n",
      "  0.38183018 0.44782286 0.6654878  0.02168331 0.         0.6834517\n",
      "  0.62056087 0.25494322 0.21771725 0.48978139 0.60790832 0.718896\n",
      "  0.57523962 0.07104122 0.5716776  0.76976239 0.3836287  0.31465279\n",
      "  0.56180096 0.38494024 0.70133083 0.76772923 0.69670541 0.09904735\n",
      "  0.4775719  0.62734402 0.49035635 0.76734219 0.18655023 0.35926904\n",
      "  0.29229218 0.69306409 0.21210007 0.7048713  0.65761781 0.70119713\n",
      "  0.69721065 0.50766237 0.18211824 0.55486573 0.75680781 0.50933\n",
      "  0.40509731 0.35483489 0.58417984 0.37257151 0.45478351 0.12305521\n",
      "  0.55763169 0.75199646 0.17043974 0.55478298 0.35291129 0.48761822\n",
      "  0.34349906 0.73311409 0.10520394 0.07837062 0.18907479 0.52478781\n",
      "  0.48080448 0.21746872 0.63735432 0.81785423]\n",
      " [0.19756549 0.18130828 0.55164273 0.79276241 0.09626753 0.64628774\n",
      "  1.08787509 0.93309156 0.4623606  0.74311031 0.47505388 0.99779238\n",
      "  0.51124304 0.44397632 0.10602089 0.35576148 0.71454347 0.29542281\n",
      "  0.44596035 0.4867567  0.20607987 0.48835859 0.75112668 0.3123044\n",
      "  0.39184229 0.51317172 0.53009346 0.6518534  0.4186151  0.44286222\n",
      "  0.18816136 0.31370379 0.43895791 0.76150514 0.15204654 0.20820529\n",
      "  0.90696018 0.36242562 0.47956337 0.66208869 0.6834517  0.\n",
      "  0.08480924 0.83930347 0.90114209 0.62771558 0.746343   0.11156687\n",
      "  0.35879402 0.65366891 0.12128448 0.20124511 0.47115144 0.37578388\n",
      "  0.40587236 0.76869406 0.71500771 0.09646013 0.35037619 0.78114389\n",
      "  0.78924831 0.23388165 0.44918877 0.09158919 0.75603112 0.44286644\n",
      "  0.52382222 0.04496493 0.70977895 0.05903988 0.03202212 0.48185498\n",
      "  0.81365721 0.64007487 0.78910061 0.59671945 0.09828085 0.18629124\n",
      "  0.51395809 0.37147094 0.4563249  0.57461765 0.22879377 0.65514431\n",
      "  0.13828429 0.49549915 0.70270839 0.43084376 0.33099653 0.4049111\n",
      "  1.02657241 0.69456545 0.65212822 0.61928022 0.72576079 0.17111776\n",
      "  0.31331651 0.55587547 0.61555621 0.20463487]\n",
      " [0.20950382 0.22632842 0.48229743 0.71005953 0.01190726 0.56267201\n",
      "  1.02015038 0.85438721 0.46223438 0.67733534 0.41880669 0.92578197\n",
      "  0.43124982 0.35918089 0.18624619 0.31282067 0.63009414 0.28673745\n",
      "  0.41907733 0.40342405 0.14998823 0.49047531 0.71223474 0.33346793\n",
      "  0.31977878 0.49631828 0.4745119  0.64451674 0.33602589 0.36645815\n",
      "  0.22377268 0.34464052 0.38590462 0.68511382 0.09399521 0.2119654\n",
      "  0.82623633 0.35204827 0.40622004 0.59961361 0.62056087 0.08480924\n",
      "  0.         0.7628633  0.83789056 0.62354108 0.6631019  0.18686126\n",
      "  0.27914053 0.59697744 0.1084595  0.18725845 0.45277887 0.32412855\n",
      "  0.32496797 0.68523992 0.63623722 0.18075242 0.28799041 0.71663047\n",
      "  0.70454642 0.26991861 0.45045715 0.14894223 0.70877328 0.36020255\n",
      "  0.4429539  0.12277688 0.63214042 0.13868269 0.08259841 0.41232835\n",
      "  0.73206058 0.63778735 0.71540364 0.60346608 0.13626903 0.1121092\n",
      "  0.42934106 0.29345975 0.3765374  0.55537038 0.17034824 0.58276671\n",
      "  0.12323617 0.43158776 0.65610705 0.44464667 0.2737387  0.40553182\n",
      "  0.96173899 0.61845107 0.59909073 0.56098376 0.68031878 0.09642827\n",
      "  0.30772324 0.51344855 0.63321182 0.21482038]\n",
      " [0.92683253 0.97722741 0.70936835 0.18066418 0.75432261 0.46473617\n",
      "  0.31132617 0.68752247 0.7302714  0.19879721 0.80178603 0.18679684\n",
      "  0.57397923 0.46675186 0.94531162 0.55608037 0.41162866 0.69482148\n",
      "  0.5881792  0.51472324 0.7693647  0.74764691 0.4908686  1.03688451\n",
      "  0.67822404 0.63873693 0.39410015 0.72953678 0.55868165 0.63199472\n",
      "  0.96643608 0.84318247 0.81218357 0.07780323 0.76962284 0.91632117\n",
      "  0.13095562 0.67834231 0.66136612 0.26921176 0.25494322 0.83930347\n",
      "  0.7628633  0.         0.24341386 0.74464486 0.48211095 0.89941874\n",
      "  0.62091983 0.32594652 0.74472559 0.87217763 0.63035734 0.51381042\n",
      "  0.58891304 0.21739578 0.60383677 0.93252625 0.74290733 0.20612454\n",
      "  0.30992401 0.83795805 0.73576067 0.91092639 0.40801147 0.41894904\n",
      "  0.32977182 0.85983894 0.13249528 0.87392924 0.81940844 0.69860054\n",
      "  0.55731005 0.762427   0.07282826 0.80940659 0.89292671 0.65324644\n",
      "  0.40297601 0.46945726 0.58837362 0.62728698 0.61947093 0.19536589\n",
      "  0.7340901  0.74922092 0.41232507 0.79764458 0.53291851 0.727194\n",
      "  0.29625298 0.64919701 0.35941215 0.32658744 0.42400157 0.66866337\n",
      "  0.70266737 0.4688775  0.89162099 0.92806042]\n",
      " [1.029627   1.06364019 0.90381999 0.42090492 0.83209382 0.68137988\n",
      "  0.20097145 0.92891306 0.65850049 0.16340711 0.97716479 0.18251254\n",
      "  0.76226133 0.62243837 1.00408872 0.56149934 0.64064153 0.68416675\n",
      "  0.5390061  0.69377812 0.88503695 0.66696259 0.32081607 1.14934326\n",
      "  0.839499   0.5548353  0.37703508 0.59606603 0.72082021 0.80495966\n",
      "  1.05831658 0.81615516 0.97978896 0.26493338 0.87042386 1.02349094\n",
      "  0.359387   0.64580456 0.84281026 0.23905509 0.21771725 0.90114209\n",
      "  0.83789056 0.24341386 0.         0.61932722 0.71450216 0.93422659\n",
      "  0.77060962 0.25737919 0.78870768 0.98287256 0.5634883  0.53042989\n",
      "  0.74998267 0.45427964 0.82869906 0.98486478 0.89429339 0.12207203\n",
      "  0.54974688 0.83425513 0.6681445  0.98496866 0.24207481 0.55274686\n",
      "  0.47230906 0.9102262  0.3109634  0.92180101 0.87516002 0.87982653\n",
      "  0.79464276 0.63398712 0.20694584 0.69646767 0.97407545 0.72636975\n",
      "  0.57514876 0.56497808 0.76343995 0.52112472 0.67249931 0.28346504\n",
      "  0.7743845  0.93133678 0.2754314  0.73493178 0.57043649 0.67470063\n",
      "  0.12746773 0.86952632 0.27303849 0.28598802 0.27215356 0.74189551\n",
      "  0.68423082 0.39859718 0.77908469 1.03251401]\n",
      " [0.82266973 0.8044812  1.00004261 0.83775669 0.62730524 0.91866628\n",
      "  0.81095847 1.24568689 0.16584063 0.54896901 0.99261658 0.79434072\n",
      "  0.88233287 0.71914336 0.68981653 0.36478793 0.93668415 0.33697373\n",
      "  0.2400203  0.8144716  0.75812681 0.14264693 0.3058207  0.94001666\n",
      "  0.85401517 0.14786024 0.3863433  0.03282409 0.78455551 0.86508257\n",
      "  0.81484231 0.35332696 0.97046815 0.69373746 0.70963421 0.82996167\n",
      "  0.87103967 0.27169438 0.91527696 0.47686908 0.48978139 0.62771558\n",
      "  0.62354108 0.74464486 0.61932722 0.         1.00571937 0.58100584\n",
      "  0.77976643 0.41874171 0.51807595 0.8104051  0.18760403 0.39281608\n",
      "  0.79828365 0.84431605 1.05771539 0.65987191 0.86221581 0.55628872\n",
      "  0.92453104 0.42181355 0.17962605 0.71518271 0.37766976 0.64450009\n",
      "  0.64329988 0.60433371 0.68240771 0.60549584 0.59603763 0.9402852\n",
      "  1.09695937 0.01938908 0.67184896 0.0829594  0.7259885  0.56300094\n",
      "  0.73733909 0.5654628  0.84486656 0.12279065 0.49379469 0.5817085\n",
      "  0.50175964 0.98006879 0.34722146 0.21880512 0.43831659 0.22301734\n",
      "  0.72939457 1.06970551 0.38538195 0.42296938 0.34728244 0.57001125\n",
      "  0.31665991 0.28677686 0.1613997  0.82923424]\n",
      " [0.72304393 0.80062214 0.31398535 0.30359825 0.65124316 0.10152543\n",
      "  0.78306913 0.24112529 0.91186983 0.59898997 0.44224761 0.65426306\n",
      "  0.24811852 0.32299593 0.83471688 0.67069724 0.07621006 0.78448745\n",
      "  0.77607769 0.25967837 0.57396421 0.93939301 0.86089189 0.79191547\n",
      "  0.39276149 0.86231852 0.62789419 1.00542673 0.32799363 0.32957574\n",
      "  0.77967346 0.92267136 0.47166444 0.45007569 0.60957713 0.70458382\n",
      "  0.4216352  0.81040041 0.32062557 0.60453472 0.60790832 0.746343\n",
      "  0.6631019  0.48211095 0.71450216 1.00571937 0.         0.8482003\n",
      "  0.39298336 0.65825576 0.71581736 0.66172806 0.83111884 0.63026261\n",
      "  0.3440642  0.26492083 0.13190346 0.83810315 0.46379192 0.63187716\n",
      "  0.1805042  0.87587198 0.90939526 0.77475256 0.7941434  0.37458684\n",
      "  0.36262978 0.78582525 0.41148223 0.80176455 0.74451846 0.34668011\n",
      "  0.09180881 1.02507693 0.50773877 1.0400094  0.74513611 0.59710907\n",
      "  0.27664245 0.46754528 0.29997454 0.88569727 0.61906922 0.48489197\n",
      "  0.71596761 0.38171324 0.77008072 0.94908385 0.60339549 0.87840729\n",
      "  0.77797008 0.18524335 0.6904978  0.63074079 0.79246136 0.60602594\n",
      "  0.80344725 0.73167261 1.10842296 0.72021819]\n",
      " [0.28268128 0.23604146 0.66302244 0.87101899 0.19874408 0.7472649\n",
      "  1.12769859 1.0411273  0.41637665 0.78268228 0.58566535 1.04687501\n",
      "  0.61810478 0.53719606 0.11134181 0.37348279 0.81202557 0.27387924\n",
      "  0.43578394 0.58876058 0.3175582  0.43840233 0.74782716 0.37936884\n",
      "  0.50260835 0.48640697 0.55732052 0.60848186 0.52224233 0.55216254\n",
      "  0.25297908 0.23842008 0.54899073 0.82221672 0.26354994 0.29803514\n",
      "  0.97790671 0.33608892 0.59009345 0.69721643 0.718896   0.11156687\n",
      "  0.18686126 0.89941874 0.93422659 0.58100584 0.8482003  0.\n",
      "  0.46591528 0.67938709 0.15501253 0.30162268 0.44828786 0.40424915\n",
      "  0.511809   0.85019034 0.82296148 0.08056058 0.46191243 0.81791371\n",
      "  0.87888221 0.16095765 0.40209855 0.15729108 0.76500908 0.52437323\n",
      "  0.59866687 0.06675311 0.77397272 0.05297262 0.10430536 0.59317477\n",
      "  0.91857192 0.59073611 0.84355154 0.53757701 0.18208457 0.26300112\n",
      "  0.60402496 0.44286811 0.56336808 0.54874201 0.28035613 0.70857022\n",
      "  0.16540438 0.60703074 0.71171189 0.36915194 0.37058976 0.36116524\n",
      "  1.06137872 0.80417252 0.6720861  0.64836235 0.73256431 0.25035\n",
      "  0.28552554 0.56258067 0.54346089 0.2903003 ]\n",
      " [0.33995992 0.41222125 0.22479258 0.51293463 0.2673023  0.29649764\n",
      "  0.9193147  0.57524672 0.64263047 0.61021133 0.22446168 0.80433671\n",
      "  0.15245293 0.15423865 0.44234836 0.41545813 0.37283731 0.47833443\n",
      "  0.5417227  0.14023885 0.1830527  0.67260242 0.75851501 0.43021331\n",
      "  0.07776634 0.63362566 0.48748407 0.79131408 0.07176204 0.09270943\n",
      "  0.39316168 0.58842911 0.21556581 0.54963097 0.2167425  0.32376725\n",
      "  0.6447915  0.52688785 0.14031677 0.55914936 0.57523962 0.35879402\n",
      "  0.27914053 0.62091983 0.77060962 0.77976643 0.39298336 0.46591528\n",
      "  0.         0.58467752 0.35421533 0.27879856 0.59224812 0.39365881\n",
      "  0.04901978 0.47895559 0.35710115 0.44732528 0.12402326 0.65241462\n",
      "  0.46966221 0.52577187 0.63506564 0.38176925 0.72386682 0.2180525\n",
      "  0.30059804 0.40078882 0.49184093 0.41638592 0.36173144 0.16091599\n",
      "  0.45553584 0.79748879 0.5966555  0.78612458 0.35227207 0.24540913\n",
      "  0.22110001 0.23798354 0.09755613 0.67921456 0.29780375 0.48737012\n",
      "  0.35973633 0.20113369 0.67910264 0.65376363 0.34294232 0.59430285\n",
      "  0.87907948 0.34121883 0.60261361 0.54644065 0.7052954  0.24795343\n",
      "  0.50052399 0.57093996 0.83654992 0.33847651]\n",
      " [0.79784191 0.82312032 0.76064371 0.43333651 0.59259159 0.59219374\n",
      "  0.4564823  0.8965545  0.4173308  0.13383775 0.80621919 0.40101094\n",
      "  0.62048562 0.45710409 0.75422477 0.30591102 0.58280468 0.4268708\n",
      "  0.28638561 0.54667307 0.66530916 0.43085435 0.20264339 0.92066162\n",
      "  0.66048243 0.31901213 0.12360627 0.40437894 0.55155951 0.64091752\n",
      "  0.82038844 0.56138459 0.80023565 0.27774645 0.64182892 0.79430888\n",
      "  0.45273732 0.3906792  0.68626451 0.06044276 0.07104122 0.65366891\n",
      "  0.59697744 0.32594652 0.25737919 0.41874171 0.65825576 0.67938709\n",
      "  0.58467752 0.         0.53760125 0.7568031  0.31827529 0.27838518\n",
      "  0.5770669  0.44777935 0.7440079  0.73341287 0.70262288 0.15315864\n",
      "  0.53801229 0.57697656 0.4250406  0.74057677 0.14346656 0.37571638\n",
      "  0.32180894 0.65909444 0.27631323 0.66986924 0.62610923 0.72072652\n",
      "  0.74887641 0.43662445 0.25313039 0.48427147 0.73279462 0.48829148\n",
      "  0.43559043 0.3529602  0.60501676 0.30189968 0.42755026 0.17988008\n",
      "  0.52251813 0.77051048 0.11184018 0.49043617 0.32382986 0.42536904\n",
      "  0.38476164 0.77218528 0.03531617 0.03854527 0.1349825  0.5032483\n",
      "  0.42743021 0.15055224 0.56691831 0.80158496]\n",
      " [0.30609666 0.30183936 0.57098095 0.71794226 0.11490886 0.61429225\n",
      "  0.97912773 0.92268002 0.35520909 0.63367384 0.51976951 0.89468989\n",
      "  0.50077635 0.39652598 0.21674749 0.2358374  0.67320905 0.18135678\n",
      "  0.32552553 0.46006726 0.25574396 0.38303794 0.62985242 0.4268824\n",
      "  0.40785893 0.39617606 0.41411865 0.5402289  0.39867053 0.44615109\n",
      "  0.30658288 0.24136333 0.48891038 0.66741681 0.20114776 0.31223236\n",
      "  0.82315692 0.24791817 0.49046095 0.55009382 0.5716776  0.12128448\n",
      "  0.1084595  0.74472559 0.78870768 0.51807595 0.71581736 0.15501253\n",
      "  0.35421533 0.53760125 0.         0.29286952 0.35337472 0.25927208\n",
      "  0.39455654 0.69838198 0.70611436 0.19617607 0.38673683 0.67028757\n",
      "  0.73174936 0.1723259  0.3430861  0.2127214  0.63583736 0.37436068\n",
      "  0.44531446 0.12160223 0.61896536 0.13321732 0.09066408 0.50179663\n",
      "  0.79195104 0.53175949 0.6897291  0.49546127 0.21497107 0.11878346\n",
      "  0.45919883 0.28942715 0.44796895 0.45682255 0.12537579 0.55477182\n",
      "  0.01721706 0.52672618 0.58243692 0.33623398 0.21950147 0.29814926\n",
      "  0.91514267 0.69470074 0.53417159 0.50440394 0.60520707 0.11023543\n",
      "  0.20143415 0.43503798 0.52487224 0.31235332]\n",
      " [0.06152396 0.1413839  0.40576568 0.78466628 0.18480708 0.57048206\n",
      "  1.15299518 0.81055442 0.64807783 0.81960183 0.30201864 1.0478535\n",
      "  0.41361827 0.4173949  0.22146701 0.49242281 0.64961284 0.47343709\n",
      "  0.60441116 0.41859838 0.10309142 0.67584595 0.88946904 0.16675723\n",
      "  0.27030188 0.68331944 0.6383879  0.83169038 0.35050064 0.33274716\n",
      "  0.11859021 0.51393388 0.26224738 0.79646604 0.11526554 0.04533592\n",
      "  0.91280091 0.53914345 0.35265905 0.75002169 0.76976239 0.20124511\n",
      "  0.18725845 0.87217763 0.98287256 0.8104051  0.66172806 0.30162268\n",
      "  0.27879856 0.7568031  0.29286952 0.         0.63969093 0.49667939\n",
      "  0.3260529  0.75292333 0.59879404 0.24199348 0.20458964 0.86084069\n",
      "  0.74837632 0.43459774 0.63592337 0.15388841 0.87866031 0.45323235\n",
      "  0.54240613 0.24171774 0.73979356 0.25094151 0.22775545 0.34131244\n",
      "  0.71193194 0.82439451 0.83577899 0.7877166  0.12292461 0.27456746\n",
      "  0.48999816 0.41835241 0.362735   0.7419324  0.34481831 0.71071417\n",
      "  0.30882835 0.33798376 0.82719913 0.62543502 0.44264856 0.59099439\n",
      "  1.10196678 0.56642224 0.7637672  0.71913997 0.85229131 0.2615393\n",
      "  0.49404749 0.68987944 0.81258158 0.05967813]\n",
      " [0.65887455 0.65219064 0.81250751 0.69305254 0.45490097 0.74047174\n",
      "  0.76429382 1.06907684 0.10002492 0.4507483  0.80634338 0.71894588\n",
      "  0.69616068 0.53490678 0.5488791  0.1772076  0.76495888 0.17716125\n",
      "  0.05513315 0.62939801 0.57905117 0.11865535 0.30895112 0.78025495\n",
      "  0.6667704  0.0438393  0.23988177 0.20017754 0.59747566 0.67751663\n",
      "  0.65897629 0.26369888 0.78519957 0.56783237 0.53351519 0.66372649\n",
      "  0.747689   0.11222652 0.72770606 0.36539363 0.3836287  0.47115144\n",
      "  0.45277887 0.63035734 0.5634883  0.18760403 0.83111884 0.44828786\n",
      "  0.59224812 0.31827529 0.35337472 0.63969093 0.         0.20716188\n",
      "  0.6107989  0.69345723 0.87564817 0.52108371 0.67693362 0.47098909\n",
      "  0.76586828 0.30531035 0.10681299 0.56207568 0.34621512 0.46297648\n",
      "  0.47184158 0.45606879 0.54462199 0.46073079 0.43916788 0.75270143\n",
      "  0.92141634 0.20562637 0.55899747 0.20889355 0.56774341 0.38097593\n",
      "  0.55818003 0.38020832 0.65774385 0.10350919 0.31004907 0.44665372\n",
      "  0.3362655  0.79272357 0.2974192  0.17239548 0.25084414 0.11288745\n",
      "  0.6870646  0.88541178 0.2936272  0.3063312  0.31159523 0.38939215\n",
      "  0.16291842 0.16785285 0.28034532 0.66490649]\n",
      " [0.53086165 0.54845891 0.60929567 0.53097972 0.32126385 0.53681099\n",
      "  0.72354428 0.86575995 0.28161252 0.37897005 0.61416394 0.64657147\n",
      "  0.48952651 0.32782148 0.47584089 0.04511484 0.56742229 0.18366729\n",
      "  0.15297228 0.42225781 0.41627899 0.3093504  0.39314234 0.6550203\n",
      "  0.47030559 0.24496107 0.15485021 0.40091506 0.39234548 0.47495966\n",
      "  0.54767086 0.33443597 0.59725919 0.44002014 0.38211069 0.530016\n",
      "  0.61178605 0.18592251 0.52510159 0.29297166 0.31465279 0.37578388\n",
      "  0.32412855 0.51381042 0.53042989 0.39281608 0.63026261 0.40424915\n",
      "  0.39365881 0.27838518 0.25927208 0.49667939 0.20716188 0.\n",
      "  0.40753957 0.52307571 0.66913289 0.4552714  0.49028989 0.41368275\n",
      "  0.58354281 0.32418174 0.27932033 0.46387512 0.38469265 0.25779948\n",
      "  0.28000838 0.38083209 0.40112447 0.39187227 0.34782378 0.55211323\n",
      "  0.71934156 0.41142317 0.45090914 0.41379136 0.45816414 0.22212473\n",
      "  0.35462438 0.17305356 0.45267605 0.28608648 0.15403499 0.3184677\n",
      "  0.24439372 0.59473818 0.33219765 0.32358872 0.05539688 0.2509112\n",
      "  0.65736125 0.67825834 0.27652862 0.24526879 0.35671366 0.23556221\n",
      "  0.19521808 0.19375296 0.47869999 0.53539443]\n",
      " [0.38742448 0.46072508 0.20184932 0.47245447 0.31307472 0.24750911\n",
      "  0.89155462 0.53030711 0.66711504 0.59201721 0.2301147  0.77399116\n",
      "  0.10680838 0.12756492 0.4909555  0.43363158 0.3243108  0.50784476\n",
      "  0.55868164 0.09263121 0.23178354 0.69695397 0.75809403 0.47394807\n",
      "  0.09016815 0.65100288 0.48728915 0.80804346 0.03023441 0.06771525\n",
      "  0.44133895 0.62454529 0.22980963 0.51986876 0.26553736 0.37074127\n",
      "  0.60572361 0.55262304 0.11764205 0.54699357 0.56180096 0.40587236\n",
      "  0.32496797 0.58891304 0.74998267 0.79828365 0.3440642  0.511809\n",
      "  0.04901978 0.5770669  0.39455654 0.3260529  0.6107989  0.40753957\n",
      "  0.         0.43725476 0.31254375 0.49541737 0.1551403  0.63399353\n",
      "  0.42345873 0.56472579 0.66037555 0.43070902 0.71847238 0.20267274\n",
      "  0.27767933 0.44725399 0.46228141 0.46296923 0.40750709 0.14710505\n",
      "  0.40782541 0.8164238  0.56920234 0.80925585 0.40127934 0.28163378\n",
      "  0.18604529 0.2420317  0.05348858 0.69350852 0.32731631 0.466681\n",
      "  0.39881744 0.19456706 0.67585834 0.68301391 0.35997104 0.62095571\n",
      "  0.85470684 0.30053938 0.5974446  0.53939207 0.7019483  0.28602694\n",
      "  0.52967401 0.57609628 0.86301229 0.38567795]\n",
      " [0.81241098 0.87586016 0.51669386 0.04083811 0.67472126 0.25915313\n",
      "  0.52027859 0.47566907 0.78765045 0.35833223 0.62380873 0.39168223\n",
      "  0.39327143 0.33671999 0.87125417 0.56813859 0.19640078 0.70334474\n",
      "  0.64204984 0.34933609 0.65127586 0.81096702 0.64386255 0.90905118\n",
      "  0.51971805 0.71454331 0.45938017 0.83668093 0.4086856  0.46411712\n",
      "  0.86044946 0.85350205 0.64110894 0.1951525  0.66624626 0.79825669\n",
      "  0.17475462 0.70763929 0.48306279 0.38819698 0.38494024 0.76869406\n",
      "  0.68523992 0.21739578 0.45427964 0.84431605 0.26492083 0.85019034\n",
      "  0.47895559 0.44777935 0.69838198 0.75292333 0.69345723 0.52307571\n",
      "  0.43725476 0.         0.38914324 0.86514107 0.59071307 0.38476662\n",
      "  0.09667709 0.82792153 0.78922443 0.82443765 0.56816082 0.3264309\n",
      "  0.25491964 0.79864251 0.17291434 0.81417306 0.75594283 0.51884708\n",
      "  0.34077151 0.86342899 0.25017103 0.89489871 0.80072396 0.58790473\n",
      "  0.2635144  0.40953548 0.42120487 0.72158588 0.57794546 0.26856642\n",
      "  0.69219042 0.56670915 0.55519147 0.84209895 0.51935989 0.76871995\n",
      "  0.51304971 0.4367833  0.4828032  0.42999093 0.57388016 0.60152414\n",
      "  0.7172407  0.55767755 0.97214655 0.81201615]\n",
      " [0.65828732 0.74014888 0.2100721  0.42915003 0.62440283 0.15238106\n",
      "  0.90938737 0.21816797 0.94728315 0.70163224 0.34137098 0.78071334\n",
      "  0.20574711 0.3423064  0.79259529 0.7050634  0.19275559 0.80306923\n",
      "  0.82075225 0.25346692 0.52374479 0.97615693 0.94522969 0.71063337\n",
      "  0.33134445 0.91089367 0.69518649 1.06124631 0.30781652 0.27350513\n",
      "  0.71713384 0.93038249 0.37611986 0.56402821 0.56801405 0.63837071\n",
      "  0.55178791 0.83853963 0.24615976 0.69488574 0.70133083 0.71500771\n",
      "  0.63623722 0.60383677 0.82869906 1.05771539 0.13190346 0.82296148\n",
      "  0.35710115 0.7440079  0.70611436 0.59879404 0.87564817 0.66913289\n",
      "  0.31254375 0.38914324 0.         0.80064519 0.39433262 0.73749383\n",
      "  0.31084184 0.87456806 0.94286145 0.72824828 0.88466295 0.41324174\n",
      "  0.42866072 0.75758093 0.5195335  0.77306877 0.71882161 0.26103728\n",
      "  0.12260457 1.07681303 0.62210359 1.08289782 0.69685391 0.59069466\n",
      "  0.3222844  0.49730834 0.25991145 0.94182327 0.62699248 0.58030332\n",
      "  0.70943261 0.28329978 0.85508311 0.97485562 0.63311907 0.90760592\n",
      "  0.90000802 0.05472069 0.77389284 0.71279741 0.8789532  0.59656684\n",
      "  0.82374133 0.79730144 1.14542422 0.65432087]\n",
      " [0.21266235 0.15720801 0.62744478 0.88906899 0.19188364 0.73878727\n",
      "  1.17466136 1.01811272 0.49466606 0.82926216 0.5384323  1.08788516\n",
      "  0.59916137 0.53971321 0.03080943 0.42960187 0.80860591 0.34450877\n",
      "  0.50427909 0.57908161 0.28025612 0.51743436 0.81514463 0.30089951\n",
      "  0.47241115 0.56054302 0.61005908 0.68683847 0.51012454 0.52722108\n",
      "  0.17601159 0.31897504 0.49996737 0.85478656 0.23263642 0.23018213\n",
      "  1.00249756 0.40905208 0.56033747 0.74616778 0.76772923 0.09646013\n",
      "  0.18075242 0.93252625 0.98486478 0.65987191 0.83810315 0.08056058\n",
      "  0.44732528 0.73341287 0.19617607 0.24199348 0.52108371 0.4552714\n",
      "  0.49541737 0.86514107 0.80064519 0.         0.42272656 0.86622314\n",
      "  0.8852452  0.24128604 0.4805284  0.08864067 0.82732866 0.53922155\n",
      "  0.61960266 0.0746684  0.80384103 0.06375612 0.11313486 0.55862472\n",
      "  0.90283976 0.67001254 0.88065456 0.61783736 0.11911425 0.28107356\n",
      "  0.61009046 0.46633609 0.54429265 0.62289339 0.31635301 0.74613041\n",
      "  0.21090506 0.56630633 0.77386869 0.44937573 0.41510048 0.43875317\n",
      "  1.11122205 0.77702902 0.7290055  0.70050027 0.79573988 0.26625144\n",
      "  0.35832294 0.62516176 0.62389052 0.22029632]\n",
      " [0.26400451 0.34597194 0.20515256 0.62666933 0.27787843 0.37859445\n",
      "  1.04297911 0.60626213 0.71411374 0.73342661 0.13372567 0.92717516\n",
      "  0.21767359 0.27724091 0.40950293 0.50452238 0.4606665  0.54109313\n",
      "  0.63015946 0.24175675 0.14442352 0.74393129 0.86927736 0.32955465\n",
      "  0.07313421 0.71990602 0.59981665 0.87707614 0.18508867 0.13568091\n",
      "  0.32280557 0.62809438 0.10827743 0.67258715 0.19901144 0.24426253\n",
      "  0.76045685 0.59771426 0.14839057 0.68001472 0.69670541 0.35037619\n",
      "  0.28799041 0.74290733 0.89429339 0.86221581 0.46379192 0.46191243\n",
      "  0.12402326 0.70262288 0.38673683 0.20458964 0.67693362 0.49028989\n",
      "  0.1551403  0.59071307 0.39433262 0.42272656 0.         0.77565293\n",
      "  0.56981897 0.55644867 0.70474927 0.34234285 0.83952728 0.34155257\n",
      "  0.42460865 0.39531459 0.61483035 0.40910266 0.3639942  0.13783984\n",
      "  0.50880612 0.87894409 0.72030118 0.85880234 0.31005913 0.30219944\n",
      "  0.34068816 0.35092199 0.1734928  0.77040864 0.36867543 0.61120773\n",
      "  0.39710081 0.14512348 0.79303767 0.71318032 0.43623112 0.66149374\n",
      "  1.0031026  0.36218675 0.71859625 0.66415726 0.81920837 0.29830008\n",
      "  0.56358246 0.67658398 0.9007627  0.26018735]\n",
      " [0.90757215 0.94212056 0.79564222 0.35842258 0.71065615 0.5867309\n",
      "  0.30995224 0.85816426 0.56953026 0.04223215 0.8627382  0.24797003\n",
      "  0.65334768 0.50683731 0.88473752 0.44730896 0.55611397 0.57532618\n",
      "  0.43938591 0.58287333 0.76321001 0.58188871 0.2857331  1.02728621\n",
      "  0.72284926 0.46942744 0.26332668 0.53765618 0.60533795 0.69114535\n",
      "  0.93654255 0.7132     0.86360045 0.19021347 0.74835263 0.90141997\n",
      "  0.33687771 0.54258443 0.73092914 0.12073012 0.09904735 0.78114389\n",
      "  0.71663047 0.20612454 0.12207203 0.55628872 0.63187716 0.81791371\n",
      "  0.65241462 0.15315864 0.67028757 0.86084069 0.47098909 0.41368275\n",
      "  0.63399353 0.38476662 0.73749383 0.86622314 0.77565293 0.\n",
      "  0.4812742  0.72513748 0.5776201  0.86411795 0.20232784 0.43437188\n",
      "  0.35721057 0.79155537 0.22040938 0.80350296 0.75571164 0.76757792\n",
      "  0.71712874 0.57295381 0.14134894 0.62737009 0.85271979 0.60491769\n",
      "  0.46442203 0.44310269 0.65056575 0.44597007 0.55235366 0.16864693\n",
      "  0.6563811  0.81896575 0.21247618 0.64330881 0.45118187 0.57852664\n",
      "  0.24544427 0.774537   0.17843827 0.17392027 0.22074085 0.62048343\n",
      "  0.57743831 0.30313748 0.71055027 0.91044743]\n",
      " [0.80934793 0.8787446  0.46489394 0.12932923 0.69336167 0.20402028\n",
      "  0.60404826 0.37937917 0.85686171 0.45409593 0.58253756 0.4753507\n",
      "  0.35817756 0.34576902 0.88806116 0.62792977 0.12530958 0.75818015\n",
      "  0.71283977 0.33105732 0.65007235 0.88161337 0.73655101 0.89659421\n",
      "  0.49685783 0.7901077  0.53818886 0.91881251 0.39790941 0.4364442\n",
      "  0.86112867 0.90608358 0.6049414  0.29182555 0.67284206 0.79341589\n",
      "  0.24117138 0.7694641  0.44579798 0.47932698 0.4775719  0.78924831\n",
      "  0.70454642 0.30992401 0.54974688 0.92453104 0.1805042  0.87888221\n",
      "  0.46966221 0.53801229 0.73174936 0.74837632 0.76586828 0.58354281\n",
      "  0.42345873 0.09667709 0.31084184 0.8852452  0.56981897 0.4812742\n",
      "  0.         0.87330314 0.85722854 0.83600009 0.6622793  0.35832884\n",
      "  0.30464972 0.82294922 0.2667595  0.83881842 0.78015669 0.47901014\n",
      "  0.24790499 0.94380574 0.34666232 0.97089344 0.80985854 0.61626978\n",
      "  0.27543449 0.44961742 0.39636622 0.8018132  0.61721103 0.35813443\n",
      "  0.72764122 0.5230244  0.64709181 0.90651146 0.57199213 0.83333773\n",
      "  0.6029737  0.36214494 0.57263785 0.51759311 0.66662369 0.62854743\n",
      "  0.7738895  0.63930061 1.04604186 0.80804659]\n",
      " [0.42908071 0.39372624 0.74328716 0.84182843 0.27920438 0.77474183\n",
      "  1.03318738 1.08975431 0.25903638 0.69455405 0.68837954 0.96599992\n",
      "  0.67014582 0.55313537 0.2719233  0.2829865  0.82767898 0.15010743\n",
      "  0.30538887 0.62502206 0.41973072 0.27924281 0.61313704 0.53539141\n",
      "  0.58011874 0.33896551 0.46237223 0.4501858  0.56677191 0.61802629\n",
      "  0.40821663 0.08022907 0.65582034 0.76373934 0.36336181 0.44128904\n",
      "  0.93277517 0.19729003 0.66271006 0.60602009 0.62734402 0.23388165\n",
      "  0.26991861 0.83795805 0.83425513 0.42181355 0.87587198 0.16095765\n",
      "  0.52577187 0.57697656 0.1723259  0.43459774 0.30531035 0.32418174\n",
      "  0.56472579 0.82792153 0.87456806 0.24128604 0.55644867 0.72513748\n",
      "  0.87330314 0.         0.24451813 0.30875142 0.6415465  0.51651299\n",
      "  0.57352674 0.19828782 0.72265017 0.19459888 0.20706845 0.6740345\n",
      "  0.95546706 0.43082836 0.77477638 0.37661938 0.32710498 0.28388037\n",
      "  0.60906095 0.42373567 0.61821436 0.40034439 0.25841832 0.64263957\n",
      "  0.16607194 0.69804207 0.58953481 0.20820328 0.31120108 0.20637413\n",
      "  0.9614674  0.86525439 0.56309118 0.55131052 0.60764964 0.27869886\n",
      "  0.15169638 0.44304825 0.3852043  0.436427  ]\n",
      " [0.64522842 0.62501171 0.85937411 0.79128247 0.45526158 0.81497396\n",
      "  0.86859488 1.14370462 0.01460151 0.55755051 0.83753891 0.82553713\n",
      "  0.75367045 0.60062992 0.51035772 0.23907809 0.84666885 0.16539512\n",
      "  0.14916195 0.69151248 0.59072401 0.0400328  0.39709491 0.76132275\n",
      "  0.70534925 0.11616839 0.34308342 0.20638868 0.65121912 0.72476531\n",
      "  0.63571788 0.18312784 0.81218779 0.67177173 0.53967428 0.65333374\n",
      "  0.85134102 0.10819973 0.77435888 0.4719646  0.49035635 0.44918877\n",
      "  0.45045715 0.73576067 0.6681445  0.17962605 0.90939526 0.40209855\n",
      "  0.63506564 0.4250406  0.3430861  0.63592337 0.10681299 0.27932033\n",
      "  0.66037555 0.78922443 0.94286145 0.4805284  0.70474927 0.5776201\n",
      "  0.85722854 0.24451813 0.         0.53589354 0.44439946 0.53575168\n",
      "  0.55706457 0.42483199 0.64604592 0.42587275 0.41772542 0.79562828\n",
      "  0.99806489 0.19102945 0.66478491 0.15446936 0.54744698 0.40255155\n",
      "  0.6332566  0.44617295 0.7104839  0.16851935 0.33871374 0.54957185\n",
      "  0.32740966 0.83130759 0.39817784 0.0669517  0.3097699  0.04494155\n",
      "  0.7905293  0.94757296 0.3999017  0.4128721  0.40983969 0.4071799\n",
      "  0.14343247 0.27454211 0.2031807  0.65194045]\n",
      " [0.12574728 0.09014123 0.54747243 0.85132824 0.15676023 0.67754039\n",
      "  1.16867472 0.94433871 0.54941022 0.82522308 0.45302315 1.07471774\n",
      "  0.53086013 0.49118075 0.06817789 0.44592179 0.75109437 0.38572482\n",
      "  0.53752634 0.51867214 0.20450353 0.57450277 0.84239787 0.22705884\n",
      "  0.39734555 0.60380227 0.61725238 0.74014334 0.44878023 0.45523156\n",
      "  0.10015226 0.38877734 0.41399246 0.83324998 0.1655427  0.14223296\n",
      "  0.97081973 0.45256867 0.48454691 0.74619706 0.76734219 0.09158919\n",
      "  0.14894223 0.91092639 0.98496866 0.71518271 0.77475256 0.15729108\n",
      "  0.38176925 0.74057677 0.2127214  0.15388841 0.56207568 0.46387512\n",
      "  0.43070902 0.82443765 0.72824828 0.08864067 0.34234285 0.86411795\n",
      "  0.83600009 0.30875142 0.53589354 0.         0.84599988 0.50307794\n",
      "  0.58823429 0.11177319 0.77972918 0.11418061 0.12323108 0.47973771\n",
      "  0.83470553 0.72690937 0.86422637 0.68043093 0.03240455 0.26086466\n",
      "  0.56366612 0.44151759 0.47658904 0.66546102 0.3133287  0.73170733\n",
      "  0.2297891  0.48383126 0.79277483 0.51288222 0.41684614 0.49217021\n",
      "  1.10945032 0.70147687 0.74039136 0.70545234 0.81608336 0.24517076\n",
      "  0.40292148 0.64655326 0.69390739 0.13339385]\n",
      " [0.915172   0.93214162 0.90387227 0.54758459 0.70594287 0.73244513\n",
      "  0.43439903 1.02983242 0.43306174 0.21409619 0.94673549 0.42048561\n",
      "  0.7639119  0.59996815 0.85102414 0.40027011 0.71813508 0.49593097\n",
      "  0.33616789 0.69007545 0.79197732 0.43704355 0.08384354 1.03917755\n",
      "  0.80042092 0.32831403 0.24231164 0.35400339 0.69355605 0.78302282\n",
      "  0.93210929 0.60902744 0.93927493 0.38130228 0.76344458 0.91363148\n",
      "  0.53893592 0.44481488 0.82887737 0.19010106 0.18655023 0.75603112\n",
      "  0.70877328 0.40801147 0.24207481 0.37766976 0.7941434  0.76500908\n",
      "  0.72386682 0.14346656 0.63583736 0.87866031 0.34621512 0.38469265\n",
      "  0.71847238 0.56816082 0.88466295 0.82732866 0.83952728 0.20232784\n",
      "  0.6622793  0.6415465  0.44439946 0.84599988 0.         0.51816738\n",
      "  0.46506725 0.75483997 0.39559938 0.76370228 0.72637241 0.86301371\n",
      "  0.88367718 0.39204054 0.3402258  0.45597031 0.84206349 0.60522918\n",
      "  0.57891103 0.48861047 0.74775176 0.2859245  0.53870915 0.30953364\n",
      "  0.61949767 0.91246461 0.05346412 0.51108175 0.43683394 0.45898147\n",
      "  0.35344187 0.91420816 0.12126188 0.17965347 0.03464848 0.61929269\n",
      "  0.49028393 0.20246738 0.5381016  0.91953693]\n",
      " [0.50833757 0.56234814 0.3871272  0.34993025 0.35007053 0.27924406\n",
      "  0.70672089 0.60811191 0.53884903 0.39217645 0.43277353 0.59653228\n",
      "  0.25083518 0.08265862 0.54644757 0.29669676 0.31643607 0.41185746\n",
      "  0.40794057 0.17760972 0.35043328 0.56695385 0.5626536  0.61814403\n",
      "  0.28953513 0.49768251 0.29541548 0.64853582 0.17609957 0.26527279\n",
      "  0.54993379 0.5546871  0.43048801 0.34354461 0.35274836 0.49745447\n",
      "  0.46790569 0.43581803 0.31071281 0.34432107 0.35926904 0.44286644\n",
      "  0.36020255 0.41894904 0.55274686 0.64450009 0.37458684 0.52437323\n",
      "  0.2180525  0.37571638 0.37436068 0.45323235 0.46297648 0.25779948\n",
      "  0.20267274 0.3264309  0.41324174 0.53922155 0.34155257 0.43437188\n",
      "  0.35832884 0.51651299 0.53575168 0.50307794 0.51816738 0.\n",
      "  0.08919044 0.47221466 0.28661489 0.48774275 0.42952852 0.34501027\n",
      "  0.4624121  0.66358215 0.3854485  0.67106769 0.48168727 0.26163147\n",
      "  0.09795326 0.09449845 0.2296765  0.52948225 0.25913027 0.2698875\n",
      "  0.3696065  0.39491727 0.47764122 0.57450102 0.22886417 0.50392662\n",
      "  0.66299628 0.42681019 0.39781484 0.33856136 0.50349361 0.27511394\n",
      "  0.43006813 0.39232983 0.73639169 0.50937605]\n",
      " [0.59729633 0.65001042 0.44334608 0.27263903 0.43337254 0.28053016\n",
      "  0.61963264 0.60326937 0.55786484 0.31553926 0.50557872 0.50787279\n",
      "  0.30143532 0.15012944 0.62869602 0.32390239 0.29371349 0.45370678\n",
      "  0.41727112 0.2286172  0.43962362 0.58400561 0.51940018 0.70730893\n",
      "  0.36733926 0.50104679 0.26762439 0.64280523 0.24855346 0.33395856\n",
      "  0.63815841 0.60232722 0.507481   0.25442906 0.44099994 0.58657763\n",
      "  0.38330362 0.46572797 0.37462967 0.28060673 0.29229218 0.52382222\n",
      "  0.4429539  0.32977182 0.47230906 0.64329988 0.36262978 0.59866687\n",
      "  0.30059804 0.32180894 0.44531446 0.54240613 0.47184158 0.28000838\n",
      "  0.27767933 0.25491964 0.42866072 0.61960266 0.42460865 0.35721057\n",
      "  0.30464972 0.57352674 0.55706457 0.58823429 0.46506725 0.08919044\n",
      "  0.         0.55030608 0.19742528 0.56545515 0.50808788 0.41094189\n",
      "  0.45414788 0.66267218 0.29748711 0.68021748 0.56798537 0.3389928\n",
      "  0.11388205 0.15590485 0.29376958 0.5230675  0.3234153  0.18915795\n",
      "  0.43834677 0.46218675 0.43046959 0.6035849  0.26773203 0.53076472\n",
      "  0.57853524 0.4525933  0.34900447 0.28778134 0.45529987 0.35348142\n",
      "  0.46924678 0.37086521 0.7514453  0.59841465]\n",
      " [0.23097452 0.20018567 0.59627315 0.82127143 0.13466629 0.68528805\n",
      "  1.10003978 0.97573657 0.43849433 0.75462602 0.51988045 1.01377887\n",
      "  0.55317854 0.47895043 0.09618633 0.35602314 0.75188691 0.27891983\n",
      "  0.43566657 0.52615531 0.25104121 0.46318888 0.74495675 0.33876429\n",
      "  0.43600838 0.49684244 0.53566271 0.62979875 0.45878515 0.48612916\n",
      "  0.21192146 0.27851348 0.48361735 0.78217843 0.19680986 0.24390631\n",
      "  0.93233151 0.34504956 0.52358234 0.67150527 0.69306409 0.04496493\n",
      "  0.12277688 0.85983894 0.9102262  0.60433371 0.78582525 0.06675311\n",
      "  0.40078882 0.65909444 0.12160223 0.24171774 0.45606879 0.38083209\n",
      "  0.44725399 0.79864251 0.75758093 0.0746684  0.39531459 0.79155537\n",
      "  0.82294922 0.19828782 0.42483199 0.11177319 0.75483997 0.47221466\n",
      "  0.55030608 0.         0.73189111 0.01600241 0.04282862 0.52643291\n",
      "  0.85467918 0.61575445 0.80709485 0.56866469 0.12887453 0.21138129\n",
      "  0.54753896 0.3957598  0.49833398 0.55893774 0.24221138 0.67240986\n",
      "  0.13663834 0.54043802 0.70137909 0.40113628 0.34044391 0.38144787\n",
      "  1.0365586  0.7380486  0.65514737 0.62600195 0.72360209 0.19726413\n",
      "  0.29472914 0.55305019 0.58292969 0.23837903]\n",
      " [0.79434033 0.8450538  0.59761418 0.15722914 0.62335326 0.37073262\n",
      "  0.42959989 0.63935277 0.64254534 0.1890168  0.6811517  0.31250612\n",
      "  0.45800086 0.33768943 0.81567223 0.4452749  0.33580233 0.58466632\n",
      "  0.49689652 0.39376307 0.63704599 0.66327487 0.47095288 0.90471145\n",
      "  0.5522462  0.56040184 0.30500832 0.67237204 0.43210707 0.50951513\n",
      "  0.83406775 0.73511282 0.68880884 0.05779135 0.63718374 0.78387897\n",
      "  0.21066285 0.57646126 0.54256859 0.21620941 0.21210007 0.70977895\n",
      "  0.63214042 0.13249528 0.3109634  0.68240771 0.41148223 0.77397272\n",
      "  0.49184093 0.27631323 0.61896536 0.73979356 0.54462199 0.40112447\n",
      "  0.46228141 0.17291434 0.5195335  0.80384103 0.61483035 0.22040938\n",
      "  0.2667595  0.72265017 0.64604592 0.77972918 0.39559938 0.28661489\n",
      "  0.19742528 0.73189111 0.         0.74629952 0.69088901 0.57991387\n",
      "  0.49699175 0.70120629 0.10954251 0.73842545 0.7612031  0.52349597\n",
      "  0.2778795  0.33875162 0.46638473 0.56050515 0.49362539 0.10069939\n",
      "  0.60921505 0.63118877 0.38246878 0.70398997 0.41296281 0.63146994\n",
      "  0.39845986 0.5589931  0.31155221 0.26168362 0.40097112 0.53876634\n",
      "  0.59493089 0.39637136 0.81812547 0.79558129]\n",
      " [0.23665106 0.20023401 0.61067086 0.83662788 0.15056247 0.70125163\n",
      "  1.11230388 0.99121121 0.43971604 0.76685277 0.53270903 1.02692128\n",
      "  0.56880377 0.49490966 0.0885665  0.36585338 0.76788931 0.28365373\n",
      "  0.44205444 0.54209061 0.2647082  0.46379232 0.75229757 0.3408775\n",
      "  0.45081454 0.50096516 0.54659005 0.63148683 0.4746543  0.5013828\n",
      "  0.21371319 0.27459683 0.4961038  0.79631492 0.21105225 0.25058255\n",
      "  0.94723211 0.34916091 0.53848554 0.68327867 0.7048713  0.05903988\n",
      "  0.13868269 0.87392924 0.92180101 0.60549584 0.80176455 0.05297262\n",
      "  0.41638592 0.66986924 0.13321732 0.25094151 0.46073079 0.39187227\n",
      "  0.46296923 0.81417306 0.77306877 0.06375612 0.40910266 0.80350296\n",
      "  0.83881842 0.19459888 0.42587275 0.11418061 0.76370228 0.48774275\n",
      "  0.56545515 0.01600241 0.74629952 0.         0.05866219 0.54089189\n",
      "  0.87047115 0.61650274 0.82070916 0.56779603 0.13462746 0.22666074\n",
      "  0.56342021 0.41068232 0.51393955 0.56320424 0.2555533  0.68593027\n",
      "  0.14748934 0.55420635 0.71023955 0.3997675  0.3526408  0.38298646\n",
      "  1.04831573 0.75322913 0.66528106 0.63713795 0.73219906 0.21269255\n",
      "  0.29858607 0.56161398 0.57979154 0.2441622 ]\n",
      " [0.22810026 0.21316134 0.56217488 0.77875423 0.09446348 0.64377644\n",
      "  1.06335032 0.93697623 0.43081405 0.71817587 0.49166679 0.97522493\n",
      "  0.5138413  0.43633671 0.12903435 0.32620602 0.70972253 0.26340368\n",
      "  0.41434853 0.48493128 0.22110206 0.45700545 0.72029239 0.344053\n",
      "  0.40052678 0.48115784 0.50250519 0.62002816 0.41808481 0.44862799\n",
      "  0.220176   0.28618461 0.45670169 0.74167724 0.16513922 0.23780934\n",
      "  0.89045176 0.33041049 0.48755212 0.63615739 0.65761781 0.03202212\n",
      "  0.08259841 0.81940844 0.87516002 0.59603763 0.74451846 0.10430536\n",
      "  0.36173144 0.62610923 0.09066408 0.22775545 0.43916788 0.34782378\n",
      "  0.40750709 0.75594283 0.71882161 0.11313486 0.3639942  0.75571164\n",
      "  0.78015669 0.20706845 0.41772542 0.12323108 0.72637241 0.42952852\n",
      "  0.50808788 0.04282862 0.69088901 0.05866219 0.         0.49219498\n",
      "  0.81434133 0.60851893 0.76762429 0.56591098 0.13000696 0.16909583\n",
      "  0.50475826 0.35394875 0.4591357  0.54262493 0.20411941 0.63318916\n",
      "  0.10739637 0.50880213 0.67299188 0.40064868 0.30472597 0.3733456\n",
      "  1.00101994 0.70066986 0.62371073 0.59220002 0.69583345 0.15475907\n",
      "  0.28135388 0.52569983 0.58622877 0.23502844]\n",
      " [0.39937948 0.48243384 0.06999145 0.55802245 0.40126059 0.27637436\n",
      "  1.00783556 0.46935589 0.80335431 0.72619004 0.10496314 0.88539681\n",
      "  0.12598405 0.26440435 0.54651779 0.57567213 0.35926115 0.63751052\n",
      "  0.70167798 0.18652075 0.27849661 0.83333667 0.90452077 0.45048097\n",
      "  0.09395526 0.7937773  0.63401098 0.95132627 0.16965099 0.08022492\n",
      "  0.45868898 0.74097802 0.12660012 0.63593711 0.32990475 0.37906162\n",
      "  0.69336533 0.68742925 0.03735032 0.687581   0.70119713 0.48185498\n",
      "  0.41232835 0.69860054 0.87982653 0.9402852  0.34668011 0.59317477\n",
      "  0.16091599 0.72072652 0.50179663 0.34131244 0.75270143 0.55211323\n",
      "  0.14710505 0.51884708 0.26103728 0.55862472 0.13783984 0.76757792\n",
      "  0.47901014 0.6740345  0.79562828 0.47973771 0.86301371 0.34501027\n",
      "  0.41094189 0.52643291 0.57991387 0.54089189 0.49219498 0.\n",
      "  0.37967215 0.95810241 0.68921204 0.94698628 0.44754127 0.40101715\n",
      "  0.30479231 0.38899589 0.11718989 0.83816241 0.45760309 0.59897235\n",
      "  0.50960953 0.05151521 0.82144211 0.81272709 0.50267429 0.75452103\n",
      "  0.97784665 0.22526873 0.74234039 0.68349508 0.84745474 0.40133366\n",
      "  0.65983571 0.72317998 0.99664769 0.39501527]\n",
      " [0.77234808 0.85278477 0.33226046 0.376703   0.72015335 0.18383794\n",
      "  0.84998778 0.14932032 1.00088765 0.68558369 0.46367135 0.72166652\n",
      "  0.30401765 0.40541067 0.89712755 0.75907313 0.16608921 0.86967124\n",
      "  0.86632305 0.33194169 0.63101438 1.02867355 0.95144491 0.83015038\n",
      "  0.44190476 0.95313157 0.71969427 1.09694102 0.39641652 0.38070584\n",
      "  0.83052207 1.00520264 0.49781445 0.53204312 0.67134348 0.75291248\n",
      "  0.48268436 0.8978575  0.36073526 0.69449243 0.69721065 0.81365721\n",
      "  0.73206058 0.55731005 0.79464276 1.09695937 0.09180881 0.91857192\n",
      "  0.45553584 0.74887641 0.79195104 0.71193194 0.92141634 0.71934156\n",
      "  0.40782541 0.34077151 0.12260457 0.90283976 0.50880612 0.71712874\n",
      "  0.24790499 0.95546706 0.99806489 0.83470553 0.88367718 0.4624121\n",
      "  0.45414788 0.85467918 0.49699175 0.87047115 0.81434133 0.37967215\n",
      "  0.         1.11630532 0.58895335 1.13029557 0.80404037 0.67387447\n",
      "  0.36481605 0.55413389 0.35869612 0.97717778 0.70070547 0.57416334\n",
      "  0.79325303 0.40509137 0.86064331 1.03628149 0.69062511 0.96620861\n",
      "  0.85086212 0.17322455 0.78139004 0.72187319 0.88275854 0.68172895\n",
      "  0.88910383 0.8234685  1.19791235 0.76879799]\n",
      " [0.83563732 0.81593936 1.01813058 0.85669375 0.6417833  0.93793652\n",
      "  0.82445876 1.26501693 0.17771427 0.56632338 1.00964096 0.80986311\n",
      "  0.90094778 0.73802207 0.70012402 0.38282516 0.95606762 0.35105508\n",
      "  0.25852092 0.83326244 0.77353951 0.15273182 0.31852115 0.9522897\n",
      "  0.87150639 0.16655551 0.40562486 0.03947972 0.80291619 0.88312832\n",
      "  0.82674733 0.36052562 0.98716548 0.71208793 0.72458056 0.84326739\n",
      "  0.88912626 0.28647092 0.93331359 0.49500545 0.50766237 0.64007487\n",
      "  0.63778735 0.762427   0.63398712 0.01938908 1.02507693 0.59073611\n",
      "  0.79748879 0.43662445 0.53175949 0.82439451 0.20562637 0.41142317\n",
      "  0.8164238  0.86342899 1.07681303 0.67001254 0.87894409 0.57295381\n",
      "  0.94380574 0.43082836 0.19102945 0.72690937 0.39204054 0.66358215\n",
      "  0.66267218 0.61575445 0.70120629 0.61650274 0.60851893 0.95810241\n",
      "  1.11630532 0.         0.68965863 0.07661086 0.73835154 0.57914353\n",
      "  0.75655492 0.58418889 0.86321295 0.14201139 0.51035875 0.60050843\n",
      "  0.51559418 0.99761613 0.3630505  0.225496   0.4564608  0.23517371\n",
      "  0.74276651 1.08861286 0.40305213 0.44144781 0.36224236 0.58588523\n",
      "  0.33036525 0.30581753 0.14985636 0.84226878]\n",
      " [0.8882933  0.9342009  0.70707406 0.22018872 0.70751391 0.47598402\n",
      "  0.32267813 0.72583617 0.65899334 0.12782049 0.79004946 0.21218982\n",
      "  0.56753784 0.44319619 0.89501211 0.49195398 0.43370462 0.62966903\n",
      "  0.51787922 0.50289914 0.73388593 0.67588879 0.42213664 1.00187743\n",
      "  0.65934215 0.56651366 0.32455479 0.65689468 0.53915186 0.61812861\n",
      "  0.9248931  0.77672123 0.79690572 0.05807609 0.72945965 0.87906789\n",
      "  0.20146626 0.61029064 0.6518766  0.19653058 0.18211824 0.78910061\n",
      "  0.71540364 0.07282826 0.20694584 0.67184896 0.50773877 0.84355154\n",
      "  0.5966555  0.25313039 0.6897291  0.83577899 0.55899747 0.45090914\n",
      "  0.56920234 0.25017103 0.62210359 0.88065456 0.72030118 0.14134894\n",
      "  0.34666232 0.77477638 0.66478491 0.86422637 0.3402258  0.3854485\n",
      "  0.29748711 0.80709485 0.10954251 0.82070916 0.76762429 0.68921204\n",
      "  0.58895335 0.68965863 0.         0.73663756 0.8479991  0.60425698\n",
      "  0.38622298 0.42394405 0.57519282 0.55448352 0.56522436 0.13498516\n",
      "  0.67821832 0.74053642 0.34143767 0.72726451 0.47417163 0.65739937\n",
      "  0.28892009 0.66376166 0.2866937  0.25424691 0.35425855 0.61986741\n",
      "  0.63650743 0.39652351 0.81890641 0.89003329]\n",
      " [0.79401123 0.76802948 1.0096157  0.89135775 0.60867493 0.94914246\n",
      "  0.89020198 1.27786128 0.14469177 0.61686456 0.99133503 0.86896087\n",
      "  0.89927473 0.74116385 0.64839585 0.37901628 0.97361822 0.3197801\n",
      "  0.26397252 0.83448229 0.74499862 0.11490005 0.38684122 0.90725316\n",
      "  0.85765711 0.18078639 0.43576285 0.11423532 0.79836717 0.87463929\n",
      "  0.780583   0.30156379 0.96639721 0.75437462 0.69355049 0.80317416\n",
      "  0.93336274 0.26118301 0.92453263 0.5402453  0.55486573 0.59671945\n",
      "  0.60346608 0.80940659 0.69646767 0.0829594  1.0400094  0.53757701\n",
      "  0.78612458 0.48427147 0.49546127 0.7877166  0.20889355 0.41379136\n",
      "  0.80925585 0.89489871 1.08289782 0.61783736 0.85880234 0.62737009\n",
      "  0.97089344 0.37661938 0.15446936 0.68043093 0.45597031 0.67106769\n",
      "  0.68021748 0.56866469 0.73842545 0.56779603 0.56591098 0.94698628\n",
      "  1.13029557 0.07661086 0.73663756 0.         0.69446999 0.55667118\n",
      "  0.7667976  0.58600861 0.85821402 0.18239029 0.49162889 0.63817693\n",
      "  0.48023322 0.98381036 0.42213995 0.16846614 0.45244015 0.19881652\n",
      "  0.80890883 1.0909027  0.45246236 0.48392585 0.42445712 0.56154992\n",
      "  0.29767634 0.34298271 0.08320588 0.80092246]\n",
      " [0.10215843 0.09037124 0.51516496 0.82844227 0.14212776 0.64851063\n",
      "  1.15541212 0.91266099 0.5606375  0.81325722 0.42082439 1.05919038\n",
      "  0.50040639 0.46601834 0.10045631 0.44319145 0.72289327 0.39294245\n",
      "  0.54036283 0.49011464 0.17324791 0.5865695  0.841675   0.21405029\n",
      "  0.36573731 0.61013921 0.60999677 0.75003406 0.42016079 0.42411851\n",
      "  0.09168642 0.40733349 0.38190229 0.81542746 0.13740896 0.11614086\n",
      "  0.94957388 0.45998471 0.45274318 0.73587629 0.75680781 0.09828085\n",
      "  0.13626903 0.89292671 0.97407545 0.7259885  0.74513611 0.18208457\n",
      "  0.35227207 0.73279462 0.21497107 0.12292461 0.56774341 0.45816414\n",
      "  0.40127934 0.80072396 0.69685391 0.11911425 0.31005913 0.85271979\n",
      "  0.80985854 0.32710498 0.54744698 0.03240455 0.84206349 0.48168727\n",
      "  0.56798537 0.12887453 0.7612031  0.13462746 0.13000696 0.44754127\n",
      "  0.80404037 0.73835154 0.8479991  0.69446999 0.         0.24783197\n",
      "  0.53886969 0.42425582 0.44634861 0.67125214 0.3054153  0.71649007\n",
      "  0.23218651 0.45142685 0.78907859 0.52796706 0.40913366 0.50319069\n",
      "  1.09770309 0.66960885 0.73412492 0.69701087 0.81284836 0.23224132\n",
      "  0.41123188 0.64432982 0.71128159 0.10961634]\n",
      " [0.31033688 0.33727721 0.46829492 0.60997882 0.1057385  0.49558837\n",
      "  0.90804209 0.80622179 0.4120024  0.56542968 0.435183   0.81414908\n",
      "  0.3864156  0.27803839 0.2921877  0.220053   0.55467276 0.23934151\n",
      "  0.33897055 0.34226648 0.19943081 0.44178091 0.61497023 0.43407226\n",
      "  0.30798521 0.42467288 0.3671206  0.579837   0.28289169 0.33810927\n",
      "  0.3327433  0.34326305 0.40973672 0.57544337 0.16034926 0.30840595\n",
      "  0.72150228 0.29573658 0.38504856 0.48853831 0.50933    0.18629124\n",
      "  0.1121092  0.65324644 0.72636975 0.56300094 0.59710907 0.26300112\n",
      "  0.24540913 0.48829148 0.11878346 0.27456746 0.38097593 0.22212473\n",
      "  0.28163378 0.58790473 0.59069466 0.28107356 0.30219944 0.60491769\n",
      "  0.61626978 0.28388037 0.40255155 0.26086466 0.60522918 0.26163147\n",
      "  0.3389928  0.21138129 0.52349597 0.22666074 0.16909583 0.40101715\n",
      "  0.67387447 0.57914353 0.60425698 0.55667118 0.24783197 0.\n",
      "  0.34216224 0.18530273 0.33505749 0.47937318 0.07232286 0.4711195\n",
      "  0.11941344 0.43224138 0.55333393 0.4131532  0.16846326 0.35935952\n",
      "  0.8498721  0.58204165 0.4924191  0.45165158 0.57822011 0.01569416\n",
      "  0.26184676 0.41539029 0.59951109 0.31448513]\n",
      " [0.54912019 0.6125396  0.3316966  0.29468093 0.41825145 0.18236352\n",
      "  0.7074612  0.51125943 0.63609557 0.42360401 0.40405664 0.58847351\n",
      "  0.18932159 0.07325108 0.61366078 0.39431264 0.21970663 0.50914556\n",
      "  0.50305019 0.11867543 0.38795247 0.6639736  0.6321038  0.64841487\n",
      "  0.27526964 0.59154283 0.37417134 0.73979497 0.15584269 0.23193223\n",
      "  0.59694787 0.65041343 0.41092936 0.33507444 0.4033526  0.53530101\n",
      "  0.42446595 0.53375801 0.26769364 0.39409674 0.40509731 0.51395809\n",
      "  0.42934106 0.40297601 0.57514876 0.73733909 0.27664245 0.60402496\n",
      "  0.22110001 0.43559043 0.45919883 0.48999816 0.55818003 0.35462438\n",
      "  0.18604529 0.2635144  0.3222844  0.61009046 0.34068816 0.46442203\n",
      "  0.27543449 0.60906095 0.6332566  0.56366612 0.57891103 0.09795326\n",
      "  0.11388205 0.54753896 0.2778795  0.56342021 0.50475826 0.30479231\n",
      "  0.36481605 0.75655492 0.38622298 0.7667976  0.53886969 0.34216224\n",
      "  0.         0.19157837 0.18923311 0.62015499 0.35065109 0.29592159\n",
      "  0.45636649 0.35630614 0.54370302 0.67245295 0.32680822 0.60180404\n",
      "  0.6740095  0.3418059  0.46230769 0.40118411 0.56871579 0.3539189\n",
      "  0.52763622 0.47545075 0.8333067  0.54886687]\n",
      " [0.46736807 0.51028636 0.44171948 0.42851622 0.28486686 0.37035886\n",
      "  0.73603149 0.6982329  0.45017606 0.401585   0.46243672 0.63560205\n",
      "  0.31718242 0.15517276 0.47718437 0.20776877 0.41080785 0.31758651\n",
      "  0.32594449 0.24920847 0.32011641 0.47891179 0.52060942 0.58506311\n",
      "  0.31563824 0.4176369  0.24977827 0.57237423 0.22325511 0.30965092\n",
      "  0.50141807 0.46028427 0.45195666 0.3917468  0.30775302 0.45986462\n",
      "  0.53657175 0.34393175 0.35911125 0.33622368 0.35483489 0.37147094\n",
      "  0.29345975 0.46945726 0.56497808 0.5654628  0.46754528 0.44286811\n",
      "  0.23798354 0.3529602  0.28942715 0.41835241 0.38020832 0.17305356\n",
      "  0.2420317  0.40953548 0.49730834 0.46633609 0.35092199 0.44310269\n",
      "  0.44961742 0.42373567 0.44617295 0.44151759 0.48861047 0.09449845\n",
      "  0.15590485 0.3957598  0.33875162 0.41068232 0.35394875 0.38899589\n",
      "  0.55413389 0.58418889 0.42394405 0.58600861 0.42425582 0.18530273\n",
      "  0.19157837 0.         0.28315373 0.45539817 0.16870755 0.29414994\n",
      "  0.28271737 0.43496797 0.44236614 0.48216915 0.13678144 0.41257628\n",
      "  0.68363702 0.50526419 0.36775845 0.31441511 0.46855701 0.20035482\n",
      "  0.3360854  0.33434093 0.64827614 0.46971245]\n",
      " [0.4242239  0.50078078 0.15921513 0.45854721 0.36467796 0.20800972\n",
      "  0.89557202 0.47795438 0.7168597  0.60910887 0.2148697  0.77487223\n",
      "  0.05493645 0.14796228 0.53846933 0.48094976 0.28862464 0.55969409\n",
      "  0.60489686 0.07385122 0.27423465 0.74660169 0.79155214 0.5018483\n",
      "  0.10049414 0.69721222 0.52223596 0.85359013 0.06033367 0.04373771\n",
      "  0.48014243 0.67783103 0.22396801 0.52310813 0.31266715 0.40634035\n",
      "  0.5935201  0.60306213 0.08139672 0.57077596 0.58417984 0.4563249\n",
      "  0.3765374  0.58837362 0.76343995 0.84486656 0.29997454 0.56336808\n",
      "  0.09755613 0.60501676 0.44796895 0.362735   0.65774385 0.45267605\n",
      "  0.05348858 0.42120487 0.25991145 0.54429265 0.1734928  0.65056575\n",
      "  0.39636622 0.61821436 0.7104839  0.47658904 0.74775176 0.2296765\n",
      "  0.29376958 0.49833398 0.46638473 0.51393955 0.4591357  0.11718989\n",
      "  0.35869612 0.86321295 0.57519282 0.85821402 0.44634861 0.33505749\n",
      "  0.18923311 0.28315373 0.         0.73781058 0.37949949 0.48201254\n",
      "  0.45230084 0.16843293 0.70721677 0.73460275 0.4071034  0.67165839\n",
      "  0.86322756 0.24705487 0.6274912  0.56810609 0.73311077 0.33951551\n",
      "  0.58138166 0.61462677 0.91341363 0.42176512]\n",
      " [0.76210644 0.75558977 0.89514168 0.71539165 0.55714293 0.80040357\n",
      "  0.71853317 1.12619068 0.15514981 0.43453734 0.89758264 0.68964393\n",
      "  0.77232904 0.606549   0.65107597 0.26593922 0.81583826 0.28009758\n",
      "  0.14074161 0.70266367 0.67847112 0.15322473 0.23035079 0.88368452\n",
      "  0.75530432 0.06236864 0.26365608 0.11982882 0.67755836 0.76099874\n",
      "  0.76247942 0.34865705 0.87840287 0.57366482 0.63441674 0.76669603\n",
      "  0.75202777 0.21404444 0.81111538 0.35828399 0.37257151 0.57461765\n",
      "  0.55537038 0.62728698 0.52112472 0.12279065 0.88569727 0.54874201\n",
      "  0.67921456 0.30189968 0.45682255 0.7419324  0.10350919 0.28608648\n",
      "  0.69350852 0.72158588 0.94182327 0.62289339 0.77040864 0.44597007\n",
      "  0.8018132  0.40034439 0.16851935 0.66546102 0.2859245  0.52948225\n",
      "  0.5230675  0.55893774 0.56050515 0.56320424 0.54262493 0.83816241\n",
      "  0.97717778 0.14201139 0.55448352 0.18239029 0.67125214 0.47937318\n",
      "  0.62015499 0.45539817 0.73781058 0.         0.40749353 0.45984596\n",
      "  0.4396955  0.88034621 0.24574816 0.23217724 0.33652417 0.19606966\n",
      "  0.63837846 0.95611999 0.2701429  0.30274131 0.25230925 0.48870791\n",
      "  0.26468121 0.16430194 0.26522314 0.76808564]\n",
      " [0.37700207 0.39578426 0.52259514 0.59573455 0.16723393 0.51844842\n",
      "  0.85935754 0.83860578 0.34714578 0.51437885 0.50020065 0.77157953\n",
      "  0.42727019 0.29609149 0.33300454 0.14807178 0.56937459 0.18075466\n",
      "  0.26692615 0.37402617 0.27172419 0.37711801 0.54504172 0.50121857\n",
      "  0.36669578 0.35358249 0.3045875  0.509612   0.32276596 0.38908306\n",
      "  0.39409895 0.30464478 0.47684426 0.54210011 0.23172006 0.37667461\n",
      "  0.6984331  0.23067485 0.43794038 0.43348002 0.45478351 0.22879377\n",
      "  0.17034824 0.61947093 0.67249931 0.49379469 0.61906922 0.28035613\n",
      "  0.29780375 0.42755026 0.12537579 0.34481831 0.31004907 0.15403499\n",
      "  0.32731631 0.57794546 0.62699248 0.31635301 0.36867543 0.55235366\n",
      "  0.61721103 0.25841832 0.33871374 0.3133287  0.53870915 0.25913027\n",
      "  0.3234153  0.24221138 0.49362539 0.2555533  0.20411941 0.45760309\n",
      "  0.70070547 0.51035875 0.56522436 0.49162889 0.3054153  0.07232286\n",
      "  0.35065109 0.16870755 0.37949949 0.40749353 0.         0.43039447\n",
      "  0.11599589 0.49259585 0.48622736 0.35617056 0.10374345 0.29700635\n",
      "  0.79778756 0.62380673 0.42884276 0.39216028 0.51067564 0.08357018\n",
      "  0.20281613 0.34554118 0.53904742 0.38164915]\n",
      " [0.76119508 0.80369629 0.62741306 0.25704318 0.57524475 0.42806033\n",
      "  0.44231091 0.72041522 0.54541371 0.12769713 0.69466473 0.3430336\n",
      "  0.48505046 0.3392096  0.76093186 0.36075993 0.40878563 0.49967262\n",
      "  0.40055053 0.41427039 0.61023752 0.56523364 0.37977254 0.87740456\n",
      "  0.55607091 0.46085012 0.20680837 0.57178928 0.43768582 0.52281194\n",
      "  0.79541121 0.64854995 0.69648278 0.12356333 0.60168833 0.75307454\n",
      "  0.3019501  0.48545423 0.56229305 0.12168732 0.12305521 0.65514431\n",
      "  0.58276671 0.19536589 0.28346504 0.5817085  0.48489197 0.70857022\n",
      "  0.48737012 0.17988008 0.55477182 0.71071417 0.44665372 0.3184677\n",
      "  0.466681   0.26856642 0.58030332 0.74613041 0.61120773 0.16864693\n",
      "  0.35813443 0.64263957 0.54957185 0.73170733 0.30953364 0.2698875\n",
      "  0.18915795 0.67240986 0.10069939 0.68593027 0.63318916 0.59897235\n",
      "  0.57416334 0.60050843 0.13498516 0.63817693 0.71649007 0.4711195\n",
      "  0.29592159 0.29414994 0.48201254 0.45984596 0.43039447 0.\n",
      "  0.54323319 0.65038065 0.28959253 0.60912483 0.33946371 0.53735181\n",
      "  0.39386757 0.61385098 0.21460469 0.16182093 0.31019036 0.48678357\n",
      "  0.50796677 0.2957874  0.7182341  0.76334883]\n",
      " [0.32300609 0.31899956 0.57846229 0.71093694 0.12886671 0.61448332\n",
      "  0.96553394 0.92539755 0.33936486 0.6201109  0.53048159 0.88228135\n",
      "  0.50454281 0.39526651 0.23233378 0.21977085 0.67180569 0.16486238\n",
      "  0.3083173  0.46167892 0.26861129 0.36740476 0.61293433 0.4439921\n",
      "  0.41566388 0.3791217  0.39915595 0.5236737  0.40166273 0.45208109\n",
      "  0.32379995 0.23179114 0.50031292 0.65696629 0.21476578 0.32890098\n",
      "  0.81442496 0.2312265  0.49716784 0.53601415 0.55763169 0.13828429\n",
      "  0.12323617 0.7340901  0.7743845  0.50175964 0.71596761 0.16540438\n",
      "  0.35973633 0.52251813 0.01721706 0.30882835 0.3362655  0.24439372\n",
      "  0.39881744 0.69219042 0.70943261 0.21090506 0.39710081 0.6563811\n",
      "  0.72764122 0.16607194 0.32740966 0.2297891  0.61949767 0.3696065\n",
      "  0.43834677 0.13663834 0.60921505 0.14748934 0.10739637 0.50960953\n",
      "  0.79325303 0.51559418 0.67821832 0.48023322 0.23218651 0.11941344\n",
      "  0.45636649 0.28271737 0.45230084 0.4396955  0.11599589 0.54323319\n",
      "  0.         0.53583239 0.56607595 0.32229538 0.20630847 0.28246967\n",
      "  0.9009973  0.69929882 0.51857003 0.48965341 0.5887306  0.11291124\n",
      "  0.18523034 0.41845566 0.51106145 0.32921582]\n",
      " [0.39264788 0.47687126 0.0737008  0.6062448  0.42109435 0.31920802\n",
      "  1.05879702 0.48096698 0.83958489 0.77753598 0.06060344 0.93600963\n",
      "  0.17555434 0.31499075 0.55164751 0.61626794 0.40112478 0.67086457\n",
      "  0.74263701 0.23798764 0.28950174 0.86957474 0.952647   0.42994519\n",
      "  0.12623727 0.83438529 0.68176566 0.99213079 0.21895723 0.12965632\n",
      "  0.45216064 0.7676118  0.09282356 0.68708525 0.34402452 0.37175074\n",
      "  0.74142203 0.72321935 0.0887181  0.73816675 0.75199646 0.49549915\n",
      "  0.43158776 0.74922092 0.93133678 0.98006879 0.38171324 0.60703074\n",
      "  0.20113369 0.77051048 0.52672618 0.33798376 0.79272357 0.59473818\n",
      "  0.19456706 0.56670915 0.28329978 0.56630633 0.14512348 0.81896575\n",
      "  0.5230244  0.69804207 0.83130759 0.48383126 0.91246461 0.39491727\n",
      "  0.46218675 0.54043802 0.63118877 0.55420635 0.50880213 0.05151521\n",
      "  0.40509137 0.99761613 0.74053642 0.98381036 0.45142685 0.43224138\n",
      "  0.35630614 0.43496797 0.16843293 0.88034621 0.49259585 0.65038065\n",
      "  0.53583239 0.         0.87030255 0.84534949 0.54401071 0.78938595\n",
      "  1.02922932 0.24031604 0.79159705 0.73309909 0.89636938 0.4309913\n",
      "  0.6933186  0.76928833 1.03092189 0.38750738]\n",
      " [0.8629661  0.87909534 0.8645688  0.53804284 0.65344093 0.70350855\n",
      "  0.47318371 1.00817971 0.38747184 0.21369793 0.90280785 0.44722155\n",
      "  0.72594466 0.56004461 0.79756374 0.34695315 0.69458686 0.44322348\n",
      "  0.28436095 0.65200942 0.74165841 0.39357299 0.09081153 0.98705776\n",
      "  0.75614332 0.28276949 0.19359944 0.32665827 0.651792   0.74126512\n",
      "  0.87927482 0.55893124 0.89407368 0.37597113 0.71206563 0.86171378\n",
      "  0.54273365 0.3932585  0.78795974 0.16792984 0.17043974 0.70270839\n",
      "  0.65610705 0.41232507 0.2754314  0.34722146 0.77008072 0.71171189\n",
      "  0.67910264 0.11184018 0.58243692 0.82719913 0.2974192  0.33219765\n",
      "  0.67585834 0.55519147 0.85508311 0.77386869 0.79303767 0.21247618\n",
      "  0.64709181 0.58953481 0.39817784 0.79277483 0.05346412 0.47764122\n",
      "  0.43046959 0.70137909 0.38246878 0.71023955 0.67299188 0.82144211\n",
      "  0.86064331 0.3630505  0.34143767 0.42213995 0.78907859 0.55333393\n",
      "  0.54370302 0.44236614 0.70721677 0.24574816 0.48622736 0.28959253\n",
      "  0.56607595 0.87030255 0.         0.46509952 0.38487112 0.41029774\n",
      "  0.3936456  0.88231351 0.08147924 0.14274713 0.026198   0.56724505\n",
      "  0.43805428 0.14913137 0.50512067 0.86741329]\n",
      " [0.62840876 0.59996707 0.87851026 0.84613848 0.45100906 0.85252746\n",
      "  0.93545415 1.18004549 0.07811964 0.62231788 0.84683547 0.89127776\n",
      "  0.78046204 0.63415311 0.47992971 0.28028232 0.88901585 0.17544294\n",
      "  0.20946559 0.72180522 0.59062248 0.08243837 0.46209876 0.73989943\n",
      "  0.72054922 0.18276827 0.40378042 0.24943429 0.67659182 0.7452526\n",
      "  0.61299206 0.13507652 0.81903221 0.73204851 0.53705549 0.6384471\n",
      "  0.91106525 0.13882595 0.79401479 0.53597971 0.55478298 0.43084376\n",
      "  0.44464667 0.79764458 0.73493178 0.21880512 0.94908385 0.36915194\n",
      "  0.65376363 0.49043617 0.33623398 0.62543502 0.17239548 0.32358872\n",
      "  0.68301391 0.84209895 0.97485562 0.44937573 0.71318032 0.64330881\n",
      "  0.90651146 0.20820328 0.0669517  0.51288222 0.51108175 0.57450102\n",
      "  0.6035849  0.40113628 0.70398997 0.3997675  0.40064868 0.81272709\n",
      "  1.03628149 0.225496   0.72726451 0.16846614 0.52796706 0.4131532\n",
      "  0.67245295 0.48216915 0.73460275 0.23217724 0.35617056 0.60912483\n",
      "  0.32229538 0.84534949 0.46509952 0.         0.34572905 0.0733831\n",
      "  0.85746251 0.97617029 0.46600512 0.4768969  0.47655608 0.41530124\n",
      "  0.15338345 0.34018778 0.18878754 0.635458  ]\n",
      " [0.47839524 0.49949707 0.56173195 0.5314306  0.27002264 0.50694753\n",
      "  0.75966656 0.83500883 0.31424805 0.4142207  0.56146877 0.67628994\n",
      "  0.44689185 0.29086066 0.43368736 0.07385156 0.54441861 0.18626767\n",
      "  0.19901893 0.38248356 0.36102909 0.34332393 0.44797034 0.60234896\n",
      "  0.41878794 0.29122005 0.20086562 0.44865843 0.34691442 0.42681494\n",
      "  0.49749079 0.33469189 0.54358866 0.45689598 0.32776845 0.47685125\n",
      "  0.62231058 0.20724224 0.47701668 0.33143497 0.35291129 0.33099653\n",
      "  0.2737387  0.53291851 0.57043649 0.43831659 0.60339549 0.37058976\n",
      "  0.34294232 0.32382986 0.21950147 0.44264856 0.25084414 0.05539688\n",
      "  0.35997104 0.51935989 0.63311907 0.41510048 0.43623112 0.45118187\n",
      "  0.57199213 0.31120108 0.3097699  0.41684614 0.43683394 0.22886417\n",
      "  0.26773203 0.34044391 0.41296281 0.3526408  0.30472597 0.50267429\n",
      "  0.69062511 0.4564608  0.47417163 0.45244015 0.40913366 0.16846326\n",
      "  0.32680822 0.13678144 0.4071034  0.33652417 0.10374345 0.33946371\n",
      "  0.20630847 0.54401071 0.38487112 0.34572905 0.         0.27580077\n",
      "  0.69636759 0.63888489 0.32538019 0.28863513 0.40977556 0.18246192\n",
      "  0.2028369  0.24883575 0.5123744  0.48271277]\n",
      " [0.60062145 0.58153634 0.81892611 0.77289164 0.41038123 0.78264516\n",
      "  0.87565248 1.11080855 0.05747849 0.55557841 0.79453144 0.82625264\n",
      "  0.715943   0.56590153 0.46830136 0.20823032 0.81740087 0.12104684\n",
      "  0.14016506 0.65527836 0.54618343 0.08494381 0.4185253  0.71716054\n",
      "  0.66364399 0.13694702 0.33309622 0.24850105 0.61282305 0.68466093\n",
      "  0.59183369 0.15338013 0.76870285 0.66055314 0.49491181 0.60857788\n",
      "  0.83917305 0.06909194 0.73402113 0.46823423 0.48761822 0.4049111\n",
      "  0.40553182 0.727194   0.67470063 0.22301734 0.87840729 0.36116524\n",
      "  0.59430285 0.42536904 0.29814926 0.59099439 0.11288745 0.2509112\n",
      "  0.62095571 0.76871995 0.90760592 0.43875317 0.66149374 0.57852664\n",
      "  0.83333773 0.20637413 0.04494155 0.49217021 0.45898147 0.50392662\n",
      "  0.53076472 0.38144787 0.63146994 0.38298646 0.3733456  0.75452103\n",
      "  0.96620861 0.23517371 0.65739937 0.19881652 0.50319069 0.35935952\n",
      "  0.60180404 0.41257628 0.67165839 0.19606966 0.29700635 0.53735181\n",
      "  0.28246967 0.78938595 0.41029774 0.0733831  0.27580077 0.\n",
      "  0.79902082 0.91073829 0.40307063 0.40934753 0.42434511 0.36353245\n",
      "  0.09886479 0.27669349 0.24227421 0.60730188]\n",
      " [1.15030731 1.18687324 0.99579544 0.47493879 0.95558686 0.75905674\n",
      "  0.08194157 0.97536981 0.78034274 0.28445585 1.07806571 0.14432622\n",
      "  0.85645788 0.7275568  1.13002716 0.68887439 0.70788161 0.8114088\n",
      "  0.66472327 0.79139611 1.00269237 0.78719967 0.42455001 1.26869579\n",
      "  0.94482058 0.67595451 0.50435966 0.70393257 0.82492897 0.90585905\n",
      "  1.18078651 0.94216502 1.08366546 0.34422659 0.99075617 1.14339123\n",
      "  0.38047933 0.77211456 0.94053239 0.36505497 0.34349906 1.02657241\n",
      "  0.96173899 0.29625298 0.12746773 0.72939457 0.77797008 1.06137872\n",
      "  0.87907948 0.38476164 0.91514267 1.10196678 0.6870646  0.65736125\n",
      "  0.85470684 0.51304971 0.90000802 1.11122205 1.0031026  0.24544427\n",
      "  0.6029737  0.9614674  0.7905293  1.10945032 0.35344187 0.66299628\n",
      "  0.57853524 1.0365586  0.39845986 1.04831573 1.00101994 0.97784665\n",
      "  0.85086212 0.74276651 0.28892009 0.80890883 1.09770309 0.8498721\n",
      "  0.6740095  0.68363702 0.86322756 0.63837846 0.79778756 0.39386757\n",
      "  0.9009973  1.02922932 0.3936456  0.85746251 0.69636759 0.79902082\n",
      "  0.         0.94483813 0.39933551 0.41334325 0.38626385 0.8654764\n",
      "  0.81118583 0.52398219 0.89051889 1.15292283]\n",
      " [0.624645   0.70764586 0.16667075 0.47721801 0.60676727 0.18827151\n",
      "  0.95679157 0.24413234 0.9527871  0.73749639 0.29608035 0.82836363\n",
      "  0.1965816  0.35062595 0.76714098 0.71194249 0.240965   0.80251008\n",
      "  0.83094733 0.25643818 0.49762667 0.98207291 0.97176426 0.67010464\n",
      "  0.30469172 0.92215205 0.71587954 1.07486041 0.30113592 0.25204432\n",
      "  0.68395533 0.92444248 0.33265855 0.60579975 0.54493011 0.60429795\n",
      "  0.60237019 0.84168933 0.21698468 0.72537683 0.73311409 0.69456545\n",
      "  0.61845107 0.64919701 0.86952632 1.06970551 0.18524335 0.80417252\n",
      "  0.34121883 0.77218528 0.69470074 0.56642224 0.88541178 0.67825834\n",
      "  0.30053938 0.4367833  0.05472069 0.77702902 0.36218675 0.774537\n",
      "  0.36214494 0.86525439 0.94757296 0.70147687 0.91420816 0.42681019\n",
      "  0.4525933  0.7380486  0.5589931  0.75322913 0.70066986 0.22526873\n",
      "  0.17322455 1.08861286 0.66376166 1.0909027  0.66960885 0.58204165\n",
      "  0.3418059  0.50526419 0.24705487 0.95611999 0.62380673 0.61385098\n",
      "  0.69929882 0.24031604 0.88231351 0.97617029 0.63888489 0.91073829\n",
      "  0.94483813 0.         0.80086342 0.73959637 0.90672893 0.58655814\n",
      "  0.82373377 0.81650472 1.15068661 0.62024768]\n",
      " [0.80271974 0.82448774 0.7843037  0.46861665 0.59536664 0.6224925\n",
      "  0.4737835  0.9294028  0.39146402 0.16440244 0.82550527 0.42589535\n",
      "  0.64516422 0.47995958 0.7508688  0.29953472 0.61530371 0.41336462\n",
      "  0.26608068 0.57123727 0.67466564 0.40345515 0.17136724 0.92620081\n",
      "  0.6791626  0.29099532 0.12543717 0.37024992 0.57277491 0.66226596\n",
      "  0.82285856 0.54311711 0.81804348 0.31276154 0.64852864 0.80009958\n",
      "  0.48697863 0.37283164 0.70846281 0.0957528  0.10520394 0.65212822\n",
      "  0.59909073 0.35941215 0.27303849 0.38538195 0.6904978  0.6720861\n",
      "  0.60261361 0.03531617 0.53417159 0.7637672  0.2936272  0.27652862\n",
      "  0.5974446  0.4828032  0.77389284 0.7290055  0.71859625 0.17843827\n",
      "  0.57263785 0.56309118 0.3999017  0.74039136 0.12126188 0.39781484\n",
      "  0.34900447 0.65514737 0.31155221 0.66528106 0.62371073 0.74234039\n",
      "  0.78139004 0.40305213 0.2866937  0.45246236 0.73412492 0.4924191\n",
      "  0.46230769 0.36775845 0.6274912  0.2701429  0.42884276 0.21460469\n",
      "  0.51857003 0.79159705 0.08147924 0.46600512 0.32538019 0.40307063\n",
      "  0.39933551 0.80086342 0.         0.06127217 0.1064625  0.50700371\n",
      "  0.41219525 0.12638094 0.53536603 0.80674998]\n",
      " [0.76073964 0.78726681 0.72431883 0.41868158 0.55634089 0.56154484\n",
      "  0.48243016 0.8702258  0.40628882 0.14655279 0.76829139 0.4187211\n",
      "  0.5847003  0.42031564 0.7206941  0.27553128 0.55584932 0.40143024\n",
      "  0.26923616 0.51080387 0.62717505 0.42213673 0.23244125 0.88332624\n",
      "  0.62239836 0.31227422 0.09105803 0.41138117 0.51414738 0.60357422\n",
      "  0.78410151 0.54004855 0.76200634 0.27095762 0.60427678 0.75694043\n",
      "  0.44945307 0.36971683 0.64925534 0.05910083 0.07837062 0.61928022\n",
      "  0.56098376 0.32658744 0.28598802 0.42296938 0.63074079 0.64836235\n",
      "  0.54644065 0.03854527 0.50440394 0.71913997 0.3063312  0.24526879\n",
      "  0.53939207 0.42999093 0.71279741 0.70050027 0.66415726 0.17392027\n",
      "  0.51759311 0.55131052 0.4128721  0.70545234 0.17965347 0.33856136\n",
      "  0.28778134 0.62600195 0.26168362 0.63713795 0.59220002 0.68349508\n",
      "  0.72187319 0.44144781 0.25424691 0.48392585 0.69701087 0.45165158\n",
      "  0.40118411 0.31441511 0.56810609 0.30274131 0.39216028 0.16182093\n",
      "  0.48965341 0.73309909 0.14274713 0.4768969  0.28863513 0.40934753\n",
      "  0.41334325 0.73959637 0.06127217 0.         0.16753894 0.46672456\n",
      "  0.40359522 0.14229445 0.56564059 0.76439445]\n",
      " [0.8875741  0.90275185 0.89032654 0.55547618 0.67782341 0.72717443\n",
      "  0.46682616 1.02992807 0.39856466 0.22657922 0.92898133 0.44806806\n",
      "  0.75149159 0.58584018 0.81978105 0.37016193 0.71678724 0.46260667\n",
      "  0.30227028 0.67755798 0.76723167 0.40286385 0.06998256 1.01171923\n",
      "  0.78232566 0.29379011 0.21968033 0.32479128 0.67780836 0.76728905\n",
      "  0.90324751 0.57451345 0.92027168 0.39154039 0.7372156  0.88653124\n",
      "  0.55483784 0.41074142 0.81390435 0.1886529  0.18907479 0.72576079\n",
      "  0.68031878 0.42400157 0.27215356 0.34728244 0.79246136 0.73256431\n",
      "  0.7052954  0.1349825  0.60520707 0.85229131 0.31159523 0.35671366\n",
      "  0.7019483  0.57388016 0.8789532  0.79573988 0.81920837 0.22074085\n",
      "  0.66662369 0.60764964 0.40983969 0.81608336 0.03464848 0.50349361\n",
      "  0.45529987 0.72360209 0.40097112 0.73219906 0.69583345 0.84745474\n",
      "  0.88275854 0.36224236 0.35425855 0.42445712 0.81284836 0.57822011\n",
      "  0.56871579 0.46855701 0.73311077 0.25230925 0.51067564 0.31019036\n",
      "  0.5887306  0.89636938 0.026198   0.47655608 0.40977556 0.42434511\n",
      "  0.38626385 0.90672893 0.1064625  0.16753894 0.         0.59202385\n",
      "  0.45656134 0.17058526 0.5069607  0.89208421]\n",
      " [0.2959681  0.32178251 0.46926522 0.62401693 0.09020093 0.50451032\n",
      "  0.92372242 0.81275116 0.41703013 0.58104125 0.43175966 0.82981528\n",
      "  0.39163364 0.28859158 0.27691241 0.23162867 0.56495253 0.2428624\n",
      "  0.34866957 0.34983309 0.18979331 0.44666625 0.62796637 0.41988707\n",
      "  0.30780788 0.43318078 0.3817935  0.58752188 0.28885359 0.34059094\n",
      "  0.31748917 0.34065336 0.40519088 0.59086193 0.14815226 0.29451126\n",
      "  0.73624637 0.30120002 0.38672155 0.50396234 0.52478781 0.17111776\n",
      "  0.09642827 0.66866337 0.74189551 0.57001125 0.60602594 0.25035\n",
      "  0.24795343 0.5032483  0.11023543 0.2615393  0.38939215 0.23556221\n",
      "  0.28602694 0.60152414 0.59656684 0.26625144 0.29830008 0.62048343\n",
      "  0.62854743 0.27869886 0.4071799  0.24517076 0.61929269 0.27511394\n",
      "  0.35348142 0.19726413 0.53876634 0.21269255 0.15475907 0.40133366\n",
      "  0.68172895 0.58588523 0.61986741 0.56154992 0.23224132 0.01569416\n",
      "  0.3539189  0.20035482 0.33951551 0.48870791 0.08357018 0.48678357\n",
      "  0.11291124 0.4309913  0.56724505 0.41530124 0.18246192 0.36353245\n",
      "  0.8654764  0.58655814 0.50700371 0.46672456 0.59202385 0.\n",
      "  0.26533503 0.42838214 0.60250609 0.30025156]\n",
      " [0.50641613 0.49298076 0.72530572 0.72604872 0.31217488 0.70530176\n",
      "  0.88390964 1.03118669 0.15467829 0.548665   0.696882   0.82105211\n",
      "  0.62770238 0.48479667 0.38639604 0.15025403 0.74640285 0.02250572\n",
      "  0.15447235 0.57034758 0.4473352  0.18342077 0.46512855 0.62512607\n",
      "  0.5680613  0.20239481 0.31679676 0.33930277 0.52362001 0.59189515\n",
      "  0.50140834 0.1405867  0.67048602 0.63107213 0.39628709 0.51336536\n",
      "  0.80544525 0.05073654 0.64072826 0.45982979 0.48080448 0.31331651\n",
      "  0.30772324 0.70266737 0.68423082 0.31665991 0.80344725 0.28552554\n",
      "  0.50052399 0.42743021 0.20143415 0.49404749 0.16291842 0.19521808\n",
      "  0.52967401 0.7172407  0.82374133 0.35832294 0.56358246 0.57743831\n",
      "  0.7738895  0.15169638 0.14343247 0.40292148 0.49028393 0.43006813\n",
      "  0.46924678 0.29472914 0.59493089 0.29858607 0.28135388 0.65983571\n",
      "  0.88910383 0.33036525 0.63650743 0.29767634 0.41123188 0.26184676\n",
      "  0.52763622 0.3360854  0.58138166 0.26468121 0.20281613 0.50796677\n",
      "  0.18523034 0.6933186  0.43805428 0.15338345 0.2028369  0.09886479\n",
      "  0.81118583 0.82373377 0.41219525 0.40359522 0.45656134 0.26533503\n",
      "  0.         0.29136067 0.33772258 0.51288763]\n",
      " [0.72208927 0.73388179 0.77383774 0.55109203 0.51168914 0.65122264\n",
      "  0.59954472 0.97278771 0.26678604 0.28369463 0.79500295 0.55109917\n",
      "  0.64227326 0.47364742 0.64922249 0.20115197 0.65983451 0.29515914\n",
      "  0.1408277  0.56972278 0.60984666 0.28088643 0.19958961 0.84633191\n",
      "  0.64869156 0.17009826 0.10379877 0.27952565 0.55578082 0.64352868\n",
      "  0.73522654 0.41834948 0.78161244 0.41152472 0.575632   0.72219566\n",
      "  0.59086598 0.24909175 0.69255658 0.20047545 0.21746872 0.55587547\n",
      "  0.51344855 0.4688775  0.39859718 0.28677686 0.73167261 0.56258067\n",
      "  0.57093996 0.15055224 0.43503798 0.68987944 0.16785285 0.19375296\n",
      "  0.57609628 0.55767755 0.79730144 0.62516176 0.67658398 0.30313748\n",
      "  0.63930061 0.44304825 0.27454211 0.64655326 0.20246738 0.39232983\n",
      "  0.37086521 0.55305019 0.39637136 0.56161398 0.52569983 0.72317998\n",
      "  0.8234685  0.30581753 0.39652351 0.34298271 0.64432982 0.41539029\n",
      "  0.47545075 0.33434093 0.61462677 0.16430194 0.34554118 0.2957874\n",
      "  0.41845566 0.76928833 0.14913137 0.34018778 0.24883575 0.27669349\n",
      "  0.52398219 0.81650472 0.12638094 0.14229445 0.17058526 0.42838214\n",
      "  0.29136067 0.         0.42404818 0.72691663]\n",
      " [0.81272229 0.77854968 1.06119774 0.96988382 0.63971293 1.01550751\n",
      "  0.9719819  1.34445208 0.19814179 0.69975886 1.03426489 0.95207465\n",
      "  0.95684321 0.80311834 0.65469983 0.44056893 1.04375355 0.36021592\n",
      "  0.33430215 0.89453063 0.77940381 0.16947496 0.46721971 0.92058415\n",
      "  0.90543465 0.25801812 0.51412527 0.18933517 0.85427752 0.92691563\n",
      "  0.79341246 0.30551842 1.0070939  0.83555912 0.7258069  0.82373942\n",
      "  1.01487526 0.31039821 0.97629503 0.62240934 0.63735432 0.61555621\n",
      "  0.63321182 0.89162099 0.77908469 0.1613997  1.10842296 0.54346089\n",
      "  0.83654992 0.56691831 0.52487224 0.81258158 0.28034532 0.47869999\n",
      "  0.86301229 0.97214655 1.14542422 0.62389052 0.9007627  0.71055027\n",
      "  1.04604186 0.3852043  0.2031807  0.69390739 0.5381016  0.73639169\n",
      "  0.7514453  0.58292969 0.81812547 0.57979154 0.58622877 0.99664769\n",
      "  1.19791235 0.14985636 0.81890641 0.08320588 0.71128159 0.59951109\n",
      "  0.8333067  0.64827614 0.91341363 0.26522314 0.53904742 0.7182341\n",
      "  0.51106145 1.03092189 0.50512067 0.18878754 0.5123744  0.24227421\n",
      "  0.89051889 1.15068661 0.53536603 0.56564059 0.5069607  0.60250609\n",
      "  0.33772258 0.42404818 0.         0.81992806]\n",
      " [0.0076516  0.09006801 0.45738861 0.84345751 0.2154603  0.62965994\n",
      "  1.20558322 0.86422475 0.66476122 0.8695848  0.34653678 1.10221749\n",
      "  0.47212066 0.47607132 0.19472922 0.52703632 0.70905062 0.49344456\n",
      "  0.63329481 0.47824435 0.1610574  0.69145562 0.9261615  0.11964529\n",
      "  0.32799992 0.70804846 0.68135913 0.85216445 0.41017761 0.39083881\n",
      "  0.0647896  0.51663418 0.30608438 0.85192509 0.16217399 0.01595919\n",
      "  0.97099337 0.56020833 0.40857518 0.7977264  0.81785423 0.20463487\n",
      "  0.21482038 0.92806042 1.03251401 0.82923424 0.72021819 0.2903003\n",
      "  0.33847651 0.80158496 0.31235332 0.05967813 0.66490649 0.53539443\n",
      "  0.38567795 0.81201615 0.65432087 0.22029632 0.26018735 0.91044743\n",
      "  0.80804659 0.436427   0.65194045 0.13339385 0.91953693 0.50937605\n",
      "  0.59841465 0.23837903 0.79558129 0.2441622  0.23502844 0.39501527\n",
      "  0.76879799 0.84226878 0.89003329 0.80092246 0.10961634 0.31448513\n",
      "  0.54886687 0.46971245 0.42176512 0.76808564 0.38164915 0.76334883\n",
      "  0.32921582 0.38750738 0.86741329 0.635458   0.48271277 0.60730188\n",
      "  1.15292283 0.62024768 0.80674998 0.76439445 0.89208421 0.30025156\n",
      "  0.51288763 0.72691663 0.81992806 0.        ]]\n"
     ]
    }
   ],
   "source": [
    "Z = np.random.random((100,2))\n",
    "X,Y = np.atleast_2d(Z[:,0], Z[:,1])\n",
    "D = np.sqrt( (X-X.T)**2 + (Y-Y.T)**2)\n",
    "print(D)\n"
   ]
  },
  {
   "cell_type": "markdown",
   "id": "003ff920",
   "metadata": {},
   "source": [
    "#### 53. How to convert a float (32 bits) array into an integer (32 bits) array in place?"
   ]
  },
  {
   "cell_type": "code",
   "execution_count": 68,
   "id": "76245e6d",
   "metadata": {},
   "outputs": [
    {
     "name": "stdout",
     "output_type": "stream",
     "text": [
      "[25 43 92 41  1 24 41 58 35 43]\n"
     ]
    }
   ],
   "source": [
    "Z = (np.random.rand(10)*100).astype(np.float32)\n",
    "Y = Z.view(np.int32)\n",
    "Y[:] = Z\n",
    "print(Y)"
   ]
  },
  {
   "cell_type": "markdown",
   "id": "0c99eac4",
   "metadata": {},
   "source": [
    "#### 54. How to read the following file? (★★☆)\n",
    "```\n",
    "1, 2, 3, 4, 5\n",
    "6,  ,  , 7, 8\n",
    " ,  , 9,10,11\n",
    "```"
   ]
  },
  {
   "cell_type": "code",
   "execution_count": 69,
   "id": "55c6bf8c",
   "metadata": {},
   "outputs": [
    {
     "name": "stdout",
     "output_type": "stream",
     "text": [
      "[[ 1  2  3  4  5]\n",
      " [ 6 -1 -1  7  8]\n",
      " [-1 -1  9 10 11]]\n"
     ]
    }
   ],
   "source": [
    "from io import StringIO\n",
    "\n",
    "# Fake file\n",
    "s = StringIO('''1, 2, 3, 4, 5\n",
    "\n",
    "                6,  ,  , 7, 8\n",
    "\n",
    "                 ,  , 9,10,11''')\n",
    "Z = np.genfromtxt(s, delimiter=\",\", dtype=np.int64)\n",
    "print(Z)"
   ]
  },
  {
   "cell_type": "markdown",
   "id": "8cd30360",
   "metadata": {},
   "source": [
    "#### 55. What is the equivalent of enumerate for numpy arrays? (★★☆)"
   ]
  },
  {
   "cell_type": "code",
   "execution_count": 70,
   "id": "608315ba",
   "metadata": {},
   "outputs": [
    {
     "name": "stdout",
     "output_type": "stream",
     "text": [
      "(0, 0) 1\n",
      "(0, 1) 2\n",
      "(0, 2) 3\n",
      "(0, 3) 4\n",
      "(0, 4) 5\n",
      "(1, 0) 6\n",
      "(1, 1) -1\n",
      "(1, 2) -1\n",
      "(1, 3) 7\n",
      "(1, 4) 8\n",
      "(2, 0) -1\n",
      "(2, 1) -1\n",
      "(2, 2) 9\n",
      "(2, 3) 10\n",
      "(2, 4) 11\n"
     ]
    }
   ],
   "source": [
    "for idx, value in np.ndenumerate(Z):\n",
    "    print(idx, value)"
   ]
  },
  {
   "cell_type": "markdown",
   "id": "4823a294",
   "metadata": {},
   "source": [
    "#### 56. Generate a generic 2D Gaussian-like array (★★☆)"
   ]
  },
  {
   "cell_type": "code",
   "execution_count": 71,
   "id": "9b3b682d",
   "metadata": {},
   "outputs": [
    {
     "data": {
      "text/plain": [
       "array([[0.36787944, 0.44822088, 0.51979489, 0.57375342, 0.60279818,\n",
       "        0.60279818, 0.57375342, 0.51979489, 0.44822088, 0.36787944],\n",
       "       [0.44822088, 0.54610814, 0.63331324, 0.69905581, 0.73444367,\n",
       "        0.73444367, 0.69905581, 0.63331324, 0.54610814, 0.44822088],\n",
       "       [0.51979489, 0.63331324, 0.73444367, 0.81068432, 0.85172308,\n",
       "        0.85172308, 0.81068432, 0.73444367, 0.63331324, 0.51979489],\n",
       "       [0.57375342, 0.69905581, 0.81068432, 0.89483932, 0.9401382 ,\n",
       "        0.9401382 , 0.89483932, 0.81068432, 0.69905581, 0.57375342],\n",
       "       [0.60279818, 0.73444367, 0.85172308, 0.9401382 , 0.98773022,\n",
       "        0.98773022, 0.9401382 , 0.85172308, 0.73444367, 0.60279818],\n",
       "       [0.60279818, 0.73444367, 0.85172308, 0.9401382 , 0.98773022,\n",
       "        0.98773022, 0.9401382 , 0.85172308, 0.73444367, 0.60279818],\n",
       "       [0.57375342, 0.69905581, 0.81068432, 0.89483932, 0.9401382 ,\n",
       "        0.9401382 , 0.89483932, 0.81068432, 0.69905581, 0.57375342],\n",
       "       [0.51979489, 0.63331324, 0.73444367, 0.81068432, 0.85172308,\n",
       "        0.85172308, 0.81068432, 0.73444367, 0.63331324, 0.51979489],\n",
       "       [0.44822088, 0.54610814, 0.63331324, 0.69905581, 0.73444367,\n",
       "        0.73444367, 0.69905581, 0.63331324, 0.54610814, 0.44822088],\n",
       "       [0.36787944, 0.44822088, 0.51979489, 0.57375342, 0.60279818,\n",
       "        0.60279818, 0.57375342, 0.51979489, 0.44822088, 0.36787944]])"
      ]
     },
     "execution_count": 71,
     "metadata": {},
     "output_type": "execute_result"
    }
   ],
   "source": [
    "X, Y = np.meshgrid(np.linspace(-1,1,10),np.linspace(-1,1,10))\n",
    "D = np.sqrt(X*X+Y*Y)\n",
    "sigma, mu = 1.0, 0.0\n",
    "G = np.exp(-((D-mu)**2 / (2.0 * sigma**2)))\n",
    "G"
   ]
  },
  {
   "cell_type": "markdown",
   "id": "2dd8891d",
   "metadata": {},
   "source": [
    "#### 57. How to randomly place p elements in a 2D array? (★★☆)"
   ]
  },
  {
   "cell_type": "code",
   "execution_count": 72,
   "id": "a55c52dc",
   "metadata": {},
   "outputs": [
    {
     "name": "stdout",
     "output_type": "stream",
     "text": [
      "[[0. 0. 0. 0. 0. 0. 0. 0. 0. 0.]\n",
      " [0. 0. 0. 0. 0. 0. 0. 0. 0. 0.]\n",
      " [0. 0. 0. 0. 0. 0. 0. 0. 0. 0.]\n",
      " [0. 0. 0. 0. 0. 0. 0. 0. 0. 1.]\n",
      " [0. 0. 0. 0. 0. 0. 0. 0. 0. 0.]\n",
      " [0. 0. 0. 0. 0. 0. 0. 0. 0. 0.]\n",
      " [0. 0. 1. 0. 0. 0. 0. 0. 0. 0.]\n",
      " [0. 0. 0. 0. 0. 0. 0. 0. 0. 0.]\n",
      " [0. 0. 0. 0. 0. 0. 0. 0. 0. 0.]\n",
      " [0. 0. 0. 0. 0. 1. 0. 0. 0. 0.]]\n"
     ]
    }
   ],
   "source": [
    "n = 10\n",
    "p = 3\n",
    "Z = np.zeros((n,n))\n",
    "np.put(Z, np.random.choice(range(n*n), p, replace=False),1)\n",
    "print(Z)"
   ]
  },
  {
   "cell_type": "markdown",
   "id": "270b6834",
   "metadata": {},
   "source": [
    "#### 58. Subtract the mean of each row of a matrix (★★☆)"
   ]
  },
  {
   "cell_type": "code",
   "execution_count": 73,
   "id": "814080c9",
   "metadata": {},
   "outputs": [
    {
     "data": {
      "text/plain": [
       "array([[-0.0050201 ,  0.27392832, -0.01955757,  0.3003949 , -0.26540535,\n",
       "         0.14014319,  0.34557709, -0.42715638, -0.51839103,  0.17548693],\n",
       "       [-0.32915073, -0.05666525, -0.32758026,  0.05461984, -0.33319845,\n",
       "         0.30284019,  0.39520787,  0.39322056,  0.15550898, -0.25480275],\n",
       "       [-0.30970952, -0.00498703,  0.32420591, -0.26061758, -0.10056729,\n",
       "         0.30215316,  0.4509418 , -0.19731039,  0.089942  , -0.29405105],\n",
       "       [ 0.33443738, -0.37451113, -0.16972192, -0.09174771,  0.2293593 ,\n",
       "        -0.13102259,  0.15947101, -0.19517868,  0.40041491, -0.16150056],\n",
       "       [ 0.10751366,  0.02114692,  0.3590459 ,  0.22182456,  0.1121186 ,\n",
       "        -0.11275578,  0.02633151, -0.13861397, -0.44676023, -0.14985118]])"
      ]
     },
     "execution_count": 73,
     "metadata": {},
     "output_type": "execute_result"
    }
   ],
   "source": [
    "X = np.random.rand(5,10)\n",
    "\n",
    "Y = X - X.mean(axis=1, keepdims=True)\n",
    "\n",
    "Y"
   ]
  },
  {
   "cell_type": "markdown",
   "id": "52c92916",
   "metadata": {},
   "source": [
    "#### 59. How to sort an array by the nth column? (★★☆)"
   ]
  },
  {
   "cell_type": "code",
   "execution_count": 74,
   "id": "c6ebac6d",
   "metadata": {},
   "outputs": [
    {
     "name": "stdout",
     "output_type": "stream",
     "text": [
      "[[5 6 5]\n",
      " [3 8 2]\n",
      " [0 9 8]]\n",
      "[[5 6 5]\n",
      " [3 8 2]\n",
      " [0 9 8]]\n"
     ]
    }
   ],
   "source": [
    "Z = np.random.randint(0,10,(3,3))\n",
    "print(Z)\n",
    "print(Z[Z[:,1].argsort()])"
   ]
  },
  {
   "cell_type": "markdown",
   "id": "05cef60b",
   "metadata": {},
   "source": [
    "#### 60. How to tell if a given 2D array has null columns? (★★☆)"
   ]
  },
  {
   "cell_type": "code",
   "execution_count": 75,
   "id": "7979b467",
   "metadata": {},
   "outputs": [
    {
     "data": {
      "text/plain": [
       "array([[0, 0, 0, 0, 0, 1, 0, 0, 1, 1],\n",
       "       [1, 1, 1, 0, 0, 0, 1, 1, 1, 0],\n",
       "       [1, 1, 0, 1, 0, 1, 1, 0, 1, 1]])"
      ]
     },
     "execution_count": 75,
     "metadata": {},
     "output_type": "execute_result"
    }
   ],
   "source": [
    "Z = np.random.randint(0,2,(3,10))\n",
    "Z"
   ]
  },
  {
   "cell_type": "code",
   "execution_count": 76,
   "id": "12b2b6d5",
   "metadata": {},
   "outputs": [
    {
     "data": {
      "text/plain": [
       "np.True_"
      ]
     },
     "execution_count": 76,
     "metadata": {},
     "output_type": "execute_result"
    }
   ],
   "source": [
    "(~Z.any(axis=0)).any()"
   ]
  },
  {
   "cell_type": "markdown",
   "id": "4891fdf5",
   "metadata": {},
   "source": [
    "#### 61. Find the nearest value from a given value in an array (★★☆)"
   ]
  },
  {
   "cell_type": "code",
   "execution_count": 77,
   "id": "b38950fd",
   "metadata": {},
   "outputs": [
    {
     "name": "stdout",
     "output_type": "stream",
     "text": [
      "[0.28619675 0.58094833 0.69981903 0.92358341 0.13945394 0.70100993\n",
      " 0.48419832 0.07234385 0.38624289 0.97796977]\n",
      "0.4841983161652149\n"
     ]
    }
   ],
   "source": [
    "Z = np.random.uniform(0,1,10)\n",
    "print(Z)\n",
    "z = 0.5\n",
    "m = Z.flat[np.abs(Z - z).argmin()]\n",
    "print(m)"
   ]
  },
  {
   "cell_type": "markdown",
   "id": "b34bfbc7",
   "metadata": {},
   "source": [
    "#### 62. Considering two arrays with shape (1,3) and (3,1), how to compute their sum using an iterator? (★★☆)"
   ]
  },
  {
   "cell_type": "code",
   "execution_count": 78,
   "id": "aa7eb006",
   "metadata": {},
   "outputs": [
    {
     "name": "stdout",
     "output_type": "stream",
     "text": [
      "[[0 1 2]\n",
      " [1 2 3]\n",
      " [2 3 4]]\n"
     ]
    }
   ],
   "source": [
    "A = np.arange(3).reshape(3,1)\n",
    "B = np.arange(3).reshape(1,3)\n",
    "it = np.nditer([A,B,None])\n",
    "for x,y,z in it: z[...] = x + y\n",
    "print(it.operands[2])"
   ]
  },
  {
   "cell_type": "markdown",
   "id": "77a27b83",
   "metadata": {},
   "source": [
    "#### 63. Create an array class that has a name attribute (★★☆)"
   ]
  },
  {
   "cell_type": "code",
   "execution_count": 79,
   "id": "a2a83936",
   "metadata": {},
   "outputs": [
    {
     "name": "stdout",
     "output_type": "stream",
     "text": [
      "numbers_array\n"
     ]
    }
   ],
   "source": [
    "class NamedArray(np.ndarray):\n",
    "    def __new__(cls, array, name=\"no name\"):\n",
    "        obj = np.asarray(array).view(cls)\n",
    "        obj.name = name\n",
    "        return obj\n",
    "    def __array_finalize__(self, obj):\n",
    "        if obj is None: return\n",
    "        self.name = getattr(obj, 'name', \"no name\")\n",
    "\n",
    "Z = NamedArray(np.arange(5), \"numbers_array\")\n",
    "print(Z.name)"
   ]
  },
  {
   "cell_type": "markdown",
   "id": "f7f5d229",
   "metadata": {},
   "source": [
    "#### 64. Consider a given vector, how to add 1 to each element indexed by a second vector (be careful with repeated indices)? (★★★)"
   ]
  },
  {
   "cell_type": "code",
   "execution_count": null,
   "id": "9b8f8f48",
   "metadata": {},
   "outputs": [
    {
     "name": "stdout",
     "output_type": "stream",
     "text": [
      "[1. 1. 1. 1. 1. 1. 1. 1. 1. 1.] [9 6 1 6 3 2 3 5 2 5 1 4 5 2 5 5 8 3 3 8]\n",
      "[1. 3. 4. 5. 2. 6. 3. 1. 3. 2.]\n"
     ]
    }
   ],
   "source": [
    "Z = np.ones(10)\n",
    "I = np.random.randint(0,len(Z),20)\n",
    "print(Z, I)\n",
    "Z += np.bincount(I, minlength=len(Z))\n",
    "print(Z)"
   ]
  },
  {
   "cell_type": "markdown",
   "id": "b067fca8",
   "metadata": {},
   "source": [
    "#### 65. How to accumulate elements of a vector (X) to an array (F) based on an index list (I)? (★★★)"
   ]
  },
  {
   "cell_type": "code",
   "execution_count": null,
   "id": "55ab4272",
   "metadata": {},
   "outputs": [
    {
     "name": "stdout",
     "output_type": "stream",
     "text": [
      "[0. 7. 0. 6. 5. 0. 0. 0. 0. 3.]\n"
     ]
    }
   ],
   "source": [
    "X = [1,2,3,4,5,6]\n",
    "I = [1,3,9,3,4,1]\n",
    "binc = np.bincount(I,X)\n",
    "print(binc)"
   ]
  },
  {
   "cell_type": "markdown",
   "id": "765e2b8e",
   "metadata": {},
   "source": [
    "#### 66. Considering a (w,h,3) image of (dtype=ubyte), compute the number of unique colors (★★☆)"
   ]
  },
  {
   "cell_type": "code",
   "execution_count": 82,
   "id": "7572d90d",
   "metadata": {},
   "outputs": [
    {
     "name": "stdout",
     "output_type": "stream",
     "text": [
      "64\n"
     ]
    }
   ],
   "source": [
    "w, h = 256, 256\n",
    "I = np.random.randint(0, 4, (h, w, 3)).astype(np.ubyte)\n",
    "colors = np.unique(I.reshape(-1, 3), axis=0)\n",
    "n = len(colors)\n",
    "print(n)"
   ]
  },
  {
   "cell_type": "markdown",
   "id": "02743317",
   "metadata": {},
   "source": [
    "#### 67. Considering a four dimensions array, how to get sum over the last two axis at once? (★★★)"
   ]
  },
  {
   "cell_type": "code",
   "execution_count": null,
   "id": "980b5c45",
   "metadata": {},
   "outputs": [
    {
     "name": "stdout",
     "output_type": "stream",
     "text": [
      "[[57 53 45 54]\n",
      " [60 48 38 50]\n",
      " [58 55 45 40]]\n"
     ]
    }
   ],
   "source": [
    "A = np.random.randint(0,10,(3,4,3,4))\n",
    "sum = A.sum(axis=(-2,-1))\n",
    "print(sum)"
   ]
  },
  {
   "cell_type": "markdown",
   "id": "fe8b8107",
   "metadata": {},
   "source": [
    "#### 68. Considering a one-dimensional vector D, how to compute means of subsets of D using a vector S of same size describing subset  indices? (★★★)"
   ]
  },
  {
   "cell_type": "code",
   "execution_count": 84,
   "id": "9c17c8c9",
   "metadata": {},
   "outputs": [
    {
     "name": "stdout",
     "output_type": "stream",
     "text": [
      "[0.41856132 0.69986621 0.58668666 0.52004981 0.40125638 0.40870967\n",
      " 0.57345355 0.5353166  0.5026799  0.38583231]\n"
     ]
    }
   ],
   "source": [
    "D = np.random.uniform(0,1,100)\n",
    "S = np.random.randint(0,10,100)\n",
    "D_sums = np.bincount(S, weights=D)\n",
    "D_counts = np.bincount(S)\n",
    "D_means = D_sums / D_counts\n",
    "print(D_means)"
   ]
  },
  {
   "cell_type": "markdown",
   "id": "7efa1173",
   "metadata": {},
   "source": [
    "#### 69. How to get the diagonal of a dot product? (★★★)"
   ]
  },
  {
   "cell_type": "code",
   "execution_count": null,
   "id": "59fc6a51",
   "metadata": {},
   "outputs": [
    {
     "data": {
      "text/plain": [
       "array([1.92495063, 0.81921328, 0.95984074, 1.4909807 , 1.35167801])"
      ]
     },
     "execution_count": 85,
     "metadata": {},
     "output_type": "execute_result"
    }
   ],
   "source": [
    "A = np.random.uniform(0,1,(5,5))\n",
    "B = np.random.uniform(0,1,(5,5))\n",
    "\n",
    "np.einsum(\"ij,ji->i\", A, B)"
   ]
  },
  {
   "cell_type": "markdown",
   "id": "b72adc30",
   "metadata": {},
   "source": [
    "#### 70. Consider the vector [1, 2, 3, 4, 5], how to build a new vector with 3 consecutive zeros interleaved between each value? (★★★)"
   ]
  },
  {
   "cell_type": "code",
   "execution_count": 86,
   "id": "94b582b4",
   "metadata": {},
   "outputs": [
    {
     "name": "stdout",
     "output_type": "stream",
     "text": [
      "[1. 0. 0. 0. 2. 0. 0. 0. 3. 0. 0. 0. 4. 0. 0. 0. 5.]\n"
     ]
    }
   ],
   "source": [
    "Z = np.array([1,2,3,4,5])\n",
    "nz = 3\n",
    "Z0 = np.zeros(len(Z) + (len(Z)-1)*(nz))\n",
    "Z0[::nz+1] = Z\n",
    "print(Z0)"
   ]
  },
  {
   "cell_type": "markdown",
   "id": "fafa05b8",
   "metadata": {},
   "source": [
    "#### 71. Consider an array of dimension (5,5,3), how to multiply it by an array with dimensions (5,5)? (★★★)"
   ]
  },
  {
   "cell_type": "code",
   "execution_count": 87,
   "id": "0dbb5bd4",
   "metadata": {},
   "outputs": [
    {
     "name": "stdout",
     "output_type": "stream",
     "text": [
      "[[[2. 2. 2.]\n",
      "  [2. 2. 2.]\n",
      "  [2. 2. 2.]\n",
      "  [2. 2. 2.]\n",
      "  [2. 2. 2.]]\n",
      "\n",
      " [[2. 2. 2.]\n",
      "  [2. 2. 2.]\n",
      "  [2. 2. 2.]\n",
      "  [2. 2. 2.]\n",
      "  [2. 2. 2.]]\n",
      "\n",
      " [[2. 2. 2.]\n",
      "  [2. 2. 2.]\n",
      "  [2. 2. 2.]\n",
      "  [2. 2. 2.]\n",
      "  [2. 2. 2.]]\n",
      "\n",
      " [[2. 2. 2.]\n",
      "  [2. 2. 2.]\n",
      "  [2. 2. 2.]\n",
      "  [2. 2. 2.]\n",
      "  [2. 2. 2.]]\n",
      "\n",
      " [[2. 2. 2.]\n",
      "  [2. 2. 2.]\n",
      "  [2. 2. 2.]\n",
      "  [2. 2. 2.]\n",
      "  [2. 2. 2.]]]\n"
     ]
    }
   ],
   "source": [
    "A = np.ones((5,5,3))\n",
    "B = 2*np.ones((5,5))\n",
    "print(A * B[:,:,None])"
   ]
  },
  {
   "cell_type": "code",
   "execution_count": 88,
   "id": "b38004af",
   "metadata": {},
   "outputs": [
    {
     "name": "stdout",
     "output_type": "stream",
     "text": [
      "[[[2. 2. 2.]\n",
      "  [2. 2. 2.]\n",
      "  [2. 2. 2.]\n",
      "  [2. 2. 2.]\n",
      "  [2. 2. 2.]]\n",
      "\n",
      " [[2. 2. 2.]\n",
      "  [2. 2. 2.]\n",
      "  [2. 2. 2.]\n",
      "  [2. 2. 2.]\n",
      "  [2. 2. 2.]]\n",
      "\n",
      " [[2. 2. 2.]\n",
      "  [2. 2. 2.]\n",
      "  [2. 2. 2.]\n",
      "  [2. 2. 2.]\n",
      "  [2. 2. 2.]]\n",
      "\n",
      " [[2. 2. 2.]\n",
      "  [2. 2. 2.]\n",
      "  [2. 2. 2.]\n",
      "  [2. 2. 2.]\n",
      "  [2. 2. 2.]]\n",
      "\n",
      " [[2. 2. 2.]\n",
      "  [2. 2. 2.]\n",
      "  [2. 2. 2.]\n",
      "  [2. 2. 2.]\n",
      "  [2. 2. 2.]]]\n"
     ]
    }
   ],
   "source": [
    "print(A * B[:,:,np.newaxis])"
   ]
  },
  {
   "cell_type": "markdown",
   "id": "35a2bae5",
   "metadata": {},
   "source": [
    "#### 72. How to swap two rows of an array? (★★★)"
   ]
  },
  {
   "cell_type": "code",
   "execution_count": 89,
   "id": "2d427b48",
   "metadata": {},
   "outputs": [
    {
     "name": "stdout",
     "output_type": "stream",
     "text": [
      "[[ 0  1  2  3  4]\n",
      " [ 5  6  7  8  9]\n",
      " [10 11 12 13 14]\n",
      " [15 16 17 18 19]\n",
      " [20 21 22 23 24]]\n"
     ]
    },
    {
     "data": {
      "text/plain": [
       "array([[ 5,  6,  7,  8,  9],\n",
       "       [ 0,  1,  2,  3,  4],\n",
       "       [10, 11, 12, 13, 14],\n",
       "       [15, 16, 17, 18, 19],\n",
       "       [20, 21, 22, 23, 24]])"
      ]
     },
     "execution_count": 89,
     "metadata": {},
     "output_type": "execute_result"
    }
   ],
   "source": [
    "A = np.arange(25).reshape(5,5)\n",
    "print(A)\n",
    "A[[0,1]] = A[[1,0]]\n",
    "A"
   ]
  },
  {
   "cell_type": "markdown",
   "id": "b760fc57",
   "metadata": {},
   "source": [
    "#### 73. Consider a set of 10 triplets describing 10 triangles (with shared vertices), find the set of unique line segments composing all the  triangles (★★★)"
   ]
  },
  {
   "cell_type": "code",
   "execution_count": 90,
   "id": "01738774",
   "metadata": {},
   "outputs": [
    {
     "name": "stdout",
     "output_type": "stream",
     "text": [
      "[( 6, 25) ( 6, 42) ( 9, 45) ( 9, 86) (10, 22) (10, 34) (12, 59) (12, 76)\n",
      " (13, 26) (13, 39) (13, 64) (13, 88) (16, 27) (16, 93) (22, 34) (25, 42)\n",
      " (26, 39) (27, 67) (27, 72) (27, 93) (39, 73) (39, 97) (45, 86) (59, 76)\n",
      " (62, 79) (62, 84) (64, 88) (67, 72) (73, 97) (79, 84)]\n"
     ]
    }
   ],
   "source": [
    "faces = np.random.randint(0,100,(10,3))\n",
    "F = np.roll(faces.repeat(2,axis=1),-1,axis=1)\n",
    "F = F.reshape(len(F)*3,2)\n",
    "F = np.sort(F,axis=1)\n",
    "G = F.view( dtype=[('p0',F.dtype),('p1',F.dtype)] )\n",
    "G = np.unique(G)\n",
    "print(G)"
   ]
  },
  {
   "cell_type": "markdown",
   "id": "2d28cdaa",
   "metadata": {},
   "source": [
    "#### 74. Given a sorted array C that corresponds to a bincount, how to produce an array A such that np.bincount(A) == C? (★★★)"
   ]
  },
  {
   "cell_type": "code",
   "execution_count": 91,
   "id": "8423859b",
   "metadata": {},
   "outputs": [
    {
     "name": "stdout",
     "output_type": "stream",
     "text": [
      "[1 1 2 3 4 4 6]\n"
     ]
    }
   ],
   "source": [
    "C = np.bincount([1,1,2,3,4,4,6])\n",
    "A = np.repeat(np.arange(len(C)), C)\n",
    "print(A)"
   ]
  },
  {
   "cell_type": "markdown",
   "id": "5f4cafbd",
   "metadata": {},
   "source": [
    "#### 75. How to compute averages using a sliding window over an array? (★★★)"
   ]
  },
  {
   "cell_type": "code",
   "execution_count": null,
   "id": "62d6d514",
   "metadata": {},
   "outputs": [
    {
     "name": "stdout",
     "output_type": "stream",
     "text": [
      "[ 1.  2.  3.  4.  5.  6.  7.  8.  9. 10. 11. 12. 13. 14. 15. 16. 17. 18.]\n"
     ]
    }
   ],
   "source": [
    "def calculate_moving_average(a, n=3) :\n",
    "    ret = np.cumsum(a, dtype=float)\n",
    "    ret[n:] = ret[n:] - ret[:-n]\n",
    "    return ret[n - 1:] / n\n",
    "Z = np.arange(20)\n",
    "print(calculate_moving_average(Z, n=3))\n"
   ]
  },
  {
   "cell_type": "markdown",
   "id": "575d8bb4",
   "metadata": {},
   "source": [
    "#### 76. Consider a one-dimensional array Z, build a two-dimensional array whose first row is (Z[0],Z[1],Z[2]) and each subsequent row is  shifted by 1 (last row should be (Z[-3],Z[-2],Z[-1]) (★★★)"
   ]
  },
  {
   "cell_type": "code",
   "execution_count": 94,
   "id": "2a41d341",
   "metadata": {},
   "outputs": [
    {
     "name": "stdout",
     "output_type": "stream",
     "text": [
      "[[0 1 2]\n",
      " [1 2 3]\n",
      " [2 3 4]\n",
      " [3 4 5]\n",
      " [4 5 6]\n",
      " [5 6 7]\n",
      " [6 7 8]\n",
      " [7 8 9]]\n"
     ]
    }
   ],
   "source": [
    "from numpy.lib import stride_tricks\n",
    "\n",
    "def rolling(a, window):\n",
    "    shape = (a.size - window + 1, window)\n",
    "    strides = (a.strides[0], a.strides[0])\n",
    "    return stride_tricks.as_strided(a, shape=shape, strides=strides)\n",
    "Z = rolling(np.arange(10), 3)\n",
    "print(Z)"
   ]
  },
  {
   "cell_type": "markdown",
   "id": "80dc0b2a",
   "metadata": {},
   "source": [
    "#### 77. How to negate a boolean, or to change the sign of a float inplace? (★★★)"
   ]
  },
  {
   "cell_type": "code",
   "execution_count": 95,
   "id": "6fc68014",
   "metadata": {},
   "outputs": [
    {
     "data": {
      "text/plain": [
       "array([-0.48516422, -0.40114315,  0.5794954 ,  0.68316974, -0.73859619,\n",
       "       -0.50342762, -0.25772257, -0.05533324,  0.81699481,  0.16324045,\n",
       "        0.71456363, -0.79744594,  0.05561829, -0.86732089, -0.26825473,\n",
       "        0.99649712,  0.26715607, -0.8057013 ,  0.60436876, -0.13064611,\n",
       "       -0.06334228, -0.12134816,  0.92325305,  0.09773945,  0.22740565,\n",
       "       -0.91125867,  0.08527621,  0.99987569, -0.19149209,  0.30538139,\n",
       "        0.73055522,  0.99751562, -0.82487024, -0.61334569,  0.79047039,\n",
       "        0.74917436, -0.62600647,  0.50337322, -0.0232879 ,  0.20806666,\n",
       "       -0.50525175,  0.18784547, -0.67516364, -0.70655753, -0.10308294,\n",
       "        0.85763918,  0.27360053, -0.7363082 ,  0.16248685,  0.97466197,\n",
       "       -0.24487696,  0.70577912, -0.44103929, -0.58782528,  0.3695947 ,\n",
       "       -0.81260896, -0.55976063, -0.2242052 , -0.56551863, -0.45041334,\n",
       "        0.63375461, -0.02426159, -0.79022269, -0.70151528, -0.76121449,\n",
       "       -0.30979154,  0.4409987 , -0.03989252,  0.35236994,  0.62323618,\n",
       "       -0.94773384,  0.09847416,  0.8910268 ,  0.20186328, -0.58166978,\n",
       "        0.56799921, -0.94023879, -0.2198652 , -0.39349624,  0.94411302,\n",
       "        0.69417989, -0.36406774, -0.19027571, -0.86561142,  0.67384436,\n",
       "        0.09172807,  0.72848482, -0.53759293,  0.09009926,  0.34881313,\n",
       "        0.10818267,  0.44875297, -0.79636459, -0.97131188, -0.65775985,\n",
       "        0.99261326,  0.96750053, -0.75973975, -0.20688362,  0.49019509])"
      ]
     },
     "execution_count": 95,
     "metadata": {},
     "output_type": "execute_result"
    }
   ],
   "source": [
    "Z = np.random.randint(0,2,100)\n",
    "np.logical_not(Z, out=Z)\n",
    "\n",
    "Z = np.random.uniform(-1.0,1.0,100)\n",
    "np.negative(Z, out=Z)"
   ]
  },
  {
   "cell_type": "markdown",
   "id": "7288634d",
   "metadata": {},
   "source": [
    "#### 78. Consider 2 sets of points P0,P1 describing lines (2d) and a point p, how to compute distance from p to each line i (P0[i],P1[i])? (★★★)"
   ]
  },
  {
   "cell_type": "code",
   "execution_count": null,
   "id": "4602caa6",
   "metadata": {},
   "outputs": [
    {
     "name": "stdout",
     "output_type": "stream",
     "text": [
      "[12.19045497  8.55229332  3.27159963 10.07909902  3.40905527 10.34138245\n",
      "  1.19580288  8.04552212  7.83117487 11.67607695]\n"
     ]
    }
   ],
   "source": [
    "P0 = np.random.uniform(-10,10,(10,2))\n",
    "P1 = np.random.uniform(-10,10,(10,2))\n",
    "p  = np.random.uniform(-10,10,( 1,2))\n",
    "\n",
    "def calulate_distance(P0,P1,p):\n",
    "    v = P1- P0 \n",
    "    v[:,[0,1]] = v[:,[1,0]]\n",
    "    v[:,1]*=-1 \n",
    "    norm = np.linalg.norm(v,axis=1)   \n",
    "    r = P0 - p\n",
    "    d = np.abs(np.einsum(\"ij,ij->i\",r,v)) / norm \n",
    "\n",
    "    return d\n",
    "\n",
    "print(calulate_distance(P0, P1, p))"
   ]
  },
  {
   "cell_type": "markdown",
   "id": "e1880e79",
   "metadata": {},
   "source": [
    "#### 79. Consider 2 sets of points P0,P1 describing lines (2d) and a set of points P, how to compute distance from each point j (P[j]) to each line i (P0[i],P1[i])? (★★★)"
   ]
  },
  {
   "cell_type": "code",
   "execution_count": null,
   "id": "a14e151b",
   "metadata": {},
   "outputs": [
    {
     "name": "stdout",
     "output_type": "stream",
     "text": [
      "[[4.31127182e+00 9.54778402e+00 2.19370245e+00 7.84014159e+00\n",
      "  1.27066249e+01 3.46477444e+00 8.82040880e-01 4.05965484e+00\n",
      "  4.13286135e+00 2.15277556e+00]\n",
      " [1.17662082e+01 1.36917965e+01 1.43528575e+01 1.76236262e+01\n",
      "  1.69692902e+01 5.97936157e-01 1.31778578e+01 8.27307944e+00\n",
      "  2.24934360e+00 1.23136038e+01]\n",
      " [4.02286256e+00 1.07766552e+01 2.64977074e+00 6.26143640e+00\n",
      "  1.38856909e+01 7.16479529e+00 3.87770121e+00 7.73097668e+00\n",
      "  8.71626084e+00 3.35693007e-01]\n",
      " [2.55629175e+00 5.78803318e+00 8.09575824e+00 7.94244475e+00\n",
      "  9.00956095e+00 3.05359739e+00 6.57351561e+00 5.61133758e-01\n",
      "  3.05584199e+00 2.61474322e+00]\n",
      " [6.47878072e+00 1.26747682e+01 3.21741418e-01 9.02402797e+00\n",
      "  1.58055467e+01 7.59723428e+00 1.47050098e+00 4.89352042e+00\n",
      "  8.27732867e+00 3.13674739e+00]\n",
      " [7.13052030e+00 2.66977294e+00 1.97042136e+00 2.11494929e+00\n",
      "  4.97603313e-01 7.26826496e+00 7.36778828e-02 9.51989005e+00\n",
      "  4.35604809e+00 7.43792331e+00]\n",
      " [7.18332407e+00 3.54405531e+00 4.54407605e+00 1.45425678e+00\n",
      "  3.50019014e-01 9.43091932e+00 2.59222220e+00 7.66447213e+00\n",
      "  6.94837224e+00 6.64379721e+00]\n",
      " [3.95763765e+00 7.33125893e+00 7.97557026e+00 9.12121371e+00\n",
      "  1.05502159e+01 1.61797069e+00 6.52798938e+00 1.48606190e-04\n",
      "  1.86985315e+00 3.74133323e+00]\n",
      " [7.54892780e+00 1.38322714e+01 3.47444298e-01 9.94233853e+00\n",
      "  1.69617699e+01 8.63932671e+00 1.44053304e+00 4.41685423e+00\n",
      "  9.11749019e+00 4.01859257e+00]\n",
      " [3.93006650e+00 7.81321076e+00 6.36520612e+00 8.65540024e+00\n",
      "  1.10155437e+01 3.22601309e-01 4.94898496e+00 1.18916485e+00\n",
      "  2.93948874e-01 3.19401972e+00]]\n"
     ]
    }
   ],
   "source": [
    "P0 = np.random.uniform(-10, 10, (10,2))\n",
    "P1 = np.random.uniform(-10,10,(10,2))\n",
    "p = np.random.uniform(-10, 10, (10,2))\n",
    "print(np.array([calulate_distance(P0,P1,p_i) for p_i in p]))"
   ]
  },
  {
   "cell_type": "markdown",
   "id": "b8a2a287",
   "metadata": {},
   "source": [
    "#### 80. Consider an arbitrary array, write a function that extracts a subpart with a fixed shape and centered on a given element (pad with a `fill` value when necessary) (★★★)"
   ]
  },
  {
   "cell_type": "code",
   "execution_count": null,
   "id": "86af1186",
   "metadata": {},
   "outputs": [
    {
     "name": "stdout",
     "output_type": "stream",
     "text": [
      "[[0 0 0 0 0]\n",
      " [0 0 0 0 0]\n",
      " [0 0 0 0 0]\n",
      " [0 0 0 0 0]\n",
      " [0 0 0 0 0]]\n",
      "[9 9]\n",
      "[5 5]\n",
      "[[5 8 0 5 9 4 0 9 9 0]\n",
      " [6 6 8 4 3 8 7 7 2 2]\n",
      " [2 3 1 0 4 0 2 0 4 3]\n",
      " [7 9 4 7 9 3 8 4 1 8]\n",
      " [5 6 2 7 6 1 0 7 5 4]\n",
      " [4 3 8 9 5 0 8 8 2 8]\n",
      " [6 3 4 0 9 7 5 2 2 1]\n",
      " [4 8 5 7 8 4 3 3 0 7]\n",
      " [7 2 5 0 6 8 4 3 7 0]\n",
      " [1 6 6 3 3 9 7 7 5 9]]\n",
      "[[3 0 7 0 0]\n",
      " [3 7 0 0 0]\n",
      " [7 5 9 0 0]\n",
      " [0 0 0 0 0]\n",
      " [0 0 0 0 0]]\n"
     ]
    }
   ],
   "source": [
    "Z = np.random.randint(0,10,(10,10))\n",
    "shape = (5,5)\n",
    "fill  = 0\n",
    "position = (9,9)\n",
    "\n",
    "R = np.ones(shape, dtype=Z.dtype)*fill\n",
    "print(R)\n",
    "P  = np.array(list(position)).astype(int)\n",
    "print(P)\n",
    "Rs = np.array(list(R.shape)).astype(int)\n",
    "print(Rs)\n",
    "Zs = np.array(list(Z.shape)).astype(int)\n",
    "\n",
    "R_start = np.zeros((len(shape),)).astype(int)\n",
    "R_stop  = np.array(list(shape)).astype(int)\n",
    "Z_start = (P-Rs//2)\n",
    "Z_stop  = (P+Rs//2)+Rs%2\n",
    "\n",
    "R_start = (R_start - np.minimum(Z_start,0)).tolist()\n",
    "Z_start = (np.maximum(Z_start,0)).tolist()\n",
    "R_stop = np.maximum(R_start, (R_stop - np.maximum(Z_stop-Zs,0))).tolist()\n",
    "Z_stop = (np.minimum(Z_stop,Zs)).tolist()\n",
    "\n",
    "r = [slice(start,stop) for start,stop in zip(R_start,R_stop)]\n",
    "z = [slice(start,stop) for start,stop in zip(Z_start,Z_stop)]\n",
    "R[tuple(r)] = Z[tuple(z)]\n",
    "print(Z)\n",
    "print(R)"
   ]
  },
  {
   "cell_type": "markdown",
   "id": "caa64150",
   "metadata": {},
   "source": [
    "#### 81. Consider an array Z = [1,2,3,4,5,6,7,8,9,10,11,12,13,14], how to generate an array R = [[1,2,3,4], [2,3,4,5], [3,4,5,6], ..., [11,12,13,14]]? (★★★)"
   ]
  },
  {
   "cell_type": "code",
   "execution_count": 99,
   "id": "4e7cc696",
   "metadata": {},
   "outputs": [
    {
     "name": "stdout",
     "output_type": "stream",
     "text": [
      "[[ 1  2  3  4]\n",
      " [ 2  3  4  5]\n",
      " [ 3  4  5  6]\n",
      " [ 4  5  6  7]\n",
      " [ 5  6  7  8]\n",
      " [ 6  7  8  9]\n",
      " [ 7  8  9 10]\n",
      " [ 8  9 10 11]\n",
      " [ 9 10 11 12]\n",
      " [10 11 12 13]\n",
      " [11 12 13 14]]\n"
     ]
    }
   ],
   "source": [
    "from numpy.lib import stride_tricks\n",
    "\n",
    "Z = np.arange(1,15,dtype=np.uint32)\n",
    "R = stride_tricks.as_strided(Z,(11,4),(4,4)) # 4 is a size of uint32 in bytes\n",
    "print(R)"
   ]
  },
  {
   "cell_type": "markdown",
   "id": "9444c83b",
   "metadata": {},
   "source": [
    "#### 82. Compute a matrix rank (★★★)"
   ]
  },
  {
   "cell_type": "code",
   "execution_count": null,
   "id": "9e5c1d64",
   "metadata": {},
   "outputs": [
    {
     "name": "stdout",
     "output_type": "stream",
     "text": [
      "Singular values: [1.68481034e+01 1.06836951e+00 3.35890790e-16]\n",
      "Rank: 2\n"
     ]
    }
   ],
   "source": [
    "A = np.array([[1, 2, 3], [4, 5, 6], [7, 8, 9]])\n",
    "\n",
    "# Using SVD\n",
    "U, s, Vt = np.linalg.svd(A)\n",
    "\n",
    "rank = np.sum(s > 1e-10) \n",
    "\n",
    "print(f\"Singular values: {s}\")\n",
    "print(f\"Rank: {rank}\")"
   ]
  },
  {
   "cell_type": "code",
   "execution_count": 101,
   "id": "c6bce3a7",
   "metadata": {},
   "outputs": [
    {
     "name": "stdout",
     "output_type": "stream",
     "text": [
      "2\n"
     ]
    }
   ],
   "source": [
    "rank = np.linalg.matrix_rank(A)\n",
    "print(rank)"
   ]
  },
  {
   "cell_type": "markdown",
   "id": "6eef9f33",
   "metadata": {},
   "source": [
    "#### 83. How to find the most frequent value in an array?"
   ]
  },
  {
   "cell_type": "code",
   "execution_count": 102,
   "id": "9fb60e52",
   "metadata": {},
   "outputs": [
    {
     "name": "stdout",
     "output_type": "stream",
     "text": [
      "[7 5 9 4 4 0 7 8 8 3 7 9 6 8 0 0 7 8 6 5 7 5 8 1 3 9 5 3 9 8]\n",
      "8\n"
     ]
    }
   ],
   "source": [
    "A = np.random.randint(0, 10, 30)\n",
    "print(A)\n",
    "print(np.bincount(A).argmax())"
   ]
  },
  {
   "cell_type": "markdown",
   "id": "65f370f9",
   "metadata": {},
   "source": [
    "#### 84. Extract all the contiguous 3x3 blocks from a random 10x10 matrix (★★★)"
   ]
  },
  {
   "cell_type": "code",
   "execution_count": 103,
   "id": "65ade1a6",
   "metadata": {},
   "outputs": [
    {
     "name": "stdout",
     "output_type": "stream",
     "text": [
      "[[[[3 3 1]\n",
      "   [2 3 0]\n",
      "   [0 2 4]]\n",
      "\n",
      "  [[3 1 3]\n",
      "   [3 0 0]\n",
      "   [2 4 4]]\n",
      "\n",
      "  [[1 3 4]\n",
      "   [0 0 0]\n",
      "   [4 4 0]]\n",
      "\n",
      "  [[3 4 3]\n",
      "   [0 0 1]\n",
      "   [4 0 1]]\n",
      "\n",
      "  [[4 3 3]\n",
      "   [0 1 2]\n",
      "   [0 1 2]]\n",
      "\n",
      "  [[3 3 3]\n",
      "   [1 2 2]\n",
      "   [1 2 0]]\n",
      "\n",
      "  [[3 3 3]\n",
      "   [2 2 1]\n",
      "   [2 0 3]]\n",
      "\n",
      "  [[3 3 2]\n",
      "   [2 1 0]\n",
      "   [0 3 0]]]\n",
      "\n",
      "\n",
      " [[[2 3 0]\n",
      "   [0 2 4]\n",
      "   [1 0 1]]\n",
      "\n",
      "  [[3 0 0]\n",
      "   [2 4 4]\n",
      "   [0 1 1]]\n",
      "\n",
      "  [[0 0 0]\n",
      "   [4 4 0]\n",
      "   [1 1 2]]\n",
      "\n",
      "  [[0 0 1]\n",
      "   [4 0 1]\n",
      "   [1 2 0]]\n",
      "\n",
      "  [[0 1 2]\n",
      "   [0 1 2]\n",
      "   [2 0 0]]\n",
      "\n",
      "  [[1 2 2]\n",
      "   [1 2 0]\n",
      "   [0 0 4]]\n",
      "\n",
      "  [[2 2 1]\n",
      "   [2 0 3]\n",
      "   [0 4 2]]\n",
      "\n",
      "  [[2 1 0]\n",
      "   [0 3 0]\n",
      "   [4 2 3]]]\n",
      "\n",
      "\n",
      " [[[0 2 4]\n",
      "   [1 0 1]\n",
      "   [4 3 1]]\n",
      "\n",
      "  [[2 4 4]\n",
      "   [0 1 1]\n",
      "   [3 1 2]]\n",
      "\n",
      "  [[4 4 0]\n",
      "   [1 1 2]\n",
      "   [1 2 1]]\n",
      "\n",
      "  [[4 0 1]\n",
      "   [1 2 0]\n",
      "   [2 1 1]]\n",
      "\n",
      "  [[0 1 2]\n",
      "   [2 0 0]\n",
      "   [1 1 0]]\n",
      "\n",
      "  [[1 2 0]\n",
      "   [0 0 4]\n",
      "   [1 0 1]]\n",
      "\n",
      "  [[2 0 3]\n",
      "   [0 4 2]\n",
      "   [0 1 0]]\n",
      "\n",
      "  [[0 3 0]\n",
      "   [4 2 3]\n",
      "   [1 0 1]]]\n",
      "\n",
      "\n",
      " [[[1 0 1]\n",
      "   [4 3 1]\n",
      "   [2 3 0]]\n",
      "\n",
      "  [[0 1 1]\n",
      "   [3 1 2]\n",
      "   [3 0 0]]\n",
      "\n",
      "  [[1 1 2]\n",
      "   [1 2 1]\n",
      "   [0 0 1]]\n",
      "\n",
      "  [[1 2 0]\n",
      "   [2 1 1]\n",
      "   [0 1 2]]\n",
      "\n",
      "  [[2 0 0]\n",
      "   [1 1 0]\n",
      "   [1 2 4]]\n",
      "\n",
      "  [[0 0 4]\n",
      "   [1 0 1]\n",
      "   [2 4 0]]\n",
      "\n",
      "  [[0 4 2]\n",
      "   [0 1 0]\n",
      "   [4 0 2]]\n",
      "\n",
      "  [[4 2 3]\n",
      "   [1 0 1]\n",
      "   [0 2 2]]]\n",
      "\n",
      "\n",
      " [[[4 3 1]\n",
      "   [2 3 0]\n",
      "   [0 2 2]]\n",
      "\n",
      "  [[3 1 2]\n",
      "   [3 0 0]\n",
      "   [2 2 1]]\n",
      "\n",
      "  [[1 2 1]\n",
      "   [0 0 1]\n",
      "   [2 1 0]]\n",
      "\n",
      "  [[2 1 1]\n",
      "   [0 1 2]\n",
      "   [1 0 2]]\n",
      "\n",
      "  [[1 1 0]\n",
      "   [1 2 4]\n",
      "   [0 2 0]]\n",
      "\n",
      "  [[1 0 1]\n",
      "   [2 4 0]\n",
      "   [2 0 0]]\n",
      "\n",
      "  [[0 1 0]\n",
      "   [4 0 2]\n",
      "   [0 0 1]]\n",
      "\n",
      "  [[1 0 1]\n",
      "   [0 2 2]\n",
      "   [0 1 1]]]\n",
      "\n",
      "\n",
      " [[[2 3 0]\n",
      "   [0 2 2]\n",
      "   [3 1 0]]\n",
      "\n",
      "  [[3 0 0]\n",
      "   [2 2 1]\n",
      "   [1 0 1]]\n",
      "\n",
      "  [[0 0 1]\n",
      "   [2 1 0]\n",
      "   [0 1 3]]\n",
      "\n",
      "  [[0 1 2]\n",
      "   [1 0 2]\n",
      "   [1 3 2]]\n",
      "\n",
      "  [[1 2 4]\n",
      "   [0 2 0]\n",
      "   [3 2 4]]\n",
      "\n",
      "  [[2 4 0]\n",
      "   [2 0 0]\n",
      "   [2 4 2]]\n",
      "\n",
      "  [[4 0 2]\n",
      "   [0 0 1]\n",
      "   [4 2 2]]\n",
      "\n",
      "  [[0 2 2]\n",
      "   [0 1 1]\n",
      "   [2 2 3]]]\n",
      "\n",
      "\n",
      " [[[0 2 2]\n",
      "   [3 1 0]\n",
      "   [0 2 4]]\n",
      "\n",
      "  [[2 2 1]\n",
      "   [1 0 1]\n",
      "   [2 4 2]]\n",
      "\n",
      "  [[2 1 0]\n",
      "   [0 1 3]\n",
      "   [4 2 4]]\n",
      "\n",
      "  [[1 0 2]\n",
      "   [1 3 2]\n",
      "   [2 4 3]]\n",
      "\n",
      "  [[0 2 0]\n",
      "   [3 2 4]\n",
      "   [4 3 2]]\n",
      "\n",
      "  [[2 0 0]\n",
      "   [2 4 2]\n",
      "   [3 2 1]]\n",
      "\n",
      "  [[0 0 1]\n",
      "   [4 2 2]\n",
      "   [2 1 0]]\n",
      "\n",
      "  [[0 1 1]\n",
      "   [2 2 3]\n",
      "   [1 0 1]]]\n",
      "\n",
      "\n",
      " [[[3 1 0]\n",
      "   [0 2 4]\n",
      "   [0 0 2]]\n",
      "\n",
      "  [[1 0 1]\n",
      "   [2 4 2]\n",
      "   [0 2 1]]\n",
      "\n",
      "  [[0 1 3]\n",
      "   [4 2 4]\n",
      "   [2 1 2]]\n",
      "\n",
      "  [[1 3 2]\n",
      "   [2 4 3]\n",
      "   [1 2 3]]\n",
      "\n",
      "  [[3 2 4]\n",
      "   [4 3 2]\n",
      "   [2 3 2]]\n",
      "\n",
      "  [[2 4 2]\n",
      "   [3 2 1]\n",
      "   [3 2 4]]\n",
      "\n",
      "  [[4 2 2]\n",
      "   [2 1 0]\n",
      "   [2 4 2]]\n",
      "\n",
      "  [[2 2 3]\n",
      "   [1 0 1]\n",
      "   [4 2 4]]]]\n"
     ]
    }
   ],
   "source": [
    "Z = np.random.randint(0,5,(10,10))\n",
    "n = 3\n",
    "i = 1 + (Z.shape[0]-3)\n",
    "j = 1 + (Z.shape[1]-3)\n",
    "C = stride_tricks.as_strided(Z, shape=(i, j, n, n), strides=Z.strides + Z.strides)\n",
    "print(C)"
   ]
  },
  {
   "cell_type": "markdown",
   "id": "845ad7f8",
   "metadata": {},
   "source": [
    "#### 85. Create a 2D array subclass such that Z[i,j] == Z[j,i] (★★★)"
   ]
  },
  {
   "cell_type": "code",
   "execution_count": 104,
   "id": "30b1ba71",
   "metadata": {},
   "outputs": [
    {
     "name": "stdout",
     "output_type": "stream",
     "text": [
      "[[ 6  2  8  8  5]\n",
      " [ 2  3  8  5  1]\n",
      " [ 8  8  8 42  3]\n",
      " [ 8  5 42  6  7]\n",
      " [ 5  1  3  7  0]]\n"
     ]
    }
   ],
   "source": [
    "class Symetric(np.ndarray):\n",
    "    def __setitem__(self, index, value):\n",
    "        i,j = index\n",
    "        super(Symetric, self).__setitem__((i,j), value)\n",
    "        super(Symetric, self).__setitem__((j,i), value)\n",
    "\n",
    "def symetric(Z):\n",
    "    return np.asarray(Z + Z.T - np.diag(Z.diagonal())).view(Symetric)\n",
    "\n",
    "S = symetric(np.random.randint(0,10,(5,5)))\n",
    "S[2,3] = 42\n",
    "print(S)"
   ]
  },
  {
   "cell_type": "markdown",
   "id": "adc48f02",
   "metadata": {},
   "source": [
    "#### 86. Consider a set of p matrices with shape (n,n) and a set of p vectors with shape (n,1). How to compute the sum of of the p matrix products at once? (result has shape (n,1)) (★★★)"
   ]
  },
  {
   "cell_type": "code",
   "execution_count": 105,
   "id": "ec798e90",
   "metadata": {},
   "outputs": [
    {
     "name": "stdout",
     "output_type": "stream",
     "text": [
      "[[200.]\n",
      " [200.]\n",
      " [200.]\n",
      " [200.]\n",
      " [200.]\n",
      " [200.]\n",
      " [200.]\n",
      " [200.]\n",
      " [200.]\n",
      " [200.]\n",
      " [200.]\n",
      " [200.]\n",
      " [200.]\n",
      " [200.]\n",
      " [200.]\n",
      " [200.]\n",
      " [200.]\n",
      " [200.]\n",
      " [200.]\n",
      " [200.]]\n"
     ]
    }
   ],
   "source": [
    "p, n = 10, 20\n",
    "M = np.ones((p,n,n))\n",
    "V = np.ones((p,n,1))\n",
    "S = np.tensordot(M, V, axes=[[0, 2], [0, 1]])\n",
    "print(S)"
   ]
  },
  {
   "cell_type": "markdown",
   "id": "9efb34b2",
   "metadata": {},
   "source": [
    "#### 87. Consider a 16x16 array, how to get the block-sum (block size is 4x4)? (★★★)"
   ]
  },
  {
   "cell_type": "code",
   "execution_count": 106,
   "id": "ea79f40b",
   "metadata": {},
   "outputs": [
    {
     "name": "stdout",
     "output_type": "stream",
     "text": [
      "[[16. 16. 16. 16.]\n",
      " [16. 16. 16. 16.]\n",
      " [16. 16. 16. 16.]\n",
      " [16. 16. 16. 16.]]\n"
     ]
    }
   ],
   "source": [
    "Z = np.ones((16,16))\n",
    "k = 4\n",
    "S = np.add.reduceat(np.add.reduceat(Z, np.arange(0, Z.shape[0], k), axis=0),\n",
    "                                       np.arange(0, Z.shape[1], k), axis=1)\n",
    "print(S)"
   ]
  },
  {
   "cell_type": "markdown",
   "id": "a9368578",
   "metadata": {},
   "source": [
    "#### 88. How to implement the Game of Life using numpy arrays? (★★★)"
   ]
  },
  {
   "cell_type": "code",
   "execution_count": null,
   "id": "315e9f11",
   "metadata": {},
   "outputs": [
    {
     "name": "stdout",
     "output_type": "stream",
     "text": [
      "[[0 0 0 0 0 0 0 0 0 0 0 0 0 0 0 0 0 0 0 0 0 0 0 0 0 0 0 0 0 0 0 0 0 0 0 0\n",
      "  0 0 0 0 0 0 0 0 0 0 0 0 0 0]\n",
      " [0 0 0 0 0 0 0 0 0 0 0 0 0 0 0 0 0 0 0 0 0 0 0 0 0 0 0 0 0 0 0 0 0 0 0 0\n",
      "  0 0 0 0 0 0 0 0 0 0 0 0 0 0]\n",
      " [0 0 0 0 0 0 0 0 0 0 0 0 0 0 0 0 0 0 0 0 0 0 0 0 0 0 0 0 0 0 0 0 0 0 0 0\n",
      "  0 0 0 0 0 0 0 0 0 0 0 0 0 0]\n",
      " [0 0 0 0 0 0 0 0 0 0 0 0 0 1 0 0 1 1 1 0 0 0 0 0 0 0 0 0 0 0 0 0 0 0 1 0\n",
      "  0 0 0 0 0 0 0 0 0 0 0 0 0 0]\n",
      " [0 0 0 0 0 0 0 0 0 0 0 0 1 0 1 0 0 0 0 0 0 0 0 0 0 0 0 0 0 0 0 0 0 1 0 0\n",
      "  1 0 0 0 0 0 0 0 0 0 0 0 0 0]\n",
      " [0 0 0 0 0 0 0 0 0 0 0 0 1 0 1 0 1 0 0 1 0 0 0 0 0 0 0 0 0 0 0 0 0 1 0 0\n",
      "  1 0 0 0 0 0 0 0 0 0 0 0 0 0]\n",
      " [0 0 0 0 0 0 0 0 0 0 0 0 1 0 0 0 0 1 1 0 0 0 0 0 0 0 0 0 0 0 0 0 0 0 0 1\n",
      "  0 0 0 0 0 0 0 0 0 0 0 0 0 0]\n",
      " [0 0 0 0 0 0 0 0 0 0 0 0 1 1 0 0 0 0 0 0 0 0 0 0 0 0 0 0 0 0 0 0 0 0 0 0\n",
      "  0 0 0 0 0 0 0 0 0 0 0 0 0 0]\n",
      " [0 0 0 0 0 0 0 0 0 0 0 1 0 1 0 0 0 0 0 0 0 0 0 0 0 0 0 0 0 0 0 0 0 0 0 0\n",
      "  0 0 0 0 0 0 0 0 0 0 0 0 0 0]\n",
      " [0 0 0 0 0 0 0 0 0 0 1 1 0 1 0 0 0 0 0 0 0 0 0 0 0 0 0 0 0 0 0 0 0 0 0 0\n",
      "  0 0 0 0 0 0 0 0 0 0 0 0 0 0]\n",
      " [0 0 0 0 0 0 0 0 0 1 0 0 1 0 0 0 0 0 0 0 0 0 0 0 0 0 0 0 0 0 0 0 0 0 0 0\n",
      "  0 0 0 0 0 0 0 0 0 0 0 0 0 0]\n",
      " [0 0 0 0 0 0 0 0 1 0 0 0 1 0 0 0 0 0 0 0 0 0 0 0 0 0 0 0 0 0 0 0 0 0 0 0\n",
      "  0 0 0 0 0 0 0 0 0 1 1 0 0 0]\n",
      " [0 0 0 0 0 0 0 0 0 0 0 0 0 1 1 0 0 0 0 0 0 0 0 0 0 0 0 0 0 0 0 0 0 0 0 0\n",
      "  0 0 0 0 0 0 0 0 0 1 1 0 0 0]\n",
      " [0 0 0 0 0 0 0 0 0 0 0 0 0 1 0 0 0 0 0 0 0 0 0 0 0 0 0 0 0 0 0 0 0 0 0 0\n",
      "  0 0 0 0 0 0 0 0 0 0 0 0 0 0]\n",
      " [0 0 0 0 0 0 0 0 0 0 0 1 1 1 0 0 0 0 0 0 0 0 0 0 0 0 0 0 0 0 0 0 0 0 0 0\n",
      "  0 0 0 0 0 0 0 0 0 0 0 0 0 0]\n",
      " [0 0 0 0 0 0 1 1 0 0 1 0 1 0 0 0 0 0 0 0 0 0 0 0 0 0 0 0 0 0 0 0 0 0 0 0\n",
      "  1 1 0 0 0 0 0 0 0 0 0 0 0 0]\n",
      " [0 0 0 0 0 1 0 0 1 0 1 1 1 0 0 0 0 0 0 0 0 0 0 0 0 0 0 0 0 0 0 0 0 0 0 0\n",
      "  1 1 0 0 0 0 0 0 0 0 0 0 0 0]\n",
      " [0 0 0 0 0 0 0 0 1 0 0 0 1 0 0 0 0 0 0 0 0 0 0 0 0 0 0 0 0 0 0 0 0 0 0 0\n",
      "  0 0 0 0 0 0 0 0 0 0 0 0 0 0]\n",
      " [0 0 0 0 0 0 1 1 0 0 1 0 1 0 0 0 0 0 0 0 0 0 0 0 0 0 1 1 0 0 0 0 0 0 0 0\n",
      "  0 0 0 0 0 0 0 0 0 0 0 0 0 0]\n",
      " [0 0 0 0 0 0 0 0 0 0 0 1 0 0 0 0 0 0 0 0 0 0 0 0 0 0 0 0 0 0 0 0 0 0 0 0\n",
      "  0 0 0 0 0 0 0 0 0 0 0 0 0 0]\n",
      " [0 0 0 0 0 0 0 0 0 0 0 0 0 0 0 0 0 0 0 0 0 0 0 1 1 0 0 0 0 0 0 0 0 0 0 0\n",
      "  0 0 0 0 0 0 0 0 0 0 1 1 0 0]\n",
      " [0 0 0 0 0 0 0 0 0 0 0 0 0 0 0 0 0 0 0 1 0 0 0 1 1 0 0 0 0 0 0 0 0 0 0 0\n",
      "  0 0 0 0 0 0 0 0 0 0 1 1 0 0]\n",
      " [0 0 0 0 0 0 0 0 0 0 0 0 0 0 1 1 1 0 0 0 1 1 0 0 0 1 1 0 0 0 0 0 0 0 0 0\n",
      "  0 0 0 0 0 0 0 0 0 0 0 0 0 0]\n",
      " [0 0 0 0 0 0 0 0 0 0 0 0 0 0 0 0 1 0 0 0 0 0 0 0 0 1 1 1 1 0 0 0 0 0 0 0\n",
      "  0 0 0 0 0 0 0 0 0 0 0 0 0 0]\n",
      " [0 0 0 0 0 0 0 0 0 0 1 1 0 1 1 1 0 0 0 0 1 0 0 0 0 0 0 1 1 0 0 0 0 0 0 0\n",
      "  0 0 0 0 0 0 0 0 0 0 0 0 0 0]\n",
      " [0 0 0 0 0 0 0 0 0 1 0 0 1 1 1 0 1 0 0 0 1 0 1 0 0 0 1 1 0 0 0 0 0 0 0 0\n",
      "  0 0 0 0 0 0 0 0 0 0 0 0 0 0]\n",
      " [0 0 0 0 0 0 0 0 0 0 1 0 1 0 0 1 1 1 0 1 0 1 1 0 1 1 0 1 0 0 0 0 0 0 0 0\n",
      "  0 0 0 0 0 0 0 0 0 0 0 0 0 0]\n",
      " [0 0 0 0 0 0 0 0 0 0 0 1 0 0 1 0 1 0 1 0 1 1 1 0 0 0 1 0 0 1 1 0 0 0 0 0\n",
      "  0 0 0 0 0 0 0 0 0 0 0 0 0 0]\n",
      " [0 0 0 0 0 0 0 0 0 0 0 0 0 0 0 1 0 1 1 0 1 1 1 1 1 1 1 1 0 1 0 0 0 0 0 0\n",
      "  0 0 0 0 0 0 0 0 0 0 0 0 0 0]\n",
      " [0 0 0 0 0 0 0 0 0 0 0 0 0 1 0 0 0 0 0 0 1 1 1 0 0 0 1 0 1 0 0 0 0 0 0 0\n",
      "  0 0 0 0 0 0 0 0 0 0 0 0 0 0]\n",
      " [0 0 0 0 0 0 0 0 0 0 0 0 0 0 1 1 1 0 0 0 0 0 0 1 0 1 1 1 0 0 0 0 0 0 0 0\n",
      "  0 0 0 0 0 0 0 0 0 0 0 0 0 0]\n",
      " [0 0 0 0 0 0 0 0 0 0 0 1 0 1 0 0 0 0 0 1 0 0 1 0 0 1 0 0 0 0 0 0 0 0 0 0\n",
      "  0 0 0 0 0 0 0 0 0 0 0 0 0 0]\n",
      " [0 0 0 0 0 0 0 0 0 0 1 1 1 0 0 1 1 0 1 1 0 0 1 1 0 0 0 0 0 0 0 0 0 0 0 0\n",
      "  0 0 0 0 0 0 0 0 0 0 0 0 0 0]\n",
      " [0 0 0 0 0 0 0 0 0 0 1 1 0 1 0 1 1 0 1 0 1 1 1 0 0 0 0 0 0 0 0 0 0 0 0 0\n",
      "  0 0 0 0 0 0 0 0 0 0 0 0 0 0]\n",
      " [0 0 0 0 0 0 0 0 0 1 0 0 1 1 0 0 0 1 1 0 1 0 1 1 0 0 0 0 0 1 1 0 0 0 0 0\n",
      "  0 0 0 0 0 0 0 0 0 0 0 0 0 0]\n",
      " [0 0 0 0 0 0 0 0 0 0 1 1 1 0 0 0 0 0 1 0 0 0 1 0 0 0 0 0 0 1 1 0 0 0 0 0\n",
      "  0 0 0 0 0 0 0 0 0 0 0 0 0 0]\n",
      " [0 0 0 0 0 0 0 0 0 0 0 1 0 0 0 0 0 0 1 1 1 1 0 0 0 0 0 0 0 0 0 0 0 0 0 0\n",
      "  0 0 0 0 0 0 0 0 0 0 0 0 0 0]\n",
      " [0 0 0 0 0 0 0 0 0 0 0 0 0 0 0 0 0 0 0 1 0 0 0 0 0 0 0 0 0 0 0 0 0 0 0 0\n",
      "  0 0 0 0 0 0 0 0 0 0 0 0 0 0]\n",
      " [0 0 0 0 0 0 0 0 0 0 0 0 0 0 0 0 0 0 0 0 0 0 0 0 0 0 0 0 0 0 0 0 0 0 0 0\n",
      "  0 0 0 0 0 0 0 0 0 0 0 1 1 0]\n",
      " [0 0 0 0 0 0 0 0 0 0 0 0 0 0 0 0 0 0 0 0 0 0 0 0 0 0 0 0 0 0 0 0 0 0 0 0\n",
      "  0 0 0 0 0 0 0 0 0 0 0 1 1 0]\n",
      " [0 0 0 0 0 0 0 0 0 0 0 0 0 1 1 1 0 0 0 0 0 0 0 0 0 0 0 0 0 0 0 0 0 0 0 0\n",
      "  0 0 0 0 0 0 0 0 0 0 0 0 0 0]\n",
      " [0 0 0 0 0 0 0 0 1 0 0 0 0 0 0 1 1 1 0 0 0 0 0 0 0 0 0 0 0 0 0 0 1 1 0 0\n",
      "  0 0 0 0 0 0 0 0 0 0 0 0 0 0]\n",
      " [0 0 0 0 0 0 0 1 0 1 1 1 0 0 0 0 0 0 0 0 0 0 0 0 0 0 0 0 0 0 0 0 1 1 0 0\n",
      "  0 0 0 0 0 0 0 0 0 0 0 0 0 0]\n",
      " [0 0 0 0 0 0 1 1 1 0 1 0 0 1 0 0 0 0 0 0 0 0 0 0 0 0 0 0 0 0 0 0 0 0 0 0\n",
      "  0 0 0 0 0 0 0 0 0 0 0 0 0 0]\n",
      " [0 0 0 0 0 0 0 1 0 0 1 1 1 0 0 0 0 0 0 0 0 0 0 0 0 0 0 0 0 0 0 0 0 0 0 0\n",
      "  0 0 0 0 0 0 0 0 0 0 0 0 0 0]\n",
      " [0 0 0 0 0 0 0 1 0 0 0 0 0 0 0 0 0 0 0 0 0 0 0 0 0 0 0 0 0 0 0 0 0 0 0 0\n",
      "  0 1 0 0 0 0 0 0 0 0 0 0 0 0]\n",
      " [0 0 0 0 0 0 0 0 1 1 0 0 0 0 0 0 0 1 1 0 0 0 0 0 0 0 0 0 0 0 0 0 0 0 0 0\n",
      "  1 0 1 0 0 0 0 0 0 0 0 0 0 0]\n",
      " [0 0 0 0 0 0 0 0 0 0 0 0 0 0 0 0 0 1 1 0 0 0 0 0 0 0 0 0 0 0 0 0 0 0 0 0\n",
      "  1 0 1 0 0 0 0 0 0 0 0 0 0 0]\n",
      " [0 0 0 0 0 0 0 0 0 0 0 0 0 0 0 0 0 0 0 0 0 0 0 0 0 0 0 0 0 0 0 0 0 0 0 0\n",
      "  0 1 0 0 0 0 0 0 0 0 0 0 0 0]\n",
      " [0 0 0 0 0 0 0 0 0 0 0 0 0 0 0 0 0 0 0 0 0 0 0 0 0 0 0 0 0 0 0 0 0 0 0 0\n",
      "  0 0 0 0 0 0 0 0 0 0 0 0 0 0]]\n"
     ]
    }
   ],
   "source": [
    "def iterate(Z):\n",
    "    N = (Z[0:-2,0:-2] + Z[0:-2,1:-1] + Z[0:-2,2:] +\n",
    "         Z[1:-1,0:-2]                + Z[1:-1,2:] +\n",
    "         Z[2:  ,0:-2] + Z[2:  ,1:-1] + Z[2:  ,2:])\n",
    "\n",
    "    birth = (N==3) & (Z[1:-1,1:-1]==0)\n",
    "    survive = ((N==2) | (N==3)) & (Z[1:-1,1:-1]==1)\n",
    "    Z[...] = 0\n",
    "    Z[1:-1,1:-1][birth | survive] = 1\n",
    "    return Z\n",
    "\n",
    "Z = np.random.randint(0,2,(50,50))\n",
    "for i in range(100): Z = iterate(Z)\n",
    "print(Z)"
   ]
  },
  {
   "cell_type": "markdown",
   "id": "8c598af3",
   "metadata": {},
   "source": [
    "#### 89. How to get the n largest values of an array (★★★)"
   ]
  },
  {
   "cell_type": "code",
   "execution_count": null,
   "id": "cba8d433",
   "metadata": {},
   "outputs": [
    {
     "name": "stdout",
     "output_type": "stream",
     "text": [
      "[9995 9996 9997 9998 9999]\n",
      "[9998 9997 9999 9996 9995]\n"
     ]
    }
   ],
   "source": [
    "Z = np.arange(10000)\n",
    "np.random.shuffle(Z)\n",
    "n = 5\n",
    "\n",
    "print(Z[np.argsort(Z)[-n:]])"
   ]
  },
  {
   "cell_type": "markdown",
   "id": "036a3bb0",
   "metadata": {},
   "source": [
    "#### 90. Given an arbitrary number of vectors, build the cartesian product (every combination of every item) (★★★)"
   ]
  },
  {
   "cell_type": "code",
   "execution_count": null,
   "id": "d712972d",
   "metadata": {},
   "outputs": [
    {
     "name": "stdout",
     "output_type": "stream",
     "text": [
      "[[0 0 0]\n",
      " [0 0 1]\n",
      " [0 1 0]\n",
      " [0 1 1]\n",
      " [1 0 0]\n",
      " [1 0 1]\n",
      " [1 1 0]\n",
      " [1 1 1]\n",
      " [2 0 0]\n",
      " [2 0 1]\n",
      " [2 1 0]\n",
      " [2 1 1]]\n",
      "[[1 4 6]\n",
      " [1 4 7]\n",
      " [1 5 6]\n",
      " [1 5 7]\n",
      " [2 4 6]\n",
      " [2 4 7]\n",
      " [2 5 6]\n",
      " [2 5 7]\n",
      " [3 4 6]\n",
      " [3 4 7]\n",
      " [3 5 6]\n",
      " [3 5 7]]\n"
     ]
    }
   ],
   "source": [
    "def cartesian_product(arrays):\n",
    "    arrays = [np.asarray(a) for a in arrays]\n",
    "    shape = (len(x) for x in arrays)\n",
    "\n",
    "    ix = np.indices(shape, dtype=int)\n",
    "    ix = ix.reshape(len(arrays), -1).T\n",
    "    print(ix)\n",
    "\n",
    "    for n, arr in enumerate(arrays):\n",
    "        ix[:, n] = arrays[n][ix[:, n]]\n",
    "\n",
    "    return ix\n",
    "\n",
    "print (cartesian_product(([1, 2, 3], [4, 5], [6, 7])))"
   ]
  },
  {
   "cell_type": "markdown",
   "id": "36487aab",
   "metadata": {},
   "source": [
    "#### 91. How to create a record array from a regular array? (★★★)"
   ]
  },
  {
   "cell_type": "code",
   "execution_count": 110,
   "id": "9779dbac",
   "metadata": {},
   "outputs": [
    {
     "name": "stdout",
     "output_type": "stream",
     "text": [
      "[(b'Hello', 2.5, 3) (b'World', 3.6, 2)]\n"
     ]
    },
    {
     "name": "stderr",
     "output_type": "stream",
     "text": [
      "/var/folders/t5/ct5bhs3j6k18hj1qyrkwmvj00000gp/T/ipykernel_92501/100570611.py:3: DeprecationWarning: numpy.core is deprecated and has been renamed to numpy._core. The numpy._core namespace contains private NumPy internals and its use is discouraged, as NumPy internals can change without warning in any release. In practice, most real-world usage of numpy.core is to access functionality in the public NumPy API. If that is the case, use the public NumPy API. If not, you are using NumPy internals. If you would still like to access an internal attribute, use numpy._core.records.\n",
      "  R = np.core.records.fromarrays(Z.T,\n"
     ]
    }
   ],
   "source": [
    "Z = np.array([(\"Hello\", 2.5, 3),\n",
    "              (\"World\", 3.6, 2)])\n",
    "R = np.core.records.fromarrays(Z.T,\n",
    "                               names='col1, col2, col3',\n",
    "                               formats = 'S8, f8, i8')\n",
    "print(R)"
   ]
  },
  {
   "cell_type": "markdown",
   "id": "9f178562",
   "metadata": {},
   "source": [
    "#### 92. Consider a large vector Z, compute Z to the power of 3 using 3 different methods (★★★)"
   ]
  },
  {
   "cell_type": "code",
   "execution_count": 111,
   "id": "b08000b8",
   "metadata": {},
   "outputs": [
    {
     "name": "stdout",
     "output_type": "stream",
     "text": [
      "421 ms ± 3.78 ms per loop (mean ± std. dev. of 7 runs, 1 loop each)\n",
      "71.2 ms ± 4.19 ms per loop (mean ± std. dev. of 7 runs, 10 loops each)\n",
      "79.5 ms ± 1.62 ms per loop (mean ± std. dev. of 7 runs, 10 loops each)\n"
     ]
    }
   ],
   "source": [
    "x = np.random.rand(int(5e7))\n",
    "\n",
    "%timeit np.power(x,3)\n",
    "%timeit x*x*x\n",
    "%timeit np.einsum('i,i,i->i',x,x,x)"
   ]
  },
  {
   "cell_type": "markdown",
   "id": "86acaf60",
   "metadata": {},
   "source": [
    "#### 93. Consider two arrays A and B of shape (8,3) and (2,2). How to find rows of A that contain elements of each row of B regardless of the order of the elements in B? (★★★)"
   ]
  },
  {
   "cell_type": "code",
   "execution_count": 112,
   "id": "793b26d4",
   "metadata": {},
   "outputs": [
    {
     "name": "stdout",
     "output_type": "stream",
     "text": [
      "[[[[False False]\n",
      "   [False False]]\n",
      "\n",
      "  [[False  True]\n",
      "   [False  True]]\n",
      "\n",
      "  [[ True False]\n",
      "   [False False]]]\n",
      "\n",
      "\n",
      " [[[False False]\n",
      "   [False False]]\n",
      "\n",
      "  [[False False]\n",
      "   [False False]]\n",
      "\n",
      "  [[False False]\n",
      "   [ True False]]]\n",
      "\n",
      "\n",
      " [[[False  True]\n",
      "   [False  True]]\n",
      "\n",
      "  [[False False]\n",
      "   [ True False]]\n",
      "\n",
      "  [[False  True]\n",
      "   [False  True]]]\n",
      "\n",
      "\n",
      " [[[False False]\n",
      "   [False False]]\n",
      "\n",
      "  [[False False]\n",
      "   [False False]]\n",
      "\n",
      "  [[ True False]\n",
      "   [False False]]]\n",
      "\n",
      "\n",
      " [[[False False]\n",
      "   [False False]]\n",
      "\n",
      "  [[False  True]\n",
      "   [False  True]]\n",
      "\n",
      "  [[False  True]\n",
      "   [False  True]]]\n",
      "\n",
      "\n",
      " [[[False False]\n",
      "   [False False]]\n",
      "\n",
      "  [[ True False]\n",
      "   [False False]]\n",
      "\n",
      "  [[ True False]\n",
      "   [False False]]]\n",
      "\n",
      "\n",
      " [[[False False]\n",
      "   [ True False]]\n",
      "\n",
      "  [[False False]\n",
      "   [ True False]]\n",
      "\n",
      "  [[False False]\n",
      "   [False False]]]\n",
      "\n",
      "\n",
      " [[[ True False]\n",
      "   [False False]]\n",
      "\n",
      "  [[False False]\n",
      "   [False False]]\n",
      "\n",
      "  [[False  True]\n",
      "   [False  True]]]]\n",
      "[0 2 4 7]\n"
     ]
    }
   ],
   "source": [
    "A = np.random.randint(0,5,(8,3))\n",
    "B = np.random.randint(0,5,(2,2))\n",
    "\n",
    "C = (A[..., np.newaxis, np.newaxis] == B)\n",
    "print(C)\n",
    "rows = np.where(C.any((3,1)).all(1))[0]\n",
    "print(rows)"
   ]
  },
  {
   "cell_type": "markdown",
   "id": "c71b9df2",
   "metadata": {},
   "source": [
    "#### 94. Considering a 10x3 matrix, extract rows with unequal values (e.g. [2,2,3]) (★★★)"
   ]
  },
  {
   "cell_type": "code",
   "execution_count": 113,
   "id": "494069f0",
   "metadata": {},
   "outputs": [
    {
     "name": "stdout",
     "output_type": "stream",
     "text": [
      "[[0 1 1]\n",
      " [1 3 4]\n",
      " [3 4 2]\n",
      " [1 2 3]\n",
      " [1 3 1]\n",
      " [2 4 4]\n",
      " [0 3 4]\n",
      " [3 0 3]\n",
      " [4 0 2]]\n"
     ]
    }
   ],
   "source": [
    "Z = np.random.randint(0,5,(10,3))\n",
    "U = Z[Z.max(axis=1) != Z.min(axis=1),:]\n",
    "print(U)"
   ]
  },
  {
   "cell_type": "markdown",
   "id": "1a8ae7c1",
   "metadata": {},
   "source": [
    "#### 95. Convert a vector of ints into a matrix binary representation (★★★)"
   ]
  },
  {
   "cell_type": "code",
   "execution_count": 114,
   "id": "d5e967b8",
   "metadata": {},
   "outputs": [
    {
     "name": "stdout",
     "output_type": "stream",
     "text": [
      "[[0 0 0 0 0 0 0 0]\n",
      " [0 0 0 0 0 0 0 1]\n",
      " [0 0 0 0 0 0 1 0]\n",
      " [0 0 0 0 0 0 1 1]\n",
      " [0 0 0 0 1 1 1 1]\n",
      " [0 0 0 1 0 0 0 0]\n",
      " [0 0 1 0 0 0 0 0]\n",
      " [0 1 0 0 0 0 0 0]\n",
      " [1 0 0 0 0 0 0 0]]\n"
     ]
    }
   ],
   "source": [
    "I = np.array([0, 1, 2, 3, 15, 16, 32, 64, 128], dtype=np.uint8)\n",
    "print(np.unpackbits(I[:, np.newaxis], axis=1))"
   ]
  },
  {
   "cell_type": "markdown",
   "id": "edef1198",
   "metadata": {},
   "source": [
    "#### 96. Given a two dimensional array, how to extract unique rows? (★★★)"
   ]
  },
  {
   "cell_type": "code",
   "execution_count": 115,
   "id": "fa14799b",
   "metadata": {},
   "outputs": [
    {
     "name": "stdout",
     "output_type": "stream",
     "text": [
      "[[0 0 1]\n",
      " [0 1 1]\n",
      " [1 0 1]\n",
      " [1 1 0]\n",
      " [1 1 1]]\n",
      "(5, 3)\n"
     ]
    }
   ],
   "source": [
    "Z = np.random.randint(0,2,(6,3))\n",
    "uZ = np.unique(Z, axis=0)\n",
    "print(uZ)\n",
    "print(uZ.shape)"
   ]
  },
  {
   "cell_type": "markdown",
   "id": "575598a1",
   "metadata": {},
   "source": [
    "#### 97. Considering 2 vectors A & B, write the einsum equivalent of inner, outer, sum, and mul function (★★★)"
   ]
  },
  {
   "cell_type": "code",
   "execution_count": 116,
   "id": "9da72f6e",
   "metadata": {},
   "outputs": [
    {
     "data": {
      "text/plain": [
       "array([[5.82933185e-01, 3.60394267e-01, 4.21205278e-01, 7.80258616e-01,\n",
       "        7.28221588e-01, 4.48395333e-01, 3.29045929e-01, 3.00576260e-01,\n",
       "        5.36489036e-01, 6.75303110e-01],\n",
       "       [6.53427873e-01, 4.03977103e-01, 4.72142050e-01, 8.74616064e-01,\n",
       "        8.16286147e-01, 5.02620226e-01, 3.68837779e-01, 3.36925245e-01,\n",
       "        6.01367187e-01, 7.56968185e-01],\n",
       "       [1.19440610e-03, 7.38433021e-04, 8.63032281e-04, 1.59871779e-03,\n",
       "        1.49209606e-03, 9.18743584e-04, 6.74201566e-04, 6.15868386e-04,\n",
       "        1.09924395e-03, 1.38366828e-03],\n",
       "       [2.36791478e-01, 1.46394635e-01, 1.71096487e-01, 3.16946428e-01,\n",
       "        2.95808629e-01, 1.82141275e-01, 1.33660724e-01, 1.22096149e-01,\n",
       "        2.17925544e-01, 2.74312778e-01],\n",
       "       [3.76036159e-01, 2.32481663e-01, 2.71709381e-01, 5.03326043e-01,\n",
       "        4.69758209e-01, 2.89249031e-01, 2.12259605e-01, 1.93894506e-01,\n",
       "        3.46076157e-01, 4.35621774e-01],\n",
       "       [4.67244570e-01, 2.88870610e-01, 3.37613099e-01, 6.25408900e-01,\n",
       "        5.83699113e-01, 3.59407030e-01, 2.63743646e-01, 2.40924053e-01,\n",
       "        4.30017703e-01, 5.41282809e-01],\n",
       "       [3.75944926e-01, 2.32425258e-01, 2.71643460e-01, 5.03203927e-01,\n",
       "        4.69644237e-01, 2.89178854e-01, 2.12208107e-01, 1.93847464e-01,\n",
       "        3.45992193e-01, 4.35516084e-01],\n",
       "       [5.54238580e-01, 3.42654033e-01, 4.00471652e-01, 7.41850762e-01,\n",
       "        6.92375231e-01, 4.26323289e-01, 3.12848802e-01, 2.85780538e-01,\n",
       "        5.10080622e-01, 6.42061640e-01],\n",
       "       [3.14907145e-02, 1.94689087e-02, 2.27539888e-02, 4.21504590e-02,\n",
       "        3.93393595e-02, 2.42228266e-02, 1.77754358e-02, 1.62374719e-02,\n",
       "        2.89817487e-02, 3.64806431e-02],\n",
       "       [6.56146353e-01, 4.05657784e-01, 4.74106320e-01, 8.78254761e-01,\n",
       "        8.19682171e-01, 5.04711295e-01, 3.70372269e-01, 3.38326967e-01,\n",
       "        6.03869077e-01, 7.60117427e-01]])"
      ]
     },
     "execution_count": 116,
     "metadata": {},
     "output_type": "execute_result"
    }
   ],
   "source": [
    "A = np.random.uniform(0,1,10)\n",
    "B = np.random.uniform(0,1,10)\n",
    "\n",
    "np.einsum('i->', A)       # np.sum(A)\n",
    "np.einsum('i,i->i', A, B) # A * B\n",
    "np.einsum('i,i', A, B)    # np.inner(A, B)\n",
    "np.einsum('i,j->ij', A, B)    # np.outer(A, B)"
   ]
  },
  {
   "cell_type": "markdown",
   "id": "88e2796a",
   "metadata": {},
   "source": [
    "#### 98. Considering a path described by two vectors (X,Y), how to sample it using equidistant samples (★★★)?"
   ]
  },
  {
   "cell_type": "code",
   "execution_count": null,
   "id": "c17314f8",
   "metadata": {},
   "outputs": [],
   "source": [
    "phi = np.arange(0, 10*np.pi, 0.1)\n",
    "a = 1\n",
    "x = a*phi*np.cos(phi)\n",
    "y = a*phi*np.sin(phi)\n",
    "\n",
    "dr = (np.diff(x)**2 + np.diff(y)**2)**.5 \n",
    "r = np.zeros_like(x)\n",
    "r[1:] = np.cumsum(dr)               \n",
    "r_int = np.linspace(0, r.max(), 200) \n",
    "x_int = np.interp(r_int, r, x)       \n",
    "y_int = np.interp(r_int, r, y)"
   ]
  },
  {
   "cell_type": "markdown",
   "id": "8b25b7bd",
   "metadata": {},
   "source": [
    "#### 99. Given an integer n and a 2D array X, select from X the rows which can be interpreted as draws from a multinomial distribution with n degrees, i.e., the rows which only contain integers and which sum to n. (★★★)"
   ]
  },
  {
   "cell_type": "code",
   "execution_count": 118,
   "id": "f0dc48cd",
   "metadata": {},
   "outputs": [
    {
     "name": "stdout",
     "output_type": "stream",
     "text": [
      "[[2. 0. 1. 1.]]\n"
     ]
    }
   ],
   "source": [
    "X = np.asarray([[1.0, 0.0, 3.0, 8.0],\n",
    "                [2.0, 0.0, 1.0, 1.0],\n",
    "                [1.5, 2.5, 1.0, 0.0]])\n",
    "n = 4\n",
    "M = np.logical_and.reduce(np.mod(X, 1) == 0, axis=-1)\n",
    "M &= (X.sum(axis=-1) == n)\n",
    "print(X[M])"
   ]
  },
  {
   "cell_type": "markdown",
   "id": "b7068c76",
   "metadata": {},
   "source": [
    "#### 100. Compute bootstrapped 95% confidence intervals for the mean of a 1D array X (i.e., resample the elements of an array with replacement N times, compute the mean of each sample, and then compute percentiles over the means). (★★★)"
   ]
  },
  {
   "cell_type": "code",
   "execution_count": null,
   "id": "3c234201",
   "metadata": {},
   "outputs": [
    {
     "name": "stdout",
     "output_type": "stream",
     "text": [
      "[-0.36093826  0.05354905]\n"
     ]
    }
   ],
   "source": [
    "X = np.random.randn(100) # random 1D array\n",
    "N = 1000 # number of bootstrap samples\n",
    "idx = np.random.randint(0, X.size, (N, X.size)) # indices to samples\n",
    "means = X[idx].mean(axis=1) # mean of each sample\n",
    "confint = np.percentile(means, [2.5, 97.5]) # confidence interval\n",
    "print(confint)"
   ]
  }
 ],
 "metadata": {
  "kernelspec": {
   "display_name": "venv",
   "language": "python",
   "name": "python3"
  },
  "language_info": {
   "codemirror_mode": {
    "name": "ipython",
    "version": 3
   },
   "file_extension": ".py",
   "mimetype": "text/x-python",
   "name": "python",
   "nbconvert_exporter": "python",
   "pygments_lexer": "ipython3",
   "version": "3.13.7"
  }
 },
 "nbformat": 4,
 "nbformat_minor": 5
}
